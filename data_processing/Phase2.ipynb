{
 "cells": [
  {
   "cell_type": "markdown",
   "id": "09dc2b3b",
   "metadata": {},
   "source": [
    "# 2950 Project Phase 2\n",
    "\n",
    "Flavia Jiang (yj472), Rachel Wang (jw879)"
   ]
  },
  {
   "cell_type": "code",
   "execution_count": 180,
   "id": "df8f4913",
   "metadata": {},
   "outputs": [],
   "source": [
    "import numpy as np\n",
    "import pandas as pd\n",
    "import matplotlib.pyplot as plt\n",
    "import seaborn as sns\n",
    "import datetime\n",
    "from sklearn.linear_model import LinearRegression, LogisticRegression\n",
    "import duckdb"
   ]
  },
  {
   "cell_type": "markdown",
   "id": "567b42ba",
   "metadata": {},
   "source": [
    "## Research Question"
   ]
  },
  {
   "cell_type": "code",
   "execution_count": null,
   "id": "20ccccd3",
   "metadata": {},
   "outputs": [],
   "source": []
  },
  {
   "cell_type": "markdown",
   "id": "6fd70b62",
   "metadata": {},
   "source": [
    "## Data Description"
   ]
  },
  {
   "cell_type": "markdown",
   "id": "45b4d33d",
   "metadata": {},
   "source": [
    "1.What are the observations (rows) and the attributes (columns)?\n",
    "\n",
    "\n",
    "2. Why was this dataset created?\n",
    "This dataset was created to investigate and analyze various aspects of human dating behavior in the context of speed dating. \n",
    "Researchers were interested in understanding how individuals(males and females) make dating decisions, what attributes they \n",
    "consider important, and how different factors influence the outcomes of speed dating encounters.\n",
    "\n",
    "3. Who funded the creation of the dataset?\n",
    "\n",
    "The dataset was collected as part of academic research. \n",
    "\n",
    "4. What processes might have influenced what data was observed and recorded and what was not?\n",
    "\n",
    "Participant Demographics: The age, gender, and demographic characteristics of the participants could influence the data collected. \n",
    "In this study, all subjects are from graduate and professional school of Columbia University.\n",
    "\n",
    "Self-Selection of Participants: Participants in the speed dating experiment were volunteers, which means they self-selected to take part. \n",
    "This self-selection process may have introduced biases, as those who chose to participate might have different preferences or characteristics \n",
    "compared to the general population. This could impact the generalizability of the findings.\n",
    "\n",
    "Experiment Design: The design of the speed dating experiment determined what data could be collected. The researchers structured the experiment, \n",
    "including the number of participants, the number of potential partners, and the available information about each partner. The experimental \n",
    "conditions may not fully represent real-world dating situations.\n",
    "\n",
    "Survey Responses: The data collected was based on surveys and questionnaires filled out by participants. Data collection relied on participants' \n",
    "willingness to respond honestly and accurately, which could be influenced by social desirability bias or other factors.\n",
    "\n",
    "5. What preprocessing was done, and how did the data come to be in the form that you are using?\n",
    "\n",
    "\n",
    "6. If people are involved, were they aware of the data collection, and if so, what purpose did they expect the data to be used for?\n",
    "\n",
    "Participants in the speed dating events would have been aware of the data collection process, as informed consent is a standard practice \n",
    "in research involving human subjects. They would have been informed about the purpose of the data collection, which is typically for academic \n",
    "research. Participants would have expected the data to be used to study dating behavior and potentially contribute to our understanding of human \n",
    "interactions and preferences.\n",
    "\n",
    "7. Where can your raw source data be found, if applicable? Provide a link to the raw data\n",
    "\n",
    "Link to the dataset and the documentation: http://www.stat.columbia.edu/~gelman/arm/examples/speed.dating/ \n"
   ]
  },
  {
   "cell_type": "markdown",
   "id": "e8636c1c",
   "metadata": {},
   "source": [
    "## Data Cleaning"
   ]
  },
  {
   "cell_type": "markdown",
   "id": "abaa6b13",
   "metadata": {},
   "source": [
    "Firstly, load the data."
   ]
  },
  {
   "cell_type": "code",
   "execution_count": 181,
   "id": "4c0adc51",
   "metadata": {},
   "outputs": [
    {
     "data": {
      "text/plain": [
       "(8378, 195)"
      ]
     },
     "execution_count": 181,
     "metadata": {},
     "output_type": "execute_result"
    }
   ],
   "source": [
    "dating_df = pd.read_csv(\"speed_dating_data.csv\", encoding=\"ISO-8859-1\")\n",
    "dating_df.shape"
   ]
  },
  {
   "cell_type": "markdown",
   "id": "87cab65e",
   "metadata": {},
   "source": [
    "### Remove unnecessary columns\n",
    "The data set is super wide, and there are so many variables. So we went through the variable codebook made by the creators of this data set and removed variables we currently think would be definitely unnecessary for our future analysis."
   ]
  },
  {
   "cell_type": "code",
   "execution_count": 182,
   "id": "563653ad",
   "metadata": {},
   "outputs": [
    {
     "data": {
      "text/plain": [
       "(8378, 47)"
      ]
     },
     "execution_count": 182,
     "metadata": {},
     "output_type": "execute_result"
    }
   ],
   "source": [
    "select_list = ['iid', 'gender', 'wave', 'round','pid', \n",
    "       'samerace', 'age_o', 'age', 'field_cd', 'race',\n",
    "       'career_c', 'sports', 'tvsports', 'exercise', 'dining',\n",
    "       'museums', 'art', 'hiking', 'gaming', 'clubbing', 'reading', 'tv',\n",
    "       'theater', 'movies', 'concerts', 'music', 'shopping', 'yoga', 'attr1_1',\n",
    "       'sinc1_1', 'intel1_1', 'fun1_1', 'amb1_1', 'shar1_1', 'attr3_1',\n",
    "       'sinc3_1', 'fun3_1', 'intel3_1', 'amb3_1', 'dec', 'attr', 'sinc',\n",
    "       'intel', 'fun', 'amb', 'shar', 'prob']\n",
    "\n",
    "dating_df = dating_df[select_list]\n",
    "dating_df.shape"
   ]
  },
  {
   "cell_type": "markdown",
   "id": "ccfdfc63",
   "metadata": {},
   "source": [
    "### Rename columns\n",
    "Now, we still have many columns. Certainly, we won't use all of them, but we kept them there because they are potential predictors that might help train the model. And we don't want to restrict ourselves to a specific set of variables. \n",
    "\n",
    "Though we did not do any web scraping or merge data sets to get this data frame, one main effort we made was to interpret the meaning of each variable -- carefully reading through the 15-paged variable codebook. We noticed that some of the names of the given variable names were vague. So, we decided to change them so they conveyed more straightforward information about the variables. "
   ]
  },
  {
   "cell_type": "code",
   "execution_count": 183,
   "id": "5736c77c",
   "metadata": {},
   "outputs": [
    {
     "data": {
      "text/html": [
       "<div>\n",
       "<style scoped>\n",
       "    .dataframe tbody tr th:only-of-type {\n",
       "        vertical-align: middle;\n",
       "    }\n",
       "\n",
       "    .dataframe tbody tr th {\n",
       "        vertical-align: top;\n",
       "    }\n",
       "\n",
       "    .dataframe thead th {\n",
       "        text-align: right;\n",
       "    }\n",
       "</style>\n",
       "<table border=\"1\" class=\"dataframe\">\n",
       "  <thead>\n",
       "    <tr style=\"text-align: right;\">\n",
       "      <th></th>\n",
       "      <th>id</th>\n",
       "      <th>gender</th>\n",
       "      <th>wave</th>\n",
       "      <th>num_dates</th>\n",
       "      <th>partner_id</th>\n",
       "      <th>same_race</th>\n",
       "      <th>partner_age</th>\n",
       "      <th>age</th>\n",
       "      <th>field_cd</th>\n",
       "      <th>race</th>\n",
       "      <th>...</th>\n",
       "      <th>intel3_1</th>\n",
       "      <th>amb3_1</th>\n",
       "      <th>dec</th>\n",
       "      <th>attr</th>\n",
       "      <th>sinc</th>\n",
       "      <th>intel</th>\n",
       "      <th>fun</th>\n",
       "      <th>amb</th>\n",
       "      <th>shar</th>\n",
       "      <th>prob</th>\n",
       "    </tr>\n",
       "  </thead>\n",
       "  <tbody>\n",
       "    <tr>\n",
       "      <th>0</th>\n",
       "      <td>1</td>\n",
       "      <td>0</td>\n",
       "      <td>1</td>\n",
       "      <td>10</td>\n",
       "      <td>11.0</td>\n",
       "      <td>0</td>\n",
       "      <td>27.0</td>\n",
       "      <td>21.0</td>\n",
       "      <td>1.0</td>\n",
       "      <td>4.0</td>\n",
       "      <td>...</td>\n",
       "      <td>8.0</td>\n",
       "      <td>7.0</td>\n",
       "      <td>1</td>\n",
       "      <td>6.0</td>\n",
       "      <td>9.0</td>\n",
       "      <td>7.0</td>\n",
       "      <td>7.0</td>\n",
       "      <td>6.0</td>\n",
       "      <td>5.0</td>\n",
       "      <td>6.0</td>\n",
       "    </tr>\n",
       "    <tr>\n",
       "      <th>1</th>\n",
       "      <td>1</td>\n",
       "      <td>0</td>\n",
       "      <td>1</td>\n",
       "      <td>10</td>\n",
       "      <td>12.0</td>\n",
       "      <td>0</td>\n",
       "      <td>22.0</td>\n",
       "      <td>21.0</td>\n",
       "      <td>1.0</td>\n",
       "      <td>4.0</td>\n",
       "      <td>...</td>\n",
       "      <td>8.0</td>\n",
       "      <td>7.0</td>\n",
       "      <td>1</td>\n",
       "      <td>7.0</td>\n",
       "      <td>8.0</td>\n",
       "      <td>7.0</td>\n",
       "      <td>8.0</td>\n",
       "      <td>5.0</td>\n",
       "      <td>6.0</td>\n",
       "      <td>5.0</td>\n",
       "    </tr>\n",
       "    <tr>\n",
       "      <th>2</th>\n",
       "      <td>1</td>\n",
       "      <td>0</td>\n",
       "      <td>1</td>\n",
       "      <td>10</td>\n",
       "      <td>13.0</td>\n",
       "      <td>1</td>\n",
       "      <td>22.0</td>\n",
       "      <td>21.0</td>\n",
       "      <td>1.0</td>\n",
       "      <td>4.0</td>\n",
       "      <td>...</td>\n",
       "      <td>8.0</td>\n",
       "      <td>7.0</td>\n",
       "      <td>1</td>\n",
       "      <td>5.0</td>\n",
       "      <td>8.0</td>\n",
       "      <td>9.0</td>\n",
       "      <td>8.0</td>\n",
       "      <td>5.0</td>\n",
       "      <td>7.0</td>\n",
       "      <td>NaN</td>\n",
       "    </tr>\n",
       "    <tr>\n",
       "      <th>3</th>\n",
       "      <td>1</td>\n",
       "      <td>0</td>\n",
       "      <td>1</td>\n",
       "      <td>10</td>\n",
       "      <td>14.0</td>\n",
       "      <td>0</td>\n",
       "      <td>23.0</td>\n",
       "      <td>21.0</td>\n",
       "      <td>1.0</td>\n",
       "      <td>4.0</td>\n",
       "      <td>...</td>\n",
       "      <td>8.0</td>\n",
       "      <td>7.0</td>\n",
       "      <td>1</td>\n",
       "      <td>7.0</td>\n",
       "      <td>6.0</td>\n",
       "      <td>8.0</td>\n",
       "      <td>7.0</td>\n",
       "      <td>6.0</td>\n",
       "      <td>8.0</td>\n",
       "      <td>6.0</td>\n",
       "    </tr>\n",
       "    <tr>\n",
       "      <th>4</th>\n",
       "      <td>1</td>\n",
       "      <td>0</td>\n",
       "      <td>1</td>\n",
       "      <td>10</td>\n",
       "      <td>15.0</td>\n",
       "      <td>0</td>\n",
       "      <td>24.0</td>\n",
       "      <td>21.0</td>\n",
       "      <td>1.0</td>\n",
       "      <td>4.0</td>\n",
       "      <td>...</td>\n",
       "      <td>8.0</td>\n",
       "      <td>7.0</td>\n",
       "      <td>1</td>\n",
       "      <td>5.0</td>\n",
       "      <td>6.0</td>\n",
       "      <td>7.0</td>\n",
       "      <td>7.0</td>\n",
       "      <td>6.0</td>\n",
       "      <td>6.0</td>\n",
       "      <td>6.0</td>\n",
       "    </tr>\n",
       "  </tbody>\n",
       "</table>\n",
       "<p>5 rows × 47 columns</p>\n",
       "</div>"
      ],
      "text/plain": [
       "   id  gender  wave  num_dates  partner_id  same_race  partner_age   age  \\\n",
       "0   1       0     1         10        11.0          0         27.0  21.0   \n",
       "1   1       0     1         10        12.0          0         22.0  21.0   \n",
       "2   1       0     1         10        13.0          1         22.0  21.0   \n",
       "3   1       0     1         10        14.0          0         23.0  21.0   \n",
       "4   1       0     1         10        15.0          0         24.0  21.0   \n",
       "\n",
       "   field_cd  race  ...  intel3_1  amb3_1  dec  attr  sinc  intel  fun  amb  \\\n",
       "0       1.0   4.0  ...       8.0     7.0    1   6.0   9.0    7.0  7.0  6.0   \n",
       "1       1.0   4.0  ...       8.0     7.0    1   7.0   8.0    7.0  8.0  5.0   \n",
       "2       1.0   4.0  ...       8.0     7.0    1   5.0   8.0    9.0  8.0  5.0   \n",
       "3       1.0   4.0  ...       8.0     7.0    1   7.0   6.0    8.0  7.0  6.0   \n",
       "4       1.0   4.0  ...       8.0     7.0    1   5.0   6.0    7.0  7.0  6.0   \n",
       "\n",
       "   shar  prob  \n",
       "0   5.0   6.0  \n",
       "1   6.0   5.0  \n",
       "2   7.0   NaN  \n",
       "3   8.0   6.0  \n",
       "4   6.0   6.0  \n",
       "\n",
       "[5 rows x 47 columns]"
      ]
     },
     "execution_count": 183,
     "metadata": {},
     "output_type": "execute_result"
    }
   ],
   "source": [
    "dating_df = dating_df.rename(columns = {\"iid\":\"id\",\n",
    "                                        \"age_o\":\"partner_age\",\n",
    "                                        \"round\": \"num_dates\", \n",
    "                                        \"pid\": \"partner_id\", \n",
    "                                        \"samerace\": \"same_race\"})\n",
    "dating_df.head()"
   ]
  },
  {
   "cell_type": "markdown",
   "id": "1eb599d3",
   "metadata": {},
   "source": [
    "### Remove biased data points\n",
    "As described in Data Description part, the researchers ran 21 speed dating sessions, or waves, in total. However, as they explained in their paper, they removed four sessions (waves 18-21) from the analysis \"because they involved an experimental intervention where participants were asked to bring their favorite book. These four sessions were run specifically to study how decision weights and selectivity would be affected by an intervention designed to shift subjects’ attention away from superficial physical attributes. The inclusion of these four sessions does not alter the results reported below; they are omitted so that the only experimental difference across sessions is group size.\" Accordingly we also removed data for these four sessions. \n",
    "\n",
    "The researchers also said they removed another wave (#12) because they \"imposed a maximum number of acceptances\" on participants of this wave. We thought this restriction would affect participants' decisions, so we also removed this wave."
   ]
  },
  {
   "cell_type": "code",
   "execution_count": 184,
   "id": "7076d1e8",
   "metadata": {},
   "outputs": [
    {
     "data": {
      "text/plain": [
       "(6412, 47)"
      ]
     },
     "execution_count": 184,
     "metadata": {},
     "output_type": "execute_result"
    }
   ],
   "source": [
    "dating_df = dating_df[~dating_df['wave'].isin([12, 18, 19, 20, 21])]\n",
    "dating_df.shape"
   ]
  },
  {
   "cell_type": "markdown",
   "id": "4a07474a",
   "metadata": {},
   "source": [
    "The researchers also mentioned they removed two more sessions from their analysis because they thought their participants were too few. We thought this was not a big concern as of now. So we decided to keep them.\n",
    "\n",
    "We had another concern, which the researchers did not address in their analysis. We noitced that for many of the survey questions, the researchers let participants of waves 6-9 rate the importance of six attributes separately on a scale of 1-10 and let participants of other waves distribute 100 points to these six attributes. Let's investigate this in the dataset with an example involving variables attr1_1, sinc1_1, intel1_1, fun1_1, amb1_1, shar1_1. "
   ]
  },
  {
   "cell_type": "code",
   "execution_count": 185,
   "id": "74b737a5",
   "metadata": {},
   "outputs": [
    {
     "data": {
      "text/html": [
       "<div>\n",
       "<style scoped>\n",
       "    .dataframe tbody tr th:only-of-type {\n",
       "        vertical-align: middle;\n",
       "    }\n",
       "\n",
       "    .dataframe tbody tr th {\n",
       "        vertical-align: top;\n",
       "    }\n",
       "\n",
       "    .dataframe thead th {\n",
       "        text-align: right;\n",
       "    }\n",
       "</style>\n",
       "<table border=\"1\" class=\"dataframe\">\n",
       "  <thead>\n",
       "    <tr style=\"text-align: right;\">\n",
       "      <th></th>\n",
       "      <th>attr1_1</th>\n",
       "      <th>sinc1_1</th>\n",
       "      <th>intel1_1</th>\n",
       "      <th>fun1_1</th>\n",
       "      <th>amb1_1</th>\n",
       "      <th>shar1_1</th>\n",
       "    </tr>\n",
       "  </thead>\n",
       "  <tbody>\n",
       "    <tr>\n",
       "      <th>1846</th>\n",
       "      <td>16.67</td>\n",
       "      <td>16.67</td>\n",
       "      <td>16.67</td>\n",
       "      <td>16.67</td>\n",
       "      <td>16.67</td>\n",
       "      <td>16.67</td>\n",
       "    </tr>\n",
       "    <tr>\n",
       "      <th>1847</th>\n",
       "      <td>16.67</td>\n",
       "      <td>16.67</td>\n",
       "      <td>16.67</td>\n",
       "      <td>16.67</td>\n",
       "      <td>16.67</td>\n",
       "      <td>16.67</td>\n",
       "    </tr>\n",
       "    <tr>\n",
       "      <th>1848</th>\n",
       "      <td>16.67</td>\n",
       "      <td>16.67</td>\n",
       "      <td>16.67</td>\n",
       "      <td>16.67</td>\n",
       "      <td>16.67</td>\n",
       "      <td>16.67</td>\n",
       "    </tr>\n",
       "    <tr>\n",
       "      <th>1849</th>\n",
       "      <td>16.67</td>\n",
       "      <td>16.67</td>\n",
       "      <td>16.67</td>\n",
       "      <td>16.67</td>\n",
       "      <td>16.67</td>\n",
       "      <td>16.67</td>\n",
       "    </tr>\n",
       "    <tr>\n",
       "      <th>1850</th>\n",
       "      <td>16.67</td>\n",
       "      <td>16.67</td>\n",
       "      <td>16.67</td>\n",
       "      <td>16.67</td>\n",
       "      <td>16.67</td>\n",
       "      <td>16.67</td>\n",
       "    </tr>\n",
       "  </tbody>\n",
       "</table>\n",
       "</div>"
      ],
      "text/plain": [
       "      attr1_1  sinc1_1  intel1_1  fun1_1  amb1_1  shar1_1\n",
       "1846    16.67    16.67     16.67   16.67   16.67    16.67\n",
       "1847    16.67    16.67     16.67   16.67   16.67    16.67\n",
       "1848    16.67    16.67     16.67   16.67   16.67    16.67\n",
       "1849    16.67    16.67     16.67   16.67   16.67    16.67\n",
       "1850    16.67    16.67     16.67   16.67   16.67    16.67"
      ]
     },
     "execution_count": 185,
     "metadata": {},
     "output_type": "execute_result"
    }
   ],
   "source": [
    "temp = dating_df[(dating_df['wave'] > 5) & (dating_df['wave'] < 10)]\n",
    "temp[['attr1_1', 'sinc1_1', 'intel1_1', 'fun1_1', 'amb1_1', 'shar1_1']].head()"
   ]
  },
  {
   "cell_type": "markdown",
   "id": "24fde2e0",
   "metadata": {},
   "source": [
    "As we could infer from the values, the researchers converted the data for waves 6-9 so that for each set of variables for six attributes, they added up to 100 points. For example, if a participant of wave 6 rated these six attributes all as very important (that is, answered 10s to these six questions), it would be converted to (16.67, 16.67, 16.67, 16.67, 16.67, 16.67) so they summed to 100.\n",
    "\n",
    "They did this so that they could still include waves 6-9 in the analysis. But this rude conversion could be problemetic. The simple logic is that the participant in the above example might think all six attributes were very important but not equally important. Then the adjusted data was not an accurate representation of the participant's beliefs.\n",
    "\n",
    "Note that there were many sets of six variables like this because the researchers asked the participants to rate the importance of six attributes in different settings. And we were quite sure we would use at least one set of variable like this. So we decided to remove waves 6-9 from our analysis."
   ]
  },
  {
   "cell_type": "code",
   "execution_count": 186,
   "id": "87ee2ae7",
   "metadata": {},
   "outputs": [
    {
     "data": {
      "text/plain": [
       "(4850, 47)"
      ]
     },
     "execution_count": 186,
     "metadata": {},
     "output_type": "execute_result"
    }
   ],
   "source": [
    "dating_df = dating_df[~dating_df['wave'].isin([6, 7, 8, 9])]\n",
    "dating_df.shape"
   ]
  },
  {
   "cell_type": "markdown",
   "id": "c6ec43bf",
   "metadata": {},
   "source": [
    "We know so far we had removed about half of the rows from the dataframe. But we still have 4000+ data points, which from a statistical standpoint are enough for regression and inference."
   ]
  },
  {
   "cell_type": "markdown",
   "id": "52ecfc88",
   "metadata": {},
   "source": [
    "### Deal with missing values\n",
    "We noticed for some variables there were many missing values due to how the experiment was designed and conducted. For each variable with missing values, we re-examined whether we still thought it would be a potential good predictor in our future modeling given the fact that including it would make the model less robust. We made decisions between keeping or removing the columns accordingly."
   ]
  },
  {
   "cell_type": "code",
   "execution_count": 187,
   "id": "602bb8b0",
   "metadata": {},
   "outputs": [
    {
     "name": "stdout",
     "output_type": "stream",
     "text": [
      "['partner_id', 10]\n",
      "['partner_age', 77]\n",
      "['age', 68]\n",
      "['field_cd', 77]\n",
      "['race', 58]\n",
      "['career_c', 133]\n",
      "['sports', 74]\n",
      "['tvsports', 74]\n",
      "['exercise', 74]\n",
      "['dining', 74]\n",
      "['museums', 74]\n",
      "['art', 74]\n",
      "['hiking', 74]\n",
      "['gaming', 74]\n",
      "['clubbing', 74]\n",
      "['reading', 74]\n",
      "['tv', 74]\n",
      "['theater', 74]\n",
      "['movies', 74]\n",
      "['concerts', 74]\n",
      "['music', 74]\n",
      "['shopping', 74]\n",
      "['yoga', 74]\n",
      "['attr1_1', 74]\n",
      "['sinc1_1', 74]\n",
      "['intel1_1', 74]\n",
      "['fun1_1', 84]\n",
      "['amb1_1', 94]\n",
      "['shar1_1', 94]\n",
      "['attr3_1', 100]\n",
      "['sinc3_1', 100]\n",
      "['fun3_1', 100]\n",
      "['intel3_1', 100]\n",
      "['amb3_1', 100]\n",
      "['attr', 122]\n",
      "['sinc', 172]\n",
      "['intel', 178]\n",
      "['fun', 205]\n",
      "['amb', 425]\n",
      "['shar', 652]\n",
      "['prob', 167]\n"
     ]
    }
   ],
   "source": [
    "for col in dating_df:\n",
    "    n = sum(pd.isna(dating_df[col]))\n",
    "    if (n > 0):\n",
    "        print([col, n])"
   ]
  },
  {
   "cell_type": "markdown",
   "id": "114e4deb",
   "metadata": {},
   "source": [
    "Next, let's see how many rows would be left if all rows with any missing values were dropped."
   ]
  },
  {
   "cell_type": "code",
   "execution_count": 188,
   "id": "3469273e",
   "metadata": {},
   "outputs": [
    {
     "data": {
      "text/plain": [
       "(3799, 47)"
      ]
     },
     "execution_count": 188,
     "metadata": {},
     "output_type": "execute_result"
    }
   ],
   "source": [
    "dating_df = dating_df.dropna()\n",
    "dating_df.shape"
   ]
  },
  {
   "cell_type": "markdown",
   "id": "b0cb0e5e",
   "metadata": {},
   "source": [
    "### Map coded categorical variables to their corresponding values"
   ]
  },
  {
   "cell_type": "markdown",
   "id": "c88ac9d7",
   "metadata": {},
   "source": [
    "We also noticed that some categorical variables were coded as integers (e.g., field, race, career). This was for data storage and system performance reasons. For our purposes, we thought it would be better if these variables were presented as the actual values rather than the integer codes so that we could visualize and analyze them more efficiently. So we did the following conversion."
   ]
  },
  {
   "cell_type": "code",
   "execution_count": 189,
   "id": "36643b3a",
   "metadata": {},
   "outputs": [],
   "source": [
    "## F: categorical variable mapping: field, race, career\n",
    "dating_df[\"field\"] = dating_df[\"field_cd\"].map({1:\"Law\", 2:\"Math\", 3:\"Social Science, Psychologist\", \n",
    "                                                4:\"Medical Science, Pharmaceuticals, and Bio Tech\", \n",
    "                                                5:\"Engineering\", 6:\"English/Creative Writing/Journalism\", \n",
    "                                                7:\"History/Religion/Philosophy\", 8:\"Business/Econ/Finance\", \n",
    "                                                9:\"Education, Academia\", 10:\"Biological Sciences/Chemistry/Physics\", \n",
    "                                                11:\"Social Work\", 12:\"Undergrad/undecided\", \n",
    "                                                13:\"Political Science/International Affairs\", 14:\"Film\", \n",
    "                                                15:\"Fine Arts/Arts Administration\", 16:\"Languages\", \n",
    "                                                17:\"Architecture\", 18:\"Other\"})"
   ]
  },
  {
   "cell_type": "markdown",
   "id": "f3deba2a",
   "metadata": {},
   "source": [
    "### Convert data types"
   ]
  },
  {
   "cell_type": "code",
   "execution_count": 190,
   "id": "8449f34b",
   "metadata": {},
   "outputs": [],
   "source": [
    "# R: correct datatype (e.g. partner_id ...)"
   ]
  },
  {
   "cell_type": "markdown",
   "id": "e2510a11",
   "metadata": {},
   "source": [
    "### Remove inaccurate data points"
   ]
  },
  {
   "cell_type": "code",
   "execution_count": 191,
   "id": "a5698d63",
   "metadata": {},
   "outputs": [],
   "source": [
    "# R: verify 100 points ('attr1_1','sinc1_1', 'intel1_1', 'fun1_1', 'amb1_1', 'shar1_1', 'attr3_1', 'sinc3_1', 'fun3_1', 'intel3_1', 'amb3_1', 'attr', 'sinc','intel', 'fun', 'amb', 'shar')"
   ]
  },
  {
   "cell_type": "markdown",
   "id": "d677617b",
   "metadata": {},
   "source": [
    "## Data Limitations\n"
   ]
  },
  {
   "cell_type": "markdown",
   "id": "49819de6",
   "metadata": {},
   "source": [
    "## Descriptive Analysis"
   ]
  },
  {
   "cell_type": "code",
   "execution_count": 192,
   "id": "c11f3cb9",
   "metadata": {},
   "outputs": [
    {
     "data": {
      "text/plain": [
       "(3799, 48)"
      ]
     },
     "execution_count": 192,
     "metadata": {},
     "output_type": "execute_result"
    }
   ],
   "source": [
    "# R: general: dimension\n",
    "dating_df.shape"
   ]
  },
  {
   "cell_type": "code",
   "execution_count": 193,
   "id": "0260d04b",
   "metadata": {},
   "outputs": [],
   "source": [
    "# R: one-variable: mean, sd, #observations\n",
    "# for numerical variable: dating_df.describe()"
   ]
  },
  {
   "cell_type": "code",
   "execution_count": 194,
   "id": "0ed91864",
   "metadata": {},
   "outputs": [],
   "source": [
    "# R: one-variable: plot distribution\n",
    "# histogram for numeric variable (reference: kaggle example)\n",
    "# pie chart for categorical variable (reference: discussion example)"
   ]
  },
  {
   "cell_type": "code",
   "execution_count": 195,
   "id": "24551206",
   "metadata": {},
   "outputs": [],
   "source": [
    "# F: two variable\n",
    "# change over Time1, during event, Time 2, Time 3\n",
    "# correlation"
   ]
  }
 ],
 "metadata": {
  "kernelspec": {
   "display_name": "Python 3 (ipykernel)",
   "language": "python",
   "name": "python3"
  },
  "language_info": {
   "codemirror_mode": {
    "name": "ipython",
    "version": 3
   },
   "file_extension": ".py",
   "mimetype": "text/x-python",
   "name": "python",
   "nbconvert_exporter": "python",
   "pygments_lexer": "ipython3",
   "version": "3.11.5"
  },
  "vscode": {
   "interpreter": {
    "hash": "aee8b7b246df8f9039afb4144a1f6fd8d2ca17a180786b69acc140d282b71a49"
   }
  }
 },
 "nbformat": 4,
 "nbformat_minor": 5
}
