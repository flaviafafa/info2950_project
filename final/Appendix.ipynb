{
 "cells": [
  {
   "cell_type": "markdown",
   "id": "e8636c1c",
   "metadata": {},
   "source": [
    "# Data Cleaning"
   ]
  },
  {
   "cell_type": "code",
   "execution_count": 147,
   "id": "df8f4913",
   "metadata": {},
   "outputs": [],
   "source": [
    "import numpy as np\n",
    "import pandas as pd\n",
    "import matplotlib.pyplot as plt\n",
    "import seaborn as sns\n",
    "import datetime\n",
    "from sklearn.linear_model import LinearRegression, LogisticRegression\n",
    "import duckdb"
   ]
  },
  {
   "cell_type": "markdown",
   "id": "abaa6b13",
   "metadata": {},
   "source": [
    "Firstly, load the data. The data set is wide and long, with 8378 rows and 195 columns."
   ]
  },
  {
   "cell_type": "code",
   "execution_count": 148,
   "id": "4c0adc51",
   "metadata": {},
   "outputs": [
    {
     "data": {
      "text/plain": [
       "(8378, 195)"
      ]
     },
     "execution_count": 148,
     "metadata": {},
     "output_type": "execute_result"
    }
   ],
   "source": [
    "dating_df = pd.read_csv(\"speed_dating_data.csv\", encoding=\"ISO-8859-1\")\n",
    "dating_df.shape"
   ]
  },
  {
   "cell_type": "markdown",
   "id": "87cab65e",
   "metadata": {},
   "source": [
    "### Select necessary columns\n",
    "The data set is super wide, and there are so many variables. So we went through the codebook made by the creators of this data set and selected variables we currently think would be necessary for our future analysis. Now we still have 21 columns. \n",
    "\n",
    "Certainly, we won't use all of them at once in a logistic regression model. For example, demographic information about the participants such as \"race\" and \"field\" will be mainly used in descriptive statistics for us to know about the subject population and detect sampling bias of the study rather than using them as explanatory variables in the model."
   ]
  },
  {
   "cell_type": "code",
   "execution_count": 149,
   "id": "563653ad",
   "metadata": {},
   "outputs": [
    {
     "data": {
      "text/plain": [
       "(8378, 21)"
      ]
     },
     "execution_count": 149,
     "metadata": {},
     "output_type": "execute_result"
    }
   ],
   "source": [
    "select_list = ['iid', 'gender', 'wave', 'round', 'pid',\n",
    "               'age', 'field_cd', 'race','career_c',\n",
    "               'attr3_1','sinc3_1', 'fun3_1', 'intel3_1', 'amb3_1', \n",
    "               'dec', 'attr', 'sinc','intel', 'fun', 'amb', 'shar']\n",
    "\n",
    "dating_df = dating_df[select_list]\n",
    "dating_df.shape"
   ]
  },
  {
   "cell_type": "markdown",
   "id": "ccfdfc63",
   "metadata": {},
   "source": [
    "### Rename columns\n",
    "\n",
    "Though we did not do any web scraping or merge data sets to get this data frame, one main effort we made was to interpret the meaning of each variable – carefully reading through the 15-paged codebook. We noticed that some of the names of the given variable names were vague. So, we decided to change them so they conveyed more straightforward information about the variables. "
   ]
  },
  {
   "cell_type": "code",
   "execution_count": 150,
   "id": "5736c77c",
   "metadata": {},
   "outputs": [
    {
     "data": {
      "text/plain": [
       "Index(['id', 'gender', 'wave', 'num_dates', 'partner_id', 'age', 'field_cd',\n",
       "       'race', 'career_c', 'rate_self_attr', 'rate_self_sinc', 'rate_self_fun',\n",
       "       'rate_self_intel', 'rate_self_amb', 'decision', 'rate_p_attr',\n",
       "       'rate_p_sinc', 'rate_p_intel', 'rate_p_fun', 'rate_p_amb',\n",
       "       'rate_p_shar'],\n",
       "      dtype='object')"
      ]
     },
     "execution_count": 150,
     "metadata": {},
     "output_type": "execute_result"
    }
   ],
   "source": [
    "dating_df = dating_df.rename(columns = {\"iid\":\"id\",\n",
    "                                        \"round\": \"num_dates\", \n",
    "                                        \"pid\": \"partner_id\", \n",
    "                                        \"dec\": \"decision\",\n",
    "                                        \"attr3_1\": \"rate_self_attr\", \n",
    "                                        \"sinc3_1\": \"rate_self_sinc\",\n",
    "                                        \"fun3_1\": \"rate_self_fun\",\n",
    "                                        \"intel3_1\": \"rate_self_intel\",\n",
    "                                        \"amb3_1\": \"rate_self_amb\",\n",
    "                                        \"attr\": \"rate_p_attr\",\n",
    "                                        \"sinc\": \"rate_p_sinc\",\n",
    "                                        \"fun\": \"rate_p_fun\",\n",
    "                                        \"intel\": \"rate_p_intel\",\n",
    "                                        \"amb\": \"rate_p_amb\",\n",
    "                                        \"shar\": \"rate_p_shar\"})\n",
    "dating_df.columns"
   ]
  },
  {
   "cell_type": "markdown",
   "id": "1eb599d3",
   "metadata": {},
   "source": [
    "### Remove biased observations\n",
    "The researchers ran 21 speed dating sessions, or waves, in total. However, as they explained in their paper, they removed four sessions (waves 18-21) from the analysis \"because they involved an experimental intervention where participants were asked to bring their favorite book. These four sessions were run specifically to study how decision weights and selectivity would be affected by an intervention designed to shift subjects’ attention away from superficial physical attributes. They are omitted so that the only experimental difference across sessions is group size.\" Accordingly we also removed data for these four sessions. \n",
    "\n",
    "The researchers also said they removed another wave (#12) because they \"imposed a maximum number of acceptances\" on participants of this wave. We thought this restriction would affect participants' decisions, so we also removed this wave."
   ]
  },
  {
   "cell_type": "code",
   "execution_count": 151,
   "id": "7076d1e8",
   "metadata": {},
   "outputs": [
    {
     "data": {
      "text/plain": [
       "(6412, 21)"
      ]
     },
     "execution_count": 151,
     "metadata": {},
     "output_type": "execute_result"
    }
   ],
   "source": [
    "dating_df = dating_df[~dating_df['wave'].isin([12, 18, 19, 20, 21])]\n",
    "dating_df.shape"
   ]
  },
  {
   "cell_type": "markdown",
   "id": "52ecfc88",
   "metadata": {},
   "source": [
    "### Deal with missing values\n",
    "We noticed there were many missing values due to how the experiment was designed and conducted. For each variable with more than 200 missing values, we re-examined whether we still thought it would be a potential good predictor in our future modeling given the fact that including it would mean fewer data points to train the model, which might make the model less robust. Finally we decided to remove the variable called \"rate_p_shar,\" which was the dater's rating of shared interests/hobbies for the datee."
   ]
  },
  {
   "cell_type": "code",
   "execution_count": 152,
   "id": "602bb8b0",
   "metadata": {},
   "outputs": [
    {
     "name": "stdout",
     "output_type": "stream",
     "text": [
      "['partner_id', 10]\n",
      "['age', 73]\n",
      "['field_cd', 82]\n",
      "['race', 63]\n",
      "['career_c', 138]\n",
      "['rate_self_attr', 105]\n",
      "['rate_self_sinc', 105]\n",
      "['rate_self_fun', 105]\n",
      "['rate_self_intel', 105]\n",
      "['rate_self_amb', 105]\n",
      "['rate_p_attr', 130]\n",
      "['rate_p_sinc', 196]\n",
      "['rate_p_intel', 208]\n",
      "['rate_p_fun', 260]\n",
      "['rate_p_amb', 553]\n",
      "['rate_p_shar', 874]\n"
     ]
    }
   ],
   "source": [
    "# count NAs for each column\n",
    "for col in dating_df:\n",
    "    n = sum(pd.isna(dating_df[col]))\n",
    "    if (n > 0):\n",
    "        print([col, n])\n",
    "\n",
    "dating_df = dating_df.drop([\"rate_p_shar\"], axis = 1)"
   ]
  },
  {
   "cell_type": "markdown",
   "id": "114e4deb",
   "metadata": {},
   "source": [
    "Next, let's see how many rows would be left if all rows with any missing values were dropped."
   ]
  },
  {
   "cell_type": "code",
   "execution_count": 153,
   "id": "3469273e",
   "metadata": {},
   "outputs": [
    {
     "data": {
      "text/plain": [
       "(5601, 20)"
      ]
     },
     "execution_count": 153,
     "metadata": {},
     "output_type": "execute_result"
    }
   ],
   "source": [
    "dating_df = dating_df.dropna()\n",
    "dating_df.shape"
   ]
  },
  {
   "cell_type": "markdown",
   "id": "de71c4bd",
   "metadata": {},
   "source": [
    "From a statistical standpoint, a sample of 5601 datapoints would be good enough for logistic regression. We would also have enough for splitting it into training and test sets."
   ]
  },
  {
   "cell_type": "markdown",
   "id": "b0cb0e5e",
   "metadata": {},
   "source": [
    "### Map coded categorical variables to their corresponding values"
   ]
  },
  {
   "cell_type": "markdown",
   "id": "a55d50e4",
   "metadata": {},
   "source": [
    "Some categorical variables were coded as integers (e.g., gender, field, race, career). This was for data storage and system performance reasons. For our purposes, we thought it would be better if these variables were also presented as the actual values so that we could visualize them more efficiently. So we did the following conversion."
   ]
  },
  {
   "cell_type": "code",
   "execution_count": 154,
   "id": "36643b3a",
   "metadata": {},
   "outputs": [
    {
     "name": "stdout",
     "output_type": "stream",
     "text": [
      "['Law' 'Political Science/International Affairs' 'Business/Econ/Finance'\n",
      " 'Engineering' 'Education, Academia' 'Social Science, Psychologist'\n",
      " 'Social Work' 'Math' 'Undergrad/undecided'\n",
      " 'Medical Science, Pharmaceuticals, and Bio Tech'\n",
      " 'History/Religion/Philosophy' 'English/Creative Writing/Journalism'\n",
      " 'Biological Sciences/Chemistry/Physics' 'Film' 'Languages'\n",
      " 'Fine Arts/Arts Administration' 'Architecture']\n",
      "['European/Caucasian-American' 'Asian/Pacific Islander/Asian-American'\n",
      " 'Other' 'Latino/Hispanic American' 'Black/African American']\n",
      "['Lawyer ' 'Creative Arts/Entertainment'\n",
      " 'International/Humanitarian Affairs' 'Academic/Research'\n",
      " 'Banking/Consulting/Finance/Marketing/Business' 'Undecided' 'Engineer'\n",
      " 'Psychologist' 'Doctor/Medicine' 'Pro sports/Athletics' 'Social Work'\n",
      " 'Real Estate' 'Other' 'Architecture' 'Politics']\n",
      "['Female' 'Male']\n"
     ]
    }
   ],
   "source": [
    "field_mapping = {1:\"Law\", 2:\"Math\", 3:\"Social Science, Psychologist\", \n",
    "                4:\"Medical Science, Pharmaceuticals, and Bio Tech\", \n",
    "                5:\"Engineering\", \n",
    "                 6:\"English/Creative Writing/Journalism\", \n",
    "                7:\"History/Religion/Philosophy\", \n",
    "                 8:\"Business/Econ/Finance\", \n",
    "                9:\"Education, Academia\", \n",
    "                 10:\"Biological Sciences/Chemistry/Physics\", \n",
    "                11:\"Social Work\", 12:\"Undergrad/undecided\", \n",
    "                13:\"Political Science/International Affairs\", 14:\"Film\", \n",
    "                15:\"Fine Arts/Arts Administration\", 16:\"Languages\", \n",
    "                17:\"Architecture\", 18:\"Other\"}\n",
    "\n",
    "dating_df[\"field\"] = dating_df[\"field_cd\"].map(field_mapping)\n",
    "\n",
    "race_mapping = {1: \"Black/African American\", \n",
    "                2:\"European/Caucasian-American\", \n",
    "                3:\"Latino/Hispanic American\", \n",
    "                4:\"Asian/Pacific Islander/Asian-American\", \n",
    "                5:\"Native American\", 6:\"Other\"}\n",
    "dating_df[\"race_cd\"] = dating_df[\"race\"]\n",
    "dating_df[\"race\"] = dating_df[\"race_cd\"].map(race_mapping)\n",
    "\n",
    "career_mapping = {1:\"Lawyer \", 2:\"Academic/Research\", \n",
    "                  3:\"Psychologist\",4:\"Doctor/Medicine\",\n",
    "                  5:\"Engineer\", 6:\"Creative Arts/Entertainment\", \n",
    "                  7:\"Banking/Consulting/Finance/Marketing/Business\", \n",
    "                  8:\"Real Estate\", \n",
    "                  9:\"International/Humanitarian Affairs\", \n",
    "                  10:\"Undecided\", 11:\"Social Work\", \n",
    "                  12:\"Speech Pathology\", 13:\"Politics\", \n",
    "                  14:\"Pro sports/Athletics\", \n",
    "                  15:\"Other\", 16:\"Journalism\", 17:\"Architecture\"}\n",
    "dating_df[\"career\"] = dating_df[\"career_c\"].map(career_mapping)\n",
    "\n",
    "dating_df[\"gender_cd\"] = dating_df[\"gender\"]\n",
    "dating_df[\"gender\"] = dating_df[\"gender_cd\"].map({0:\"Female\", 1:\"Male\"})\n",
    "\n",
    "# check that they were successfully updated\n",
    "print(dating_df[\"field\"].unique())\n",
    "print(dating_df[\"race\"].unique())\n",
    "print(dating_df[\"career\"].unique())\n",
    "print(dating_df[\"gender\"].unique())"
   ]
  },
  {
   "cell_type": "markdown",
   "id": "f3deba2a",
   "metadata": {},
   "source": [
    "### Convert data types"
   ]
  },
  {
   "cell_type": "markdown",
   "id": "d644d5e0",
   "metadata": {},
   "source": [
    "We also noticed some data types of the columns did not accurately reflect what they should be. For example, variables race, field, career, and gender should be of type category. And age, partner_id, and partner_age should be of type int. Other numerical variables such as rate_self_attr and rate_p_attr represent ratings on a scale of 1-10, so they should also be integers."
   ]
  },
  {
   "cell_type": "code",
   "execution_count": 155,
   "id": "860961e5",
   "metadata": {},
   "outputs": [
    {
     "name": "stdout",
     "output_type": "stream",
     "text": [
      "id                   int64\n",
      "gender              object\n",
      "wave                 int64\n",
      "num_dates            int64\n",
      "partner_id         float64\n",
      "age                float64\n",
      "field_cd           float64\n",
      "race                object\n",
      "career_c           float64\n",
      "rate_self_attr     float64\n",
      "rate_self_sinc     float64\n",
      "rate_self_fun      float64\n",
      "rate_self_intel    float64\n",
      "rate_self_amb      float64\n",
      "decision             int64\n",
      "rate_p_attr        float64\n",
      "rate_p_sinc        float64\n",
      "rate_p_intel       float64\n",
      "rate_p_fun         float64\n",
      "rate_p_amb         float64\n",
      "field               object\n",
      "race_cd            float64\n",
      "career              object\n",
      "gender_cd            int64\n",
      "dtype: object\n"
     ]
    }
   ],
   "source": [
    "data_types = dating_df.dtypes\n",
    "print(data_types)"
   ]
  },
  {
   "cell_type": "code",
   "execution_count": 156,
   "id": "8449f34b",
   "metadata": {},
   "outputs": [
    {
     "name": "stdout",
     "output_type": "stream",
     "text": [
      "id                    int64\n",
      "gender             category\n",
      "wave                  int64\n",
      "num_dates             int64\n",
      "partner_id            int64\n",
      "age                   int64\n",
      "field_cd              int64\n",
      "race               category\n",
      "career_c              int64\n",
      "rate_self_attr        int64\n",
      "rate_self_sinc        int64\n",
      "rate_self_fun         int64\n",
      "rate_self_intel       int64\n",
      "rate_self_amb         int64\n",
      "decision              int64\n",
      "rate_p_attr           int64\n",
      "rate_p_sinc           int64\n",
      "rate_p_intel          int64\n",
      "rate_p_fun            int64\n",
      "rate_p_amb            int64\n",
      "field              category\n",
      "race_cd               int64\n",
      "career             category\n",
      "gender_cd             int64\n",
      "dtype: object\n"
     ]
    }
   ],
   "source": [
    "# convert objects to categories\n",
    "temp = dating_df[[\"race\", \"field\", \"career\", \"gender\"]].astype(\"category\")\n",
    "dating_df[[\"race\", \"field\", \"career\", \"gender\"]] = temp\n",
    "# convert floats to integers\n",
    "float_columns = dating_df.select_dtypes(include=['float']).columns\n",
    "dating_df[float_columns] = dating_df[float_columns].astype(int)\n",
    "\n",
    "# check\n",
    "print(dating_df.dtypes)"
   ]
  },
  {
   "cell_type": "markdown",
   "id": "e2510a11",
   "metadata": {},
   "source": [
    "### Detect inaccurate observations"
   ]
  },
  {
   "cell_type": "markdown",
   "id": "252a7e6f",
   "metadata": {},
   "source": [
    "As mentioned above, variables such as rate_self_attr and rate_p_attr represent ratings on a scale of 1-10. It was necessary to check if this was really the case. We did not trust the data because the original dataset was not well cleaned. We better did this ourselves. And we did catch abnormal points."
   ]
  },
  {
   "cell_type": "code",
   "execution_count": 157,
   "id": "a5698d63",
   "metadata": {},
   "outputs": [
    {
     "data": {
      "text/plain": [
       "(5585, 24)"
      ]
     },
     "execution_count": 157,
     "metadata": {},
     "output_type": "execute_result"
    }
   ],
   "source": [
    "for col in [\n",
    "       'rate_self_attr', 'rate_self_sinc', 'rate_self_fun', 'rate_self_intel',\n",
    "       'rate_self_amb', 'rate_p_attr', 'rate_p_sinc',\n",
    "       'rate_p_intel', 'rate_p_fun', 'rate_p_amb']:\n",
    "    dating_df = dating_df[(dating_df[col] > 0) & (dating_df[col] <= 10)]\n",
    "dating_df.shape"
   ]
  },
  {
   "cell_type": "code",
   "execution_count": 158,
   "id": "4b293fb7",
   "metadata": {},
   "outputs": [],
   "source": [
    "dating_df.to_csv(\"dating_main.csv\")"
   ]
  },
  {
   "cell_type": "markdown",
   "id": "434094ba",
   "metadata": {},
   "source": [
    "# About the participants"
   ]
  },
  {
   "cell_type": "markdown",
   "id": "2c1690b1",
   "metadata": {},
   "source": [
    "We should always keep in mind that each row of dating_df represents a dating meet, not a subject. This matters because each subject was involved in various number of dates. When we analyze the demographics, we care about the sample of subjects, so we should first create a new data frame."
   ]
  },
  {
   "cell_type": "code",
   "execution_count": 159,
   "id": "93e138aa",
   "metadata": {},
   "outputs": [
    {
     "name": "stdout",
     "output_type": "stream",
     "text": [
      "(405, 6)\n"
     ]
    }
   ],
   "source": [
    "main_df = pd.read_csv(\"dating_main.csv\").iloc[: , 1:]\n",
    "# Select columns that are always the same for each subject.\n",
    "subject_df = main_df[['id', 'gender', 'age', 'race', 'field', 'career']]\n",
    "subject_df = subject_df.drop_duplicates() \n",
    "print(subject_df.shape)"
   ]
  },
  {
   "cell_type": "markdown",
   "id": "dbfc05cb",
   "metadata": {},
   "source": [
    "### Gender"
   ]
  },
  {
   "cell_type": "code",
   "execution_count": 160,
   "id": "867d50a6",
   "metadata": {},
   "outputs": [
    {
     "data": {
      "text/plain": [
       "gender\n",
       "Male      206\n",
       "Female    199\n",
       "Name: count, dtype: int64"
      ]
     },
     "execution_count": 160,
     "metadata": {},
     "output_type": "execute_result"
    }
   ],
   "source": [
    "subject_df[[\"gender\"]].value_counts()"
   ]
  },
  {
   "cell_type": "markdown",
   "id": "a14eac95",
   "metadata": {},
   "source": [
    "We were happy to obserse that after removing all the missing values, the number of female and male participants could still reach a balance. Neither group was underrepresented, so we should be relatively confident in our future analysis in terms of gender differences."
   ]
  },
  {
   "cell_type": "markdown",
   "id": "e5bde5b0",
   "metadata": {},
   "source": [
    "### Age"
   ]
  },
  {
   "cell_type": "code",
   "execution_count": 161,
   "id": "10bad2f5",
   "metadata": {},
   "outputs": [
    {
     "name": "stdout",
     "output_type": "stream",
     "text": [
      "              age\n",
      "count  405.000000\n",
      "mean    26.150617\n",
      "std      3.526355\n",
      "min     18.000000\n",
      "25%     23.000000\n",
      "50%     26.000000\n",
      "75%     28.000000\n",
      "max     42.000000\n"
     ]
    }
   ],
   "source": [
    "print(subject_df[[\"age\"]].describe())"
   ]
  },
  {
   "cell_type": "code",
   "execution_count": 162,
   "id": "065f4260",
   "metadata": {},
   "outputs": [
    {
     "data": {
      "image/png": "[encoded data removed]",
      "text/plain": [
       "<Figure size 600x400 with 1 Axes>"
      ]
     },
     "metadata": {},
     "output_type": "display_data"
    }
   ],
   "source": [
    "plt.figure(figsize = (6, 4))\n",
    "sns.histplot(data = subject_df, x = subject_df['age'], binwidth = 1)\n",
    "plt.title(\"Distribution of Participant's Age\")\n",
    "plt.xlabel(\"Age\")\n",
    "plt.ylabel('Frequency')\n",
    "plt.show()"
   ]
  },
  {
   "cell_type": "markdown",
   "id": "320cd8be",
   "metadata": {},
   "source": [
    "The mean age of participants was 26.2. The minimum age was 18, and the maximum age was 42. And from the histogram we could tell there were less observations for subjects aged below 20 or above 35. This implis our regression model might not be generalizable to these populations."
   ]
  },
  {
   "cell_type": "markdown",
   "id": "389a25d5",
   "metadata": {},
   "source": [
    "### Race"
   ]
  },
  {
   "cell_type": "code",
   "execution_count": 163,
   "id": "b49080d4",
   "metadata": {},
   "outputs": [
    {
     "name": "stdout",
     "output_type": "stream",
     "text": [
      "race                                 \n",
      "European/Caucasian-American              234\n",
      "Asian/Pacific Islander/Asian-American     90\n",
      "Latino/Hispanic American                  32\n",
      "Other                                     28\n",
      "Black/African American                    21\n",
      "Name: count, dtype: int64\n"
     ]
    }
   ],
   "source": [
    "print(subject_df[[\"race\"]].value_counts())"
   ]
  },
  {
   "cell_type": "markdown",
   "id": "d8f1f377",
   "metadata": {},
   "source": [
    "Same problem here. Black/African American, Latino/Hispanic American, and international students were underrepresented compared to European/Caucasian-American and Asian/Pacific Islander/Asian American participants. This does not necessarily imply the data set is bad. Instead, doing this kind of descriptive statistics enables us to acknowledge the potential lack of generalizability of the models we make for the next phase to certain populations."
   ]
  },
  {
   "cell_type": "markdown",
   "id": "73110370",
   "metadata": {},
   "source": [
    "### Career and field"
   ]
  },
  {
   "cell_type": "code",
   "execution_count": 164,
   "id": "aee32a5b",
   "metadata": {},
   "outputs": [
    {
     "name": "stdout",
     "output_type": "stream",
     "text": [
      "field                                         \n",
      "Business/Econ/Finance                             104\n",
      "Biological Sciences/Chemistry/Physics              47\n",
      "Law                                                44\n",
      "Political Science/International Affairs            38\n",
      "Social Science, Psychologist                       36\n",
      "Engineering                                        31\n",
      "Education, Academia                                25\n",
      "Social Work                                        23\n",
      "History/Religion/Philosophy                        14\n",
      "English/Creative Writing/Journalism                14\n",
      "Math                                                9\n",
      "Film                                                6\n",
      "Medical Science, Pharmaceuticals, and Bio Tech      6\n",
      "Fine Arts/Arts Administration                       3\n",
      "Languages                                           3\n",
      "Architecture                                        1\n",
      "Undergrad/undecided                                 1\n",
      "Name: count, dtype: int64\n"
     ]
    }
   ],
   "source": [
    "print(subject_df[[\"field\"]].value_counts())"
   ]
  },
  {
   "cell_type": "markdown",
   "id": "3c7987b5",
   "metadata": {},
   "source": [
    "The problem of the data regarding participants' fields here was quite obvious. About 1/4 of the students were in Business/Econ/Finance-related fields. However, majors like Fine Arts/Arts Administration were underrepresented. Although we could use field as a predictor, this would not solve the problem with the data itself. Because we could not be confident in whether participants majoring in Fine Arts/Arts Administration could represent the whole population of students majoring in Fine Arts/Arts Administration – we just did not have enough data."
   ]
  }
 ],
 "metadata": {
  "kernelspec": {
   "display_name": "Python 3 (ipykernel)",
   "language": "python",
   "name": "python3"
  },
  "language_info": {
   "codemirror_mode": {
    "name": "ipython",
    "version": 3
   },
   "file_extension": ".py",
   "mimetype": "text/x-python",
   "name": "python",
   "nbconvert_exporter": "python",
   "pygments_lexer": "ipython3",
   "version": "3.11.5"
  },
  "vscode": {
   "interpreter": {
    "hash": "aee8b7b246df8f9039afb4144a1f6fd8d2ca17a180786b69acc140d282b71a49"
   }
  }
 },
 "nbformat": 4,
 "nbformat_minor": 5
}
