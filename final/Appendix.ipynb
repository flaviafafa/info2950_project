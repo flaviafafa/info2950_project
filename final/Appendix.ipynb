{
 "cells": [
  {
   "cell_type": "markdown",
   "id": "01540bbe-4cf5-45a4-bd09-16f365452ee8",
   "metadata": {},
   "source": [
    "# Table of Contents:\n",
    "[Data Cleaning](#cleaning)\n",
    "\n",
    "[About the Participants](#participants)\n",
    "\n",
    "[Backward Stepwise Selection](#backward)"
   ]
  },
  {
   "cell_type": "markdown",
   "id": "e8636c1c",
   "metadata": {},
   "source": [
    "## Data Cleaning <a name=\"cleaning\"></a>"
   ]
  },
  {
   "cell_type": "code",
   "execution_count": 1,
   "id": "df8f4913",
   "metadata": {},
   "outputs": [],
   "source": [
    "import numpy as np\n",
    "import pandas as pd\n",
    "import matplotlib.pyplot as plt\n",
    "import seaborn as sns\n",
    "import datetime\n",
    "from sklearn.linear_model import LinearRegression, LogisticRegression\n",
    "import duckdb\n",
    "import statsmodels.api as sm\n",
    "import statsmodels.formula.api as smf\n",
    "from sklearn.metrics import accuracy_score"
   ]
  },
  {
   "cell_type": "markdown",
   "id": "abaa6b13",
   "metadata": {},
   "source": [
    "Firstly, load the data. The data set is wide and long, with 8378 rows and 195 columns."
   ]
  },
  {
   "cell_type": "code",
   "execution_count": 2,
   "id": "4c0adc51",
   "metadata": {},
   "outputs": [
    {
     "data": {
      "text/plain": [
       "(8378, 195)"
      ]
     },
     "execution_count": 2,
     "metadata": {},
     "output_type": "execute_result"
    }
   ],
   "source": [
    "dating_df = pd.read_csv(\"speed_dating_data.csv\", encoding=\"ISO-8859-1\")\n",
    "dating_df.shape"
   ]
  },
  {
   "cell_type": "markdown",
   "id": "87cab65e",
   "metadata": {},
   "source": [
    "### Select necessary columns\n",
    "The data set has so many variables, so we went through the codebook made by the creators of this data set and selected variables we thought would be necessary for our future analysis. Now we still have 17 columns. \n",
    "\n",
    "Certainly, we won't use all of them at once in a logistic regression model. For example, demographic information about the participants such as \"race\" and \"field_cd\" will be mainly used in descriptive statistics for us to know about the subject population and detect sampling bias of the study rather than using them as explanatory variables in the model."
   ]
  },
  {
   "cell_type": "code",
   "execution_count": 3,
   "id": "563653ad",
   "metadata": {},
   "outputs": [
    {
     "data": {
      "text/plain": [
       "(8378, 17)"
      ]
     },
     "execution_count": 3,
     "metadata": {},
     "output_type": "execute_result"
    }
   ],
   "source": [
    "select_list = ['iid', 'gender', 'wave', 'round', 'pid',\n",
    "               'age', 'field_cd', 'race','career_c', 'prob', \n",
    "               'dec', 'attr', 'sinc','intel', 'fun', 'amb', 'shar']\n",
    "\n",
    "dating_df = dating_df[select_list]\n",
    "dating_df.shape"
   ]
  },
  {
   "cell_type": "markdown",
   "id": "ccfdfc63",
   "metadata": {},
   "source": [
    "### Rename columns\n",
    "\n",
    "Though we did not do any web scraping or merge data sets to get this data frame, one main effort we made was to interpret the meaning of each variable – carefully reading through the 15-paged codebook. We noticed that some of the given variable names were vague. So, we decided to change them to more straightforward ones. "
   ]
  },
  {
   "cell_type": "code",
   "execution_count": 4,
   "id": "5736c77c",
   "metadata": {},
   "outputs": [
    {
     "data": {
      "text/plain": [
       "Index(['id', 'gender_cd', 'wave', 'num_dates', 'partner_id', 'age', 'field_cd',\n",
       "       'race_cd', 'career_cd', 'prob', 'decision', 'rate_p_attr',\n",
       "       'rate_p_sinc', 'rate_p_intel', 'rate_p_fun', 'rate_p_amb',\n",
       "       'rate_p_shar'],\n",
       "      dtype='object')"
      ]
     },
     "execution_count": 4,
     "metadata": {},
     "output_type": "execute_result"
    }
   ],
   "source": [
    "dating_df = dating_df.rename(columns = {\"iid\": \"id\",\n",
    "                                        \"gender\": \"gender_cd\",\n",
    "                                        \"round\": \"num_dates\", \n",
    "                                        \"pid\": \"partner_id\", \n",
    "                                        \"race\": \"race_cd\",\n",
    "                                        \"career_c\": \"career_cd\",\n",
    "                                        \"dec\": \"decision\",\n",
    "                                        \"attr\": \"rate_p_attr\",\n",
    "                                        \"sinc\": \"rate_p_sinc\",\n",
    "                                        \"fun\": \"rate_p_fun\",\n",
    "                                        \"intel\": \"rate_p_intel\",\n",
    "                                        \"amb\": \"rate_p_amb\",\n",
    "                                        \"shar\": \"rate_p_shar\"})\n",
    "# \"cd\" means \"coded\"\n",
    "dating_df.columns"
   ]
  },
  {
   "cell_type": "markdown",
   "id": "1eb599d3",
   "metadata": {},
   "source": [
    "### Remove biased observations\n",
    "The researchers ran 21 speed dating sessions, or waves, in total. However, as they explained in their paper, they removed four sessions (waves 18-21) from the analysis \"because they involved an experimental intervention where participants were asked to bring their favorite book. These four sessions were run specifically to study how decision weights and selectivity would be affected by an intervention designed to shift subjects’ attention away from superficial physical attributes. They are omitted so that the only experimental difference across sessions is group size.\" Accordingly, we also removed data for these four sessions. \n",
    "\n",
    "The researchers also said they removed wave 12 because they \"imposed a maximum number of acceptances\" on participants of this wave. We thought this restriction would affect participants' decisions, so we also removed this wave."
   ]
  },
  {
   "cell_type": "code",
   "execution_count": 5,
   "id": "7076d1e8",
   "metadata": {},
   "outputs": [
    {
     "data": {
      "text/plain": [
       "(6412, 17)"
      ]
     },
     "execution_count": 5,
     "metadata": {},
     "output_type": "execute_result"
    }
   ],
   "source": [
    "dating_df = dating_df[~dating_df['wave'].isin([12, 18, 19, 20, 21])]\n",
    "dating_df.shape"
   ]
  },
  {
   "cell_type": "markdown",
   "id": "52ecfc88",
   "metadata": {},
   "source": [
    "### Deal with missing values\n",
    "We noticed there were many missing values due to how the experiment was designed and conducted. For each variable with more than 200 missing values, we re-examined whether we still thought it would be a potential good predictor in our future modeling given that including it would mean fewer data points to train the model, which might make the model less robust. Finally, we decided to remove the variable called \"rate_p_shar\" (the dater's rating for shared interests/hobbies towards the datee)."
   ]
  },
  {
   "cell_type": "code",
   "execution_count": 6,
   "id": "602bb8b0",
   "metadata": {},
   "outputs": [
    {
     "name": "stdout",
     "output_type": "stream",
     "text": [
      "Number of missing values for partner_id: 10\n",
      "Number of missing values for age: 73\n",
      "Number of missing values for field_cd: 82\n",
      "Number of missing values for race_cd: 63\n",
      "Number of missing values for career_cd: 138\n",
      "Number of missing values for prob: 206\n",
      "Number of missing values for rate_p_attr: 130\n",
      "Number of missing values for rate_p_sinc: 196\n",
      "Number of missing values for rate_p_intel: 208\n",
      "Number of missing values for rate_p_fun: 260\n",
      "Number of missing values for rate_p_amb: 553\n",
      "Number of missing values for rate_p_shar: 874\n"
     ]
    }
   ],
   "source": [
    "# count NAs for each column\n",
    "for col in dating_df:\n",
    "    n = sum(pd.isna(dating_df[col]))\n",
    "    if (n > 0):\n",
    "        print(f\"Number of missing values for {col}: {n}\")\n",
    "\n",
    "dating_df = dating_df.drop(['rate_p_shar'], axis=1)"
   ]
  },
  {
   "cell_type": "markdown",
   "id": "114e4deb",
   "metadata": {},
   "source": [
    "Next, let's drop rows with any missing values."
   ]
  },
  {
   "cell_type": "code",
   "execution_count": 7,
   "id": "3469273e",
   "metadata": {},
   "outputs": [
    {
     "data": {
      "text/plain": [
       "(5573, 16)"
      ]
     },
     "execution_count": 7,
     "metadata": {},
     "output_type": "execute_result"
    }
   ],
   "source": [
    "dating_df = dating_df.dropna()\n",
    "dating_df.shape"
   ]
  },
  {
   "cell_type": "markdown",
   "id": "df9f832d-0094-4f5b-a5e5-2eb5a80b8a66",
   "metadata": {},
   "source": [
    "### Detect inaccurate observations\n",
    "\n",
    "According to the variable codebook, variables such as rate_self_attr and rate_p_attr represent ratings on a scale of 1-10. It was necessary to check if this was really the case. We did not trust the data because the original dataset was not well-cleaned. As we did it ourselves, we did catch abnormal points."
   ]
  },
  {
   "cell_type": "code",
   "execution_count": 8,
   "id": "04d5a4ff-8cef-4f38-972e-7d8863037915",
   "metadata": {},
   "outputs": [
    {
     "data": {
      "text/plain": [
       "(5500, 16)"
      ]
     },
     "execution_count": 8,
     "metadata": {},
     "output_type": "execute_result"
    }
   ],
   "source": [
    "for col in ['rate_p_attr', 'rate_p_sinc', 'rate_p_amb',\n",
    "            'rate_p_intel', 'rate_p_fun', 'prob']:\n",
    "    dating_df = dating_df[dating_df[col].isin([1, 2, 3, 4, 5, 6, 7, 8, 9, 10])]\n",
    "dating_df.shape"
   ]
  },
  {
   "cell_type": "markdown",
   "id": "cfb017f7-c012-483f-b1d8-b331206e28fd",
   "metadata": {},
   "source": [
    "From a statistical standpoint, a sample of 5500 observations would be good enough for logistic regression. We would also have enough for splitting it into training, validation, and test sets."
   ]
  },
  {
   "cell_type": "markdown",
   "id": "f3deba2a",
   "metadata": {},
   "source": [
    "### Convert data types"
   ]
  },
  {
   "cell_type": "markdown",
   "id": "d644d5e0",
   "metadata": {},
   "source": [
    "We noticed the data types of some columns did not accurately reflect what they should be. For example, variables race_cd, field_cd, career_cd, and gender_cd should be of the type category. And age and partner_id should be of type int. Other numerical variables such as rate_p_attr represent ratings on a scale of 1-10, so they should also be integers."
   ]
  },
  {
   "cell_type": "code",
   "execution_count": 9,
   "id": "860961e5",
   "metadata": {},
   "outputs": [
    {
     "name": "stdout",
     "output_type": "stream",
     "text": [
      "id                int64\n",
      "gender_cd         int64\n",
      "wave              int64\n",
      "num_dates         int64\n",
      "partner_id      float64\n",
      "age             float64\n",
      "field_cd        float64\n",
      "race_cd         float64\n",
      "career_cd       float64\n",
      "prob            float64\n",
      "decision          int64\n",
      "rate_p_attr     float64\n",
      "rate_p_sinc     float64\n",
      "rate_p_intel    float64\n",
      "rate_p_fun      float64\n",
      "rate_p_amb      float64\n",
      "dtype: object\n"
     ]
    }
   ],
   "source": [
    "data_types = dating_df.dtypes\n",
    "print(data_types)"
   ]
  },
  {
   "cell_type": "code",
   "execution_count": 10,
   "id": "8449f34b",
   "metadata": {},
   "outputs": [
    {
     "name": "stdout",
     "output_type": "stream",
     "text": [
      "id                 int64\n",
      "gender_cd       category\n",
      "wave               int64\n",
      "num_dates          int64\n",
      "partner_id         int64\n",
      "age                int64\n",
      "field_cd        category\n",
      "race_cd         category\n",
      "career_cd       category\n",
      "prob               int64\n",
      "decision        category\n",
      "rate_p_attr        int64\n",
      "rate_p_sinc        int64\n",
      "rate_p_intel       int64\n",
      "rate_p_fun         int64\n",
      "rate_p_amb         int64\n",
      "dtype: object\n"
     ]
    }
   ],
   "source": [
    "temp = dating_df[[\"race_cd\", \"field_cd\", \"career_cd\", \"gender_cd\", \"decision\"]].astype(\"category\")\n",
    "dating_df[[\"race_cd\", \"field_cd\", \"career_cd\", \"gender_cd\", \"decision\"]] = temp\n",
    "\n",
    "float_columns = dating_df.select_dtypes(include=['float']).columns\n",
    "dating_df[float_columns] = dating_df[float_columns].astype(int)\n",
    "\n",
    "# check\n",
    "print(dating_df.dtypes)"
   ]
  },
  {
   "cell_type": "code",
   "execution_count": 11,
   "id": "4b293fb7",
   "metadata": {},
   "outputs": [],
   "source": [
    "dating_df.to_csv(\"dating_main.csv\", index=False)"
   ]
  },
  {
   "cell_type": "markdown",
   "id": "434094ba",
   "metadata": {},
   "source": [
    "## About the participants<a name=\"participants\"></a>"
   ]
  },
  {
   "cell_type": "markdown",
   "id": "2c1690b1",
   "metadata": {},
   "source": [
    "We should always keep in mind that each row of dating_df represents a dating meet, not a participant. This matters because each participant was involved in various numbers of dating meets. So, to analyze the demographics, we first created a new data frame where each row represents a participant. It turned out there were 407 participants involved in the cleaned data frame."
   ]
  },
  {
   "cell_type": "code",
   "execution_count": 12,
   "id": "93e138aa",
   "metadata": {},
   "outputs": [
    {
     "name": "stdout",
     "output_type": "stream",
     "text": [
      "(407, 6)\n"
     ]
    }
   ],
   "source": [
    "dating_df = pd.read_csv(\"dating_main.csv\")\n",
    "# Select columns that are always the same for each subject.\n",
    "subject_df = dating_df[['id', 'gender_cd', 'age', 'race_cd', 'field_cd', 'career_cd']]\n",
    "subject_df = subject_df.drop_duplicates() \n",
    "print(subject_df.shape)"
   ]
  },
  {
   "cell_type": "markdown",
   "id": "dbfc05cb",
   "metadata": {},
   "source": [
    "### Gender"
   ]
  },
  {
   "cell_type": "code",
   "execution_count": 13,
   "id": "867d50a6",
   "metadata": {},
   "outputs": [
    {
     "data": {
      "text/plain": [
       "gender_cd\n",
       "Male      207\n",
       "Female    200\n",
       "Name: count, dtype: int64"
      ]
     },
     "execution_count": 13,
     "metadata": {},
     "output_type": "execute_result"
    }
   ],
   "source": [
    "subject_df[\"gender_cd\"].map({0:\"Female\", 1:\"Male\"}).value_counts()"
   ]
  },
  {
   "cell_type": "markdown",
   "id": "a14eac95",
   "metadata": {},
   "source": [
    "We were happy to obserse that after removing all the missing values, the number of female and male participants could still reach a balance. Neither group was underrepresented, so we should be relatively confident in our future analysis about gender differences."
   ]
  },
  {
   "cell_type": "markdown",
   "id": "e5bde5b0",
   "metadata": {},
   "source": [
    "### Age"
   ]
  },
  {
   "cell_type": "code",
   "execution_count": 14,
   "id": "10bad2f5",
   "metadata": {},
   "outputs": [
    {
     "name": "stdout",
     "output_type": "stream",
     "text": [
      "              age\n",
      "count  407.000000\n",
      "mean    26.154791\n",
      "std      3.520961\n",
      "min     18.000000\n",
      "25%     23.000000\n",
      "50%     26.000000\n",
      "75%     28.000000\n",
      "max     42.000000\n"
     ]
    }
   ],
   "source": [
    "print(subject_df[[\"age\"]].describe())"
   ]
  },
  {
   "cell_type": "code",
   "execution_count": 15,
   "id": "065f4260",
   "metadata": {},
   "outputs": [
    {
     "data": {
      "image/png": "[encoded data removed]",
      "text/plain": [
       "<Figure size 600x400 with 1 Axes>"
      ]
     },
     "metadata": {},
     "output_type": "display_data"
    }
   ],
   "source": [
    "plt.figure(figsize = (6, 4))\n",
    "sns.histplot(data = subject_df, x = subject_df['age'], binwidth = 1)\n",
    "plt.title(\"Distribution of Participants' Age\")\n",
    "plt.xlabel(\"Age\")\n",
    "plt.ylabel('Frequency')\n",
    "plt.show()"
   ]
  },
  {
   "cell_type": "markdown",
   "id": "320cd8be",
   "metadata": {},
   "source": [
    "The mean age of participants was 26.2. The minimum age was 18, and the maximum age was 42. And from the histogram, we could tell there were fewer observations for subjects aged below 20 or above 35. This implies our regression model might not be generalizable to these groups."
   ]
  },
  {
   "cell_type": "markdown",
   "id": "389a25d5",
   "metadata": {},
   "source": [
    "### Race"
   ]
  },
  {
   "cell_type": "code",
   "execution_count": 16,
   "id": "b49080d4",
   "metadata": {},
   "outputs": [
    {
     "name": "stdout",
     "output_type": "stream",
     "text": [
      "race_cd\n",
      "European/Caucasian-American              235\n",
      "Asian/Pacific Islander/Asian-American     90\n",
      "Latino/Hispanic American                  33\n",
      "Other                                     28\n",
      "Black/African American                    21\n",
      "Name: count, dtype: int64\n"
     ]
    }
   ],
   "source": [
    "race_mapping = {1: \"Black/African American\", \n",
    "                2: \"European/Caucasian-American\", \n",
    "                3: \"Latino/Hispanic American\", \n",
    "                4: \"Asian/Pacific Islander/Asian-American\", \n",
    "                5: \"Native American\", \n",
    "                6: \"Other\"}\n",
    "print(subject_df[\"race_cd\"].map(race_mapping).value_counts())"
   ]
  },
  {
   "cell_type": "markdown",
   "id": "d8f1f377",
   "metadata": {},
   "source": [
    "Same problem here. Black/African American, Latino/Hispanic American, and international students were underrepresented compared to European/Caucasian-American and Asian/Pacific Islander/Asian American participants. This does not necessarily imply the data set is bad. Instead, doing this kind of descriptive statistics enables us to acknowledge the potential lack of generalizability of the models we make for the next phase to certain populations."
   ]
  },
  {
   "cell_type": "markdown",
   "id": "73110370",
   "metadata": {},
   "source": [
    "### Career and field"
   ]
  },
  {
   "cell_type": "code",
   "execution_count": 17,
   "id": "aee32a5b",
   "metadata": {},
   "outputs": [
    {
     "name": "stdout",
     "output_type": "stream",
     "text": [
      "field_cd\n",
      "Business/Econ/Finance                             25.8\n",
      "Biological Sciences/Chemistry/Physics             11.5\n",
      "Law                                               10.8\n",
      "Political Science/International Affairs            9.3\n",
      "Social Science, Psychologist                       9.1\n",
      "Engineering                                        7.6\n",
      "Education, Academia                                6.1\n",
      "Social Work                                        5.7\n",
      "History/Religion/Philosophy                        3.4\n",
      "English/Creative Writing/Journalism                3.4\n",
      "Math                                               2.2\n",
      "Medical Science, Pharmaceuticals, and Bio Tech     1.5\n",
      "Film                                               1.5\n",
      "Fine Arts/Arts Administration                      0.7\n",
      "Languages                                          0.7\n",
      "Undergrad/undecided                                0.2\n",
      "Architecture                                       0.2\n",
      "Name: count, dtype: float64\n",
      "career_cd\n",
      "Banking/Consulting/Finance/Marketing/Business    27.5\n",
      "Academic/Research                                25.6\n",
      "Lawyer                                           10.8\n",
      "Creative Arts/Entertainment                       8.4\n",
      "International/Humanitarian Affairs                7.4\n",
      "Undecided                                         4.7\n",
      "Doctor/Medicine                                   4.7\n",
      "Psychologist                                      3.9\n",
      "Social Work                                       2.7\n",
      "Engineer                                          1.7\n",
      "Real Estate                                       0.7\n",
      "Other                                             0.7\n",
      "Politics                                          0.7\n",
      "Pro sports/Athletics                              0.2\n",
      "Architecture                                      0.2\n",
      "Name: count, dtype: float64\n"
     ]
    }
   ],
   "source": [
    "field_mapping = {1: \"Law\", 2: \"Math\", 3: \"Social Science, Psychologist\", \n",
    "                 4: \"Medical Science, Pharmaceuticals, and Bio Tech\", \n",
    "                 5: \"Engineering\", \n",
    "                 6: \"English/Creative Writing/Journalism\", \n",
    "                 7: \"History/Religion/Philosophy\", \n",
    "                 8: \"Business/Econ/Finance\", \n",
    "                 9: \"Education, Academia\", \n",
    "                 10: \"Biological Sciences/Chemistry/Physics\", \n",
    "                 11: \"Social Work\", 12: \"Undergrad/undecided\", \n",
    "                 13: \"Political Science/International Affairs\", 14: \"Film\", \n",
    "                 15: \"Fine Arts/Arts Administration\", 16: \"Languages\", \n",
    "                 17: \"Architecture\", 18: \"Other\"}\n",
    "\n",
    "career_mapping = {1: \"Lawyer \", 2: \"Academic/Research\", \n",
    "                  3: \"Psychologist\", 4: \"Doctor/Medicine\",\n",
    "                  5: \"Engineer\", 6: \"Creative Arts/Entertainment\", \n",
    "                  7: \"Banking/Consulting/Finance/Marketing/Business\", \n",
    "                  8: \"Real Estate\", \n",
    "                  9: \"International/Humanitarian Affairs\", \n",
    "                  10: \"Undecided\", 11: \"Social Work\", \n",
    "                  12: \"Speech Pathology\", 13: \"Politics\", \n",
    "                  14: \"Pro sports/Athletics\", \n",
    "                  15: \"Other\", 16: \"Journalism\", 17: \"Architecture\"}\n",
    "\n",
    "# Display in percentages\n",
    "print(round(subject_df[\"field_cd\"].map(field_mapping).value_counts()/len(subject_df.index),3)*100)\n",
    "print(round(subject_df[\"career_cd\"].map(career_mapping).value_counts()/len(subject_df.index),3)*100)"
   ]
  },
  {
   "cell_type": "markdown",
   "id": "3c7987b5",
   "metadata": {},
   "source": [
    "The problem of the data regarding participants' fields and careers here was quite obvious. About 1/4 of the participants were in Business/Econ/Finance-related fields and worked for Banking/Consulting/Finance/Marketing/Business. However, majors like Fine Arts/Arts Administration were highly underrepresented. Although we could use field_cd as a predictor, this would not solve the problem with the data itself. Because we could not be confident in whether participants majoring in Fine Arts/Arts Administration could represent the whole population of people majoring in Fine Arts/Arts Administration – we just did not have enough data. Regarding careers, people working in real estate, politics, sports, and architecture were underrepresented."
   ]
  },
  {
   "cell_type": "markdown",
   "id": "3ec2f8eb-7751-4897-8e17-3b0e5b6a2764",
   "metadata": {},
   "source": [
    "## Backward Stepwise Selection<a name=\"backward\"></a>"
   ]
  },
  {
   "cell_type": "code",
   "execution_count": 18,
   "id": "bf043ac4-1faf-43ad-9dfd-6ac656dc1404",
   "metadata": {},
   "outputs": [],
   "source": [
    "training_set = pd.read_csv(\"training.csv\")\n",
    "test_set = pd.read_csv(\"test.csv\")\n",
    "X_full = ['rate_p_attr', 'rate_p_intel', 'rate_p_fun', 'rate_p_amb', 'rate_p_sinc', 'prob',\n",
    "          'gender_p_attr', 'gender_p_intel', 'gender_p_fun', 'gender_p_amb', 'gender_p_sinc', 'gender_prob']"
   ]
  },
  {
   "cell_type": "code",
   "execution_count": 19,
   "id": "8ceb4ec1-f662-4bdf-a377-9c30fdb86d35",
   "metadata": {},
   "outputs": [],
   "source": [
    "def eval(y_pred, y_actual):\n",
    "    # Calculate accuracy, weighted by 1/num_dates\n",
    "    accuracy = accuracy_score(y_pred, y_actual, sample_weight=test_set['weight'])\n",
    "    return(round(accuracy,3)*100)"
   ]
  },
  {
   "cell_type": "code",
   "execution_count": 20,
   "id": "57b72491-54a6-4148-9120-7a2ddba9d01a",
   "metadata": {},
   "outputs": [],
   "source": [
    "num_rows = 13\n",
    "\n",
    "data = {'no_of_predictors': [0] * num_rows,\n",
    "        'predictors': [''] * num_rows,\n",
    "        'test_accuracy': [0.0] * num_rows}\n",
    "summary_df = pd.DataFrame(data)\n",
    "summary_df = summary_df.astype('object')"
   ]
  },
  {
   "cell_type": "code",
   "execution_count": 21,
   "id": "f1c6582d-1663-45c3-a948-a01985e74ae5",
   "metadata": {},
   "outputs": [],
   "source": [
    "def backward(X_vars):\n",
    "    formula = \"decision~\"\n",
    "    for var in X_vars:\n",
    "        formula = formula + var + \"+\"\n",
    "    formula = formula[:-1]\n",
    "\n",
    "    glm = smf.glm(formula,\n",
    "              data=training_set, \n",
    "              family=sm.families.Binomial(),\n",
    "              freq_weights=training_set['weight'])\n",
    "    model = glm.fit()\n",
    "    print(model.summary())\n",
    "    test_accuracy = eval(model.predict(test_set) > 0.5, test_set['decision'])\n",
    "    summary_df.iloc[12-len(X_vars), 0] = len(X_vars)\n",
    "    summary_df.iloc[12-len(X_vars), 1] = formula[9:]\n",
    "    summary_df.iloc[12-len(X_vars), 2] = test_accuracy"
   ]
  },
  {
   "cell_type": "markdown",
   "id": "971ebcbc-cae2-4ec5-9bd9-ea5b36dcdad2",
   "metadata": {},
   "source": [
    "### Full model (12 predictors)"
   ]
  },
  {
   "cell_type": "code",
   "execution_count": 22,
   "id": "b5f5143a-5c79-4316-9ef7-2f60b116f77a",
   "metadata": {},
   "outputs": [
    {
     "name": "stdout",
     "output_type": "stream",
     "text": [
      "                 Generalized Linear Model Regression Results                  \n",
      "==============================================================================\n",
      "Dep. Variable:               decision   No. Observations:                 4125\n",
      "Model:                            GLM   Df Residuals:                   257.74\n",
      "Model Family:                Binomial   Df Model:                           12\n",
      "Link Function:                  Logit   Scale:                          1.0000\n",
      "Method:                          IRLS   Log-Likelihood:                -135.29\n",
      "Date:                Mon, 04 Dec 2023   Deviance:                       270.58\n",
      "Time:                        22:36:18   Pearson chi2:                     275.\n",
      "No. Iterations:                     5   Pseudo R-squ. (CS):            0.02437\n",
      "Covariance Type:            nonrobust                                         \n",
      "==================================================================================\n",
      "                     coef    std err          z      P>|z|      [0.025      0.975]\n",
      "----------------------------------------------------------------------------------\n",
      "Intercept         -5.9374      1.049     -5.663      0.000      -7.992      -3.882\n",
      "rate_p_attr        0.4384      0.143      3.061      0.002       0.158       0.719\n",
      "rate_p_intel       0.1566      0.222      0.706      0.480      -0.278       0.591\n",
      "rate_p_fun         0.2457      0.155      1.584      0.113      -0.058       0.550\n",
      "rate_p_amb        -0.1301      0.173     -0.752      0.452      -0.469       0.209\n",
      "rate_p_sinc       -0.0500      0.176     -0.284      0.777      -0.395       0.295\n",
      "prob               0.2163      0.110      1.971      0.049       0.001       0.431\n",
      "gender_p_attr      0.3704      0.217      1.709      0.087      -0.054       0.795\n",
      "gender_p_intel    -0.1750      0.308     -0.569      0.569      -0.778       0.428\n",
      "gender_p_fun       0.0657      0.234      0.281      0.779      -0.392       0.524\n",
      "gender_p_amb      -0.0339      0.247     -0.137      0.891      -0.518       0.450\n",
      "gender_p_sinc     -0.2032      0.266     -0.763      0.446      -0.725       0.319\n",
      "gender_prob        0.1098      0.162      0.679      0.497      -0.207       0.427\n",
      "==================================================================================\n"
     ]
    }
   ],
   "source": [
    "backward(X_full)"
   ]
  },
  {
   "cell_type": "markdown",
   "id": "4187da0a-171c-40c7-a97b-110d0b36bb75",
   "metadata": {},
   "source": [
    "### 11-predictor model\n",
    "\n",
    "Drop gender_p_amb and refit the model."
   ]
  },
  {
   "cell_type": "code",
   "execution_count": 23,
   "id": "e8b78aca-c41c-4ffd-bc4b-ad530e025b29",
   "metadata": {},
   "outputs": [
    {
     "name": "stdout",
     "output_type": "stream",
     "text": [
      "                 Generalized Linear Model Regression Results                  \n",
      "==============================================================================\n",
      "Dep. Variable:               decision   No. Observations:                 4125\n",
      "Model:                            GLM   Df Residuals:                   258.74\n",
      "Model Family:                Binomial   Df Model:                           11\n",
      "Link Function:                  Logit   Scale:                          1.0000\n",
      "Method:                          IRLS   Log-Likelihood:                -135.30\n",
      "Date:                Mon, 04 Dec 2023   Deviance:                       270.60\n",
      "Time:                        22:36:29   Pearson chi2:                     275.\n",
      "No. Iterations:                     5   Pseudo R-squ. (CS):            0.02437\n",
      "Covariance Type:            nonrobust                                         \n",
      "==================================================================================\n",
      "                     coef    std err          z      P>|z|      [0.025      0.975]\n",
      "----------------------------------------------------------------------------------\n",
      "Intercept         -5.9376      1.049     -5.662      0.000      -7.993      -3.882\n",
      "rate_p_attr        0.4394      0.143      3.068      0.002       0.159       0.720\n",
      "rate_p_intel       0.1669      0.209      0.800      0.424      -0.242       0.576\n",
      "rate_p_fun         0.2497      0.153      1.636      0.102      -0.049       0.549\n",
      "rate_p_amb        -0.1468      0.124     -1.188      0.235      -0.389       0.095\n",
      "rate_p_sinc       -0.0498      0.176     -0.282      0.778      -0.396       0.296\n",
      "prob               0.2174      0.110      1.984      0.047       0.003       0.432\n",
      "gender_p_attr      0.3664      0.214      1.708      0.088      -0.054       0.787\n",
      "gender_p_intel    -0.1937      0.275     -0.703      0.482      -0.733       0.346\n",
      "gender_p_fun       0.0575      0.226      0.255      0.799      -0.385       0.500\n",
      "gender_p_sinc     -0.2027      0.266     -0.761      0.446      -0.725       0.319\n",
      "gender_prob        0.1069      0.160      0.667      0.505      -0.207       0.421\n",
      "==================================================================================\n"
     ]
    }
   ],
   "source": [
    "X11 = X_full\n",
    "X11.remove('gender_p_amb')\n",
    "backward(X11)"
   ]
  },
  {
   "cell_type": "markdown",
   "id": "734043e1-1ec5-41b9-8549-fc075f3e8c24",
   "metadata": {},
   "source": [
    "### 10-predictor model\n",
    "\n",
    "Drop gender_p_fun and refit the model."
   ]
  },
  {
   "cell_type": "code",
   "execution_count": 24,
   "id": "45394b48-23a5-4c52-888b-b8f4c31934e4",
   "metadata": {},
   "outputs": [
    {
     "name": "stdout",
     "output_type": "stream",
     "text": [
      "                 Generalized Linear Model Regression Results                  \n",
      "==============================================================================\n",
      "Dep. Variable:               decision   No. Observations:                 4125\n",
      "Model:                            GLM   Df Residuals:                   259.74\n",
      "Model Family:                Binomial   Df Model:                           10\n",
      "Link Function:                  Logit   Scale:                          1.0000\n",
      "Method:                          IRLS   Log-Likelihood:                -135.33\n",
      "Date:                Mon, 04 Dec 2023   Deviance:                       270.66\n",
      "Time:                        22:36:39   Pearson chi2:                     275.\n",
      "No. Iterations:                     5   Pseudo R-squ. (CS):            0.02435\n",
      "Covariance Type:            nonrobust                                         \n",
      "==================================================================================\n",
      "                     coef    std err          z      P>|z|      [0.025      0.975]\n",
      "----------------------------------------------------------------------------------\n",
      "Intercept         -5.9407      1.049     -5.663      0.000      -7.997      -3.885\n",
      "rate_p_attr        0.4305      0.139      3.101      0.002       0.158       0.703\n",
      "rate_p_intel       0.1587      0.207      0.767      0.443      -0.247       0.564\n",
      "rate_p_fun         0.2750      0.116      2.362      0.018       0.047       0.503\n",
      "rate_p_amb        -0.1468      0.124     -1.188      0.235      -0.389       0.095\n",
      "rate_p_sinc       -0.0536      0.177     -0.303      0.762      -0.400       0.292\n",
      "prob               0.2137      0.109      1.965      0.049       0.001       0.427\n",
      "gender_p_attr      0.3850      0.202      1.908      0.056      -0.010       0.780\n",
      "gender_p_intel    -0.1742      0.265     -0.658      0.510      -0.693       0.344\n",
      "gender_p_sinc     -0.1921      0.263     -0.730      0.465      -0.708       0.324\n",
      "gender_prob        0.1140      0.158      0.722      0.470      -0.195       0.423\n",
      "==================================================================================\n"
     ]
    }
   ],
   "source": [
    "X10 = X11\n",
    "X10.remove('gender_p_fun')\n",
    "backward(X10)"
   ]
  },
  {
   "cell_type": "markdown",
   "id": "82e8cf90-0743-42d9-ad7f-e7bc23010958",
   "metadata": {},
   "source": [
    "### 9-predictor model\n",
    "\n",
    "Drop rate_p_sinc and refit the model."
   ]
  },
  {
   "cell_type": "code",
   "execution_count": 25,
   "id": "70063cd7-a1ae-47cf-a6b6-70eda718abcd",
   "metadata": {},
   "outputs": [
    {
     "name": "stdout",
     "output_type": "stream",
     "text": [
      "                 Generalized Linear Model Regression Results                  \n",
      "==============================================================================\n",
      "Dep. Variable:               decision   No. Observations:                 4125\n",
      "Model:                            GLM   Df Residuals:                   260.74\n",
      "Model Family:                Binomial   Df Model:                            9\n",
      "Link Function:                  Logit   Scale:                          1.0000\n",
      "Method:                          IRLS   Log-Likelihood:                -135.38\n",
      "Date:                Mon, 04 Dec 2023   Deviance:                       270.75\n",
      "Time:                        22:36:50   Pearson chi2:                     275.\n",
      "No. Iterations:                     5   Pseudo R-squ. (CS):            0.02433\n",
      "Covariance Type:            nonrobust                                         \n",
      "==================================================================================\n",
      "                     coef    std err          z      P>|z|      [0.025      0.975]\n",
      "----------------------------------------------------------------------------------\n",
      "Intercept         -5.9658      1.046     -5.701      0.000      -8.017      -3.915\n",
      "rate_p_attr        0.4249      0.137      3.093      0.002       0.156       0.694\n",
      "rate_p_intel       0.1223      0.169      0.722      0.470      -0.210       0.454\n",
      "rate_p_fun         0.2723      0.116      2.345      0.019       0.045       0.500\n",
      "rate_p_amb        -0.1471      0.124     -1.189      0.234      -0.390       0.095\n",
      "prob               0.2073      0.106      1.949      0.051      -0.001       0.416\n",
      "gender_p_attr      0.3929      0.200      1.965      0.049       0.001       0.785\n",
      "gender_p_intel    -0.1357      0.233     -0.583      0.560      -0.592       0.320\n",
      "gender_p_sinc     -0.2445      0.198     -1.232      0.218      -0.633       0.144\n",
      "gender_prob        0.1213      0.156      0.778      0.437      -0.184       0.427\n",
      "==================================================================================\n"
     ]
    }
   ],
   "source": [
    "X9 = X10\n",
    "X9.remove('rate_p_sinc')\n",
    "backward(X9)"
   ]
  },
  {
   "cell_type": "markdown",
   "id": "894fd07c-bd93-4ca3-9fd3-06755429515b",
   "metadata": {},
   "source": [
    "### 8-predictor model\n",
    "\n",
    "Drop gender_p_intel and refit the model."
   ]
  },
  {
   "cell_type": "code",
   "execution_count": 26,
   "id": "4c43e278-9df1-4eab-a27e-c77b2949c545",
   "metadata": {},
   "outputs": [
    {
     "name": "stdout",
     "output_type": "stream",
     "text": [
      "                 Generalized Linear Model Regression Results                  \n",
      "==============================================================================\n",
      "Dep. Variable:               decision   No. Observations:                 4125\n",
      "Model:                            GLM   Df Residuals:                   261.74\n",
      "Model Family:                Binomial   Df Model:                            8\n",
      "Link Function:                  Logit   Scale:                          1.0000\n",
      "Method:                          IRLS   Log-Likelihood:                -135.55\n",
      "Date:                Mon, 04 Dec 2023   Deviance:                       271.10\n",
      "Time:                        22:36:59   Pearson chi2:                     275.\n",
      "No. Iterations:                     5   Pseudo R-squ. (CS):            0.02425\n",
      "Covariance Type:            nonrobust                                         \n",
      "=================================================================================\n",
      "                    coef    std err          z      P>|z|      [0.025      0.975]\n",
      "---------------------------------------------------------------------------------\n",
      "Intercept        -5.8822      1.032     -5.698      0.000      -7.905      -3.859\n",
      "rate_p_attr       0.4517      0.131      3.441      0.001       0.194       0.709\n",
      "rate_p_intel      0.0732      0.148      0.494      0.621      -0.217       0.364\n",
      "rate_p_fun        0.2740      0.116      2.357      0.018       0.046       0.502\n",
      "rate_p_amb       -0.1429      0.124     -1.157      0.247      -0.385       0.099\n",
      "prob              0.2205      0.105      2.106      0.035       0.015       0.426\n",
      "gender_p_attr     0.3338      0.173      1.935      0.053      -0.004       0.672\n",
      "gender_p_sinc    -0.3087      0.166     -1.855      0.064      -0.635       0.017\n",
      "gender_prob       0.0958      0.150      0.640      0.522      -0.198       0.389\n",
      "=================================================================================\n"
     ]
    }
   ],
   "source": [
    "X8 = X9\n",
    "X8.remove('gender_p_intel')\n",
    "backward(X8)"
   ]
  },
  {
   "cell_type": "markdown",
   "id": "44c96002-a15c-4c42-aa60-b449d9a39496",
   "metadata": {},
   "source": [
    "### 7-predictor model\n",
    "\n",
    "Drop rate_p_intel and refit the model."
   ]
  },
  {
   "cell_type": "code",
   "execution_count": 27,
   "id": "7047e263-651a-4821-92fd-8316e9a996a7",
   "metadata": {},
   "outputs": [
    {
     "name": "stdout",
     "output_type": "stream",
     "text": [
      "                 Generalized Linear Model Regression Results                  \n",
      "==============================================================================\n",
      "Dep. Variable:               decision   No. Observations:                 4125\n",
      "Model:                            GLM   Df Residuals:                   262.74\n",
      "Model Family:                Binomial   Df Model:                            7\n",
      "Link Function:                  Logit   Scale:                          1.0000\n",
      "Method:                          IRLS   Log-Likelihood:                -135.67\n",
      "Date:                Mon, 04 Dec 2023   Deviance:                       271.34\n",
      "Time:                        22:37:08   Pearson chi2:                     278.\n",
      "No. Iterations:                     5   Pseudo R-squ. (CS):            0.02419\n",
      "Covariance Type:            nonrobust                                         \n",
      "=================================================================================\n",
      "                    coef    std err          z      P>|z|      [0.025      0.975]\n",
      "---------------------------------------------------------------------------------\n",
      "Intercept        -5.6832      0.944     -6.020      0.000      -7.534      -3.833\n",
      "rate_p_attr       0.4638      0.129      3.582      0.000       0.210       0.718\n",
      "rate_p_fun        0.2821      0.115      2.449      0.014       0.056       0.508\n",
      "rate_p_amb       -0.1147      0.109     -1.048      0.295      -0.329       0.100\n",
      "prob              0.2250      0.105      2.154      0.031       0.020       0.430\n",
      "gender_p_attr     0.3134      0.167      1.877      0.061      -0.014       0.641\n",
      "gender_p_sinc    -0.2850      0.159     -1.796      0.072      -0.596       0.026\n",
      "gender_prob       0.0868      0.148      0.585      0.558      -0.204       0.378\n",
      "=================================================================================\n"
     ]
    }
   ],
   "source": [
    "X7 = X8\n",
    "X7.remove('rate_p_intel')\n",
    "backward(X7)"
   ]
  },
  {
   "cell_type": "markdown",
   "id": "1f5c9825-4666-4657-a7bb-2fc12d0fdca5",
   "metadata": {},
   "source": [
    "### 6-predictor model\n",
    "\n",
    "Drop gender_prob and refit the model."
   ]
  },
  {
   "cell_type": "code",
   "execution_count": 28,
   "id": "5583f79c-3e95-41e2-8e49-f1bba872599e",
   "metadata": {},
   "outputs": [
    {
     "name": "stdout",
     "output_type": "stream",
     "text": [
      "                 Generalized Linear Model Regression Results                  \n",
      "==============================================================================\n",
      "Dep. Variable:               decision   No. Observations:                 4125\n",
      "Model:                            GLM   Df Residuals:                   263.74\n",
      "Model Family:                Binomial   Df Model:                            6\n",
      "Link Function:                  Logit   Scale:                          1.0000\n",
      "Method:                          IRLS   Log-Likelihood:                -135.84\n",
      "Date:                Mon, 04 Dec 2023   Deviance:                       271.68\n",
      "Time:                        22:37:19   Pearson chi2:                     276.\n",
      "No. Iterations:                     5   Pseudo R-squ. (CS):            0.02411\n",
      "Covariance Type:            nonrobust                                         \n",
      "=================================================================================\n",
      "                    coef    std err          z      P>|z|      [0.025      0.975]\n",
      "---------------------------------------------------------------------------------\n",
      "Intercept        -5.7479      0.939     -6.123      0.000      -7.588      -3.908\n",
      "rate_p_attr       0.4504      0.127      3.548      0.000       0.202       0.699\n",
      "rate_p_fun        0.2776      0.115      2.419      0.016       0.053       0.503\n",
      "rate_p_amb       -0.1181      0.109     -1.082      0.279      -0.332       0.096\n",
      "prob              0.2633      0.082      3.205      0.001       0.102       0.424\n",
      "gender_p_attr     0.3383      0.161      2.104      0.035       0.023       0.653\n",
      "gender_p_sinc    -0.2446      0.141     -1.732      0.083      -0.521       0.032\n",
      "=================================================================================\n"
     ]
    }
   ],
   "source": [
    "X6 = X7\n",
    "X6.remove('gender_prob')\n",
    "backward(X6)"
   ]
  },
  {
   "cell_type": "markdown",
   "id": "3557f376-96da-4b31-8db3-41aa5ec885cf",
   "metadata": {},
   "source": [
    "### 5-predictor model\n",
    "\n",
    "Drop rate_p_amb and refit the model."
   ]
  },
  {
   "cell_type": "code",
   "execution_count": 29,
   "id": "92aec9ac-8438-4586-9585-ef0ba7a417a6",
   "metadata": {},
   "outputs": [
    {
     "name": "stdout",
     "output_type": "stream",
     "text": [
      "                 Generalized Linear Model Regression Results                  \n",
      "==============================================================================\n",
      "Dep. Variable:               decision   No. Observations:                 4125\n",
      "Model:                            GLM   Df Residuals:                   264.74\n",
      "Model Family:                Binomial   Df Model:                            5\n",
      "Link Function:                  Logit   Scale:                          1.0000\n",
      "Method:                          IRLS   Log-Likelihood:                -136.44\n",
      "Date:                Mon, 04 Dec 2023   Deviance:                       272.87\n",
      "Time:                        22:37:25   Pearson chi2:                     277.\n",
      "No. Iterations:                     5   Pseudo R-squ. (CS):            0.02383\n",
      "Covariance Type:            nonrobust                                         \n",
      "=================================================================================\n",
      "                    coef    std err          z      P>|z|      [0.025      0.975]\n",
      "---------------------------------------------------------------------------------\n",
      "Intercept        -6.0930      0.891     -6.836      0.000      -7.840      -4.346\n",
      "rate_p_attr       0.4277      0.124      3.450      0.001       0.185       0.671\n",
      "rate_p_fun        0.2344      0.106      2.204      0.028       0.026       0.443\n",
      "prob              0.2522      0.081      3.115      0.002       0.093       0.411\n",
      "gender_p_attr     0.3575      0.159      2.245      0.025       0.045       0.670\n",
      "gender_p_sinc    -0.2548      0.140     -1.815      0.069      -0.530       0.020\n",
      "=================================================================================\n"
     ]
    }
   ],
   "source": [
    "X5 = X6\n",
    "X5.remove('rate_p_amb')\n",
    "backward(X5)"
   ]
  },
  {
   "cell_type": "markdown",
   "id": "b08a89a3-05c3-46a8-bc74-b0c8d76e94b4",
   "metadata": {},
   "source": [
    "Now all the coefficients have p-value < 0.1. So we stop here and output summary_df."
   ]
  },
  {
   "cell_type": "code",
   "execution_count": 30,
   "id": "0d1d2225-64f0-4e8e-bd36-758164479aa5",
   "metadata": {},
   "outputs": [],
   "source": [
    "summary_df.iloc[:8].to_csv(\"summary.csv\", index=False)"
   ]
  },
  {
   "cell_type": "code",
   "execution_count": null,
   "id": "aa888455-c7d6-48bb-adc7-9433564d6509",
   "metadata": {},
   "outputs": [],
   "source": []
  }
 ],
 "metadata": {
  "kernelspec": {
   "display_name": "Python 3 (ipykernel)",
   "language": "python",
   "name": "python3"
  },
  "language_info": {
   "codemirror_mode": {
    "name": "ipython",
    "version": 3
   },
   "file_extension": ".py",
   "mimetype": "text/x-python",
   "name": "python",
   "nbconvert_exporter": "python",
   "pygments_lexer": "ipython3",
   "version": "3.11.1"
  },
  "vscode": {
   "interpreter": {
    "hash": "aee8b7b246df8f9039afb4144a1f6fd8d2ca17a180786b69acc140d282b71a49"
   }
  }
 },
 "nbformat": 4,
 "nbformat_minor": 5
}
