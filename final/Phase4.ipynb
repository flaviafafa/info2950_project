{
 "cells": [
  {
   "cell_type": "markdown",
   "id": "09dc2b3b",
   "metadata": {},
   "source": [
    "# 2950 Project Phase 4\n",
    "\n",
    "Flavia Jiang (yj472), Rachel Wang (jw879)"
   ]
  },
  {
   "cell_type": "markdown",
   "id": "04c25863",
   "metadata": {},
   "source": [
    "# Part 1 - Introduction\n",
    "## Background Information:\n",
    "In this project, we look for different attributes' influence on dating decision and the differences among gender.\n",
    "\n",
    "Mate selection is a complex phenomenon influenced by various factors, where dating is the learning period for selecting potential marriage partners. 2023 data from Pew Research Center finds that three in 10 Americans are single, and about half (51%) are open to either a committed relationship or casual dates. Over half of men (56%) are looking for either a committed relationship or casual dates, and less than half of women (44%) say the same thing.\n",
    "\n",
    "Given the important status of dating in current American's life, this research will focuses on analysis on a Speed Dating Experiement. The experiment involved participants engaging in speed dating sessions, where individuals had brief interactions and decided whether they wanted to date a potential match. The research highlights significant gender differences in decision-making during these speed dating sessions. For instance, the data shows that women are more likely to say \"Yes\" in their first meeting compared to men.\n",
    "## Research Questions:\n",
    "How accurately can we predict people's decision during the initial meet about whether they would like to meet their dates again based on their ratings on various attributes of their dates (attractiveness, sincerity, fun, intelligence, and ambition) Are some predictors less or more important for the female or male participants? \n",
    "\n",
    "## Summary of Findings:\n",
    "We found that people are more likely to say yes to dates who are more fun and attractive."
   ]
  },
  {
   "cell_type": "code",
   "execution_count": 51,
   "id": "df8f4913",
   "metadata": {},
   "outputs": [],
   "source": [
    "import numpy as np\n",
    "import pandas as pd\n",
    "import matplotlib.pyplot as plt\n",
    "import seaborn as sns\n",
    "import datetime\n",
    "from sklearn.linear_model import LinearRegression, LogisticRegression\n",
    "from sklearn.model_selection import train_test_split, KFold, cross_val_score\n",
    "import duckdb\n",
    "from statsmodels.api import Logit\n",
    "import statsmodels.api as sm\n",
    "import statsmodels.formula.api as smf"
   ]
  },
  {
   "cell_type": "markdown",
   "id": "27115ff0",
   "metadata": {},
   "source": [
    "# Part 2 - Data Description"
   ]
  },
  {
   "cell_type": "markdown",
   "id": "e8636c1c",
   "metadata": {},
   "source": [
    "## Data Cleaning"
   ]
  },
  {
   "cell_type": "markdown",
   "id": "abaa6b13",
   "metadata": {},
   "source": [
    "For details, see Appendix.ipynb. The cleaned dataframe was saved to a csv file: https://github.com/flaviafafaf/info2950_project/blob/main/final/dating_main.csv"
   ]
  },
  {
   "cell_type": "code",
   "execution_count": 55,
   "id": "96fa031d",
   "metadata": {},
   "outputs": [
    {
     "data": {
      "text/html": [
       "<div>\n",
       "<style scoped>\n",
       "    .dataframe tbody tr th:only-of-type {\n",
       "        vertical-align: middle;\n",
       "    }\n",
       "\n",
       "    .dataframe tbody tr th {\n",
       "        vertical-align: top;\n",
       "    }\n",
       "\n",
       "    .dataframe thead th {\n",
       "        text-align: right;\n",
       "    }\n",
       "</style>\n",
       "<table border=\"1\" class=\"dataframe\">\n",
       "  <thead>\n",
       "    <tr style=\"text-align: right;\">\n",
       "      <th></th>\n",
       "      <th>id</th>\n",
       "      <th>gender</th>\n",
       "      <th>wave</th>\n",
       "      <th>num_dates</th>\n",
       "      <th>partner_id</th>\n",
       "      <th>age</th>\n",
       "      <th>field_cd</th>\n",
       "      <th>race</th>\n",
       "      <th>career_c</th>\n",
       "      <th>rate_self_attr</th>\n",
       "      <th>...</th>\n",
       "      <th>decision</th>\n",
       "      <th>rate_p_attr</th>\n",
       "      <th>rate_p_sinc</th>\n",
       "      <th>rate_p_intel</th>\n",
       "      <th>rate_p_fun</th>\n",
       "      <th>rate_p_amb</th>\n",
       "      <th>field</th>\n",
       "      <th>race_cd</th>\n",
       "      <th>career</th>\n",
       "      <th>gender_cd</th>\n",
       "    </tr>\n",
       "  </thead>\n",
       "  <tbody>\n",
       "    <tr>\n",
       "      <th>0</th>\n",
       "      <td>4</td>\n",
       "      <td>Female</td>\n",
       "      <td>1</td>\n",
       "      <td>10</td>\n",
       "      <td>11</td>\n",
       "      <td>23</td>\n",
       "      <td>1</td>\n",
       "      <td>European/Caucasian-American</td>\n",
       "      <td>1</td>\n",
       "      <td>7</td>\n",
       "      <td>...</td>\n",
       "      <td>0</td>\n",
       "      <td>4</td>\n",
       "      <td>10</td>\n",
       "      <td>8</td>\n",
       "      <td>5</td>\n",
       "      <td>8</td>\n",
       "      <td>Law</td>\n",
       "      <td>2</td>\n",
       "      <td>Lawyer</td>\n",
       "      <td>0</td>\n",
       "    </tr>\n",
       "    <tr>\n",
       "      <th>1</th>\n",
       "      <td>4</td>\n",
       "      <td>Female</td>\n",
       "      <td>1</td>\n",
       "      <td>10</td>\n",
       "      <td>12</td>\n",
       "      <td>23</td>\n",
       "      <td>1</td>\n",
       "      <td>European/Caucasian-American</td>\n",
       "      <td>1</td>\n",
       "      <td>7</td>\n",
       "      <td>...</td>\n",
       "      <td>0</td>\n",
       "      <td>8</td>\n",
       "      <td>7</td>\n",
       "      <td>8</td>\n",
       "      <td>10</td>\n",
       "      <td>7</td>\n",
       "      <td>Law</td>\n",
       "      <td>2</td>\n",
       "      <td>Lawyer</td>\n",
       "      <td>0</td>\n",
       "    </tr>\n",
       "    <tr>\n",
       "      <th>2</th>\n",
       "      <td>4</td>\n",
       "      <td>Female</td>\n",
       "      <td>1</td>\n",
       "      <td>10</td>\n",
       "      <td>13</td>\n",
       "      <td>23</td>\n",
       "      <td>1</td>\n",
       "      <td>European/Caucasian-American</td>\n",
       "      <td>1</td>\n",
       "      <td>7</td>\n",
       "      <td>...</td>\n",
       "      <td>0</td>\n",
       "      <td>4</td>\n",
       "      <td>7</td>\n",
       "      <td>8</td>\n",
       "      <td>8</td>\n",
       "      <td>6</td>\n",
       "      <td>Law</td>\n",
       "      <td>2</td>\n",
       "      <td>Lawyer</td>\n",
       "      <td>0</td>\n",
       "    </tr>\n",
       "    <tr>\n",
       "      <th>3</th>\n",
       "      <td>4</td>\n",
       "      <td>Female</td>\n",
       "      <td>1</td>\n",
       "      <td>10</td>\n",
       "      <td>14</td>\n",
       "      <td>23</td>\n",
       "      <td>1</td>\n",
       "      <td>European/Caucasian-American</td>\n",
       "      <td>1</td>\n",
       "      <td>7</td>\n",
       "      <td>...</td>\n",
       "      <td>1</td>\n",
       "      <td>8</td>\n",
       "      <td>10</td>\n",
       "      <td>7</td>\n",
       "      <td>10</td>\n",
       "      <td>7</td>\n",
       "      <td>Law</td>\n",
       "      <td>2</td>\n",
       "      <td>Lawyer</td>\n",
       "      <td>0</td>\n",
       "    </tr>\n",
       "    <tr>\n",
       "      <th>4</th>\n",
       "      <td>4</td>\n",
       "      <td>Female</td>\n",
       "      <td>1</td>\n",
       "      <td>10</td>\n",
       "      <td>15</td>\n",
       "      <td>23</td>\n",
       "      <td>1</td>\n",
       "      <td>European/Caucasian-American</td>\n",
       "      <td>1</td>\n",
       "      <td>7</td>\n",
       "      <td>...</td>\n",
       "      <td>0</td>\n",
       "      <td>6</td>\n",
       "      <td>9</td>\n",
       "      <td>8</td>\n",
       "      <td>9</td>\n",
       "      <td>8</td>\n",
       "      <td>Law</td>\n",
       "      <td>2</td>\n",
       "      <td>Lawyer</td>\n",
       "      <td>0</td>\n",
       "    </tr>\n",
       "  </tbody>\n",
       "</table>\n",
       "<p>5 rows × 24 columns</p>\n",
       "</div>"
      ],
      "text/plain": [
       "   id  gender  wave  num_dates  partner_id  age  field_cd  \\\n",
       "0   4  Female     1         10          11   23         1   \n",
       "1   4  Female     1         10          12   23         1   \n",
       "2   4  Female     1         10          13   23         1   \n",
       "3   4  Female     1         10          14   23         1   \n",
       "4   4  Female     1         10          15   23         1   \n",
       "\n",
       "                          race  career_c  rate_self_attr  ...  decision  \\\n",
       "0  European/Caucasian-American         1               7  ...         0   \n",
       "1  European/Caucasian-American         1               7  ...         0   \n",
       "2  European/Caucasian-American         1               7  ...         0   \n",
       "3  European/Caucasian-American         1               7  ...         1   \n",
       "4  European/Caucasian-American         1               7  ...         0   \n",
       "\n",
       "   rate_p_attr  rate_p_sinc  rate_p_intel  rate_p_fun  rate_p_amb  field  \\\n",
       "0            4           10             8           5           8    Law   \n",
       "1            8            7             8          10           7    Law   \n",
       "2            4            7             8           8           6    Law   \n",
       "3            8           10             7          10           7    Law   \n",
       "4            6            9             8           9           8    Law   \n",
       "\n",
       "   race_cd   career  gender_cd  \n",
       "0        2  Lawyer           0  \n",
       "1        2  Lawyer           0  \n",
       "2        2  Lawyer           0  \n",
       "3        2  Lawyer           0  \n",
       "4        2  Lawyer           0  \n",
       "\n",
       "[5 rows x 24 columns]"
      ]
     },
     "execution_count": 55,
     "metadata": {},
     "output_type": "execute_result"
    }
   ],
   "source": [
    "main_df = pd.read_csv(\"dating_main.csv\").iloc[: , 1:]\n",
    "main_df.head()"
   ]
  },
  {
   "cell_type": "markdown",
   "id": "d3ecd165",
   "metadata": {},
   "source": [
    "## 1. What are the observations (rows) and the attributes (columns)?\n",
    "\n",
    "Rows of main_df:\n",
    "\n",
    "- Each row represents a dating meet between two participants (one as dater, one as datee) during experimental speed dating events.\n",
    "- For example, subject 1 and subject 3 dated each other in the speed dating event. Two rows that represent this pair would be in the data set. One row has subject 1 as dater, subject 3 as datee. The other row has subject 3 as dater, subject 1 as datee. \n",
    "- Notes: a subject would date multiple subjects during the event.\n",
    "\n",
    "Columns of main_df: \n",
    "\n",
    "- id: numerical, identifies the dater\n",
    "- gender: categorical, gender of dater, \"Female\" or \"Male\"\n",
    "- gender_cd: binary, gender coded (Male - 1, Female - 0)\n",
    "- wave: numerical, identifies the speed dating event session the dater was in \n",
    "- round: numerical, number of datees a dater met in the speed dating event\n",
    "- partner_id: numerical, datee’s id number\n",
    "- age: numerical, age of dater (potential predictor)\n",
    "- decision: whether dater would like to meet the datee again. 1=yes, 0=no (response)\n",
    "- field (value) & field_cd (code) that the dater studied\n",
    "    - 1 Law  \n",
    "    - 2 Math\n",
    "    - 3 Social Science, Psychologist \n",
    "    - 4 Medical Science, Pharmaceuticals, and Bio Tech \n",
    "    - 5 Engineering  \n",
    "    - 6 English/Creative Writing/ Journalism \n",
    "    - 7 History/Religion/Philosophy \n",
    "    - 8 Business/Econ/Finance \n",
    "    - 9 Education, Academia \n",
    "    - 10 Biological Sciences/Chemistry/Physics\n",
    "    - 11 Social Work \n",
    "    - 12 Undergrad/undecided \n",
    "    - 13 Political Science/International Affairs \n",
    "    - 14 Film\n",
    "    - 15 Fine Arts/Arts Administration\n",
    "    - 16 Languages\n",
    "    - 17 Architecture\n",
    "    - 18 Other\n",
    "- race (value) & race_cd (code): categorical, race of dater\n",
    "    - Black/African American\n",
    "    - European/Caucasian-American\n",
    "    - Latino/Hispanic American\n",
    "    - Asian/Pacific Islander/Asian-American\n",
    "    - Native American\n",
    "    - Other\n",
    "- career (value) & career_c (code): categorical, career of dater\n",
    "    - Lawyer \n",
    "    - Academic/Research \n",
    "    - Psychologist \n",
    "    - Doctor/Medicine \n",
    "    - Engineer \n",
    "    - Creative Arts/Entertainment \n",
    "    - Banking/Consulting/Finance/Marketing/Business/CEO/Entrepreneur/Admin \n",
    "    - Real Estate \n",
    "    - International/Humanitarian Affairs \n",
    "    - Undecided \n",
    "    - Social Work\n",
    "    - Speech Pathology\n",
    "    - Politics\n",
    "    - Pro sports/Athletics\n",
    "    - Other\n",
    "    - Journalism\n",
    "    - Architecture\n",
    "     \n",
    "- Dater's ratings on themselves for the following five attributes on a scale of 1-10: (1=awful, 10=great) (potential predictors)\n",
    "    - rate_self_attr: Attractive\n",
    "    - rate_self_sinc: Sincere\n",
    "    - rate_self_intel: Intelligent\n",
    "    - rate_self_fun: Fun\n",
    "    - rate_self_amb: Ambitious\n",
    "     \n",
    "- Dater's ratings on partners for the following five attributes on a scale of 1-10:  (1=awful, 10=great)(potential predictors)\n",
    "    - rate_p_attr: Attractive\n",
    "    - rate_p_sinc: Sincere\n",
    "    - rate_p_intel: Intelligent\n",
    "    - rate_p_fun: Fun\n",
    "    - rate_p_amb: Ambitious\n",
    "    \n",
    "## 2. Why was this dataset created?\n",
    "\n",
    "This dataset was created to investigate and analyze various aspects of human dating behaviors in the context of speed dating. Researchers were interested in understanding how individuals make dating decisions, what attributes they consider important, and how different factors predict their decisions about whether to continue the relationship. The researchers were particularly interested in the gender differences in dating behaviors and decision making strategies.\n",
    "\n",
    "## 3. Who funded the creation of the dataset?\n",
    "\n",
    "The dataset was collected as part of academic research. \n",
    "\n",
    "## 4. What processes might have influenced what data was observed and recorded and what was not?\n",
    "\n",
    "Participant Demographics: The age, gender, and demographic characteristics of the participants could influence the data collected. In this study, all subjects are from graduate and professional school of Columbia University which might cause bias for what the researcher observed.\n",
    "\n",
    "Self-Selection of Participants: Participants in the speed dating experiment were volunteers, which means they self-selected to take part. This self-selection process may have introduced biases, as those who chose to participate might have different preferences or characteristics compared to the general population. This could impact the generalizability of the findings.\n",
    "\n",
    "Experiment Design: The design of the speed dating experiment determined what data could be collected. The researchers structured the experiment, including the number of participants, the number of potential partners, and the available information about each partner. The experimental conditions may not fully represent real-world dating situations.\n",
    "\n",
    "Survey Responses: The data collected was based on surveys and questionnaires filled out by participants. Data collection relied on participants' willingness to respond honestly and accurately, which could be influenced by social desirability bias or other factors. \n",
    "\n",
    "## 5. What preprocessing was done, and how did the data come to be in the form that you are using?\n",
    "\n",
    "We selected columns necessary for our study. We then renamed some of the columns to more meaningful names, changed the datatypes of some columns to the most appropriate types, and removed missing data. \n",
    "\n",
    "\n",
    "## 6. If people are involved, were they aware of the data collection, and if so, what purpose did they expect the data to be used for?\n",
    "\n",
    "Participants in the speed dating events would have been aware of the data collection process, as informed consent is a standard practice in research involving human subjects. They would have been informed about the purpose of the data collection, which is typically for academic research. Participants would have expected the data to be used to study dating behavior and potentially contribute to our understanding of human interactions and preferences.\n",
    "\n",
    "## 7. Where can your raw source data be found, if applicable? Provide a link to the raw data\n",
    "\n",
    "Raw data can be found in our repo: https://github.com/flaviafafaf/info2950_project/blob/main/data/speed_dating_data.csv\n",
    "\n",
    "Codebook can also be found in our repo: \n",
    "https://github.com/flaviafafaf/info2950_project/blob/main/data/variable_codebook.doc\n",
    "\n",
    "Link to the source data and codebook: http://www.stat.columbia.edu/~gelman/arm/examples/speed.dating/\n",
    "\n",
    "Link to the paper written by the researchers: \n",
    "http://www.stat.columbia.edu/~gelman/stuff_for_blog/sheena.pdf"
   ]
  },
  {
   "cell_type": "markdown",
   "id": "ec83cfd8",
   "metadata": {},
   "source": [
    "# Part 3 - Preregistration statements"
   ]
  },
  {
   "cell_type": "markdown",
   "id": "4a713d40",
   "metadata": {},
   "source": [
    "**Hypothesis 1**\n",
    "Generally, daters consider various attributes in the datee (attractiveness, sincerity, fun, intelligence, ambition) when deciding whether they would like to meet the datee again.\n",
    "\n",
    "**Hypothesis 2**\n",
    "Women might care more or less about the above attributes than men. That is, gender differences exist in how people make dating decisions based on various attributes of their dates.\n",
    "\n",
    "Because for the above two hypotheses, the response variable is the same, which the is dating decision. So we will test them together in a multivariate logistic regression model.\n",
    "\n",
    "For each of the variables in $β_{rate\\_p\\_attr}$, $β_{rate\\_p\\_sinc}$, $β_{rate\\_p\\_intel}$, $β_{rate\\_p\\_fun}$, $β_{rate\\_p\\_amb}$, $β_{rate\\_p\\_attr*gender}$, $β_{rate\\_p\\_sinc*gender}$, $β_{rate\\_p\\_intel*gender}$, $β_{rate\\_p\\_fun*gender}$, $β_{rate\\_p\\_amb*gender}$, call it $β_{i}$:\n",
    "\n",
    "$H_{0}$: $β_{i}$ = 0 given other variables in the model\n",
    "\n",
    "$H_{a}$: $β_{i}$ != 0 given other variables in the model"
   ]
  },
  {
   "cell_type": "markdown",
   "id": "49819de6",
   "metadata": {},
   "source": [
    "# Part 4- Data Analysis - Descriptive Analysis"
   ]
  },
  {
   "cell_type": "markdown",
   "id": "2577171a",
   "metadata": {},
   "source": [
    "## About the participants\n",
    "\n",
    "We cared about how the sample was made up of in term of demographics because we wanted to be aware of sampling bias, which was part of data limitations that might hinder us from generalizing our model to certain different populations.\n",
    "\n",
    "We analyzed the distribution of participants' gender, age, race, and field (see \"About the Participants\" in Appendix.ipynb). It turned out subjects aged below 20 or above 35, Black/African American, Latino/Hispanic American, and international students, and majors like Fine Arts/Arts Administration were underrepresented in the sample. One should be really careful about generalizing the resulting fitted model to these populations."
   ]
  },
  {
   "cell_type": "markdown",
   "id": "015ce083",
   "metadata": {},
   "source": [
    "## About the variables"
   ]
  },
  {
   "cell_type": "markdown",
   "id": "8817d5eb",
   "metadata": {},
   "source": [
    "Now let's explore how female and male participants made decisions on dates similarly or differently."
   ]
  },
  {
   "cell_type": "code",
   "execution_count": 60,
   "id": "2c0d0762",
   "metadata": {},
   "outputs": [
    {
     "name": "stdout",
     "output_type": "stream",
     "text": [
      "gender\n",
      "Female    0.366365\n",
      "Male      0.506028\n",
      "Name: decision, dtype: float64\n",
      "0.437\n"
     ]
    }
   ],
   "source": [
    "print(main_df.groupby(\"gender\")[\"decision\"].mean())\n",
    "print(round(main_df[\"decision\"].mean(),3))"
   ]
  },
  {
   "cell_type": "markdown",
   "id": "7a4da708",
   "metadata": {},
   "source": [
    "On average, female participants were more selective than male participants. That is, 36.6% of the times female participants expressed they would like to meet the male datee again while male participants said yes 50.6% of the times. Such finding made us more confident in the potential of our research questions about gender differences in speed dating selectivity.\n",
    "\n",
    "The overall mean of decision is 0.437, implying both of the response classes are well represented."
   ]
  },
  {
   "cell_type": "code",
   "execution_count": 61,
   "id": "7e5a21b1",
   "metadata": {},
   "outputs": [
    {
     "data": {
      "image/png": "[encoded data removed]",
      "text/plain": [
       "<Figure size 1000x600 with 6 Axes>"
      ]
     },
     "metadata": {},
     "output_type": "display_data"
    }
   ],
   "source": [
    "fig, axs = plt.subplots(ncols=3, nrows=2, figsize=(10,6))\n",
    "def draw_hist(numerical_var, bin_width, ax):\n",
    "    sns.histplot(data = main_df, x = numerical_var, binwidth = bin_width, hue = \"gender\", ax = ax)\n",
    "\n",
    "axs[0][0].set_title(\"Rate partner's attractiveness\")\n",
    "axs[0][1].set_title(\"Rate partner's sincerity\")\n",
    "axs[0][2].set_title(\"Rate partner's fun\")\n",
    "axs[1][0].set_title(\"Rate partner's intelligence\")\n",
    "axs[1][1].set_title(\"Rate partner's ambition\")\n",
    "\n",
    "draw_hist(\"rate_p_attr\", 1, axs[0,0])\n",
    "draw_hist(\"rate_p_sinc\", 1, axs[0,1])\n",
    "draw_hist(\"rate_p_fun\", 1, axs[0,2])\n",
    "draw_hist(\"rate_p_intel\", 1, axs[1,0])\n",
    "draw_hist(\"rate_p_amb\", 1, axs[1,1])"
   ]
  },
  {
   "cell_type": "markdown",
   "id": "1fa44c68",
   "metadata": {},
   "source": [
    "It is interesting that on average, male participants rated their female datees' attractiveness much higher than female participants rated male datees. Female participants rated their datees' intelligence and amibition much higher than male participants rated female datees. \n",
    "\n",
    "So let's try to explore how daters' ratings for datees for the five attributes were associated with the daters' decisions."
   ]
  },
  {
   "cell_type": "code",
   "execution_count": 62,
   "id": "e81a0dd0",
   "metadata": {},
   "outputs": [
    {
     "name": "stdout",
     "output_type": "stream",
     "text": [
      "['attr', 0.5, 0.45, 0.53]\n",
      "['sinc', 0.21, 0.24, 0.19]\n",
      "['fun', 0.41, 0.4, 0.42]\n",
      "['intel', 0.21, 0.24, 0.22]\n",
      "['amb', 0.17, 0.19, 0.21]\n"
     ]
    }
   ],
   "source": [
    "female = dating_df[dating_df[\"gender\"] == \"Female\"]\n",
    "male = dating_df[dating_df[\"gender\"] == \"Male\"]\n",
    "for attr in [\"attr\", \"sinc\", \"fun\", \"intel\", \"amb\"]:\n",
    "    var = \"rate_p_\" + attr\n",
    "    print([attr, round(np.corrcoef(dating_df[var], dating_df[\"decision\"])[0,1],2),\n",
    "           round(np.corrcoef(female[var], female[\"decision\"])[0,1],2), \n",
    "           round(np.corrcoef(male[var], male[\"decision\"])[0,1],2)])"
   ]
  },
  {
   "cell_type": "markdown",
   "id": "28071eb0",
   "metadata": {},
   "source": [
    "It seems that \"attractive\" and \"fun\" are more correlated with participants' decisions than other three attributes. The gender differences were not very obvious, but here we were just using pairwise correlation coefficients (which assumed linearity). And we would further examine the gender differences with multivariate logistic regression in the next phase."
   ]
  },
  {
   "cell_type": "markdown",
   "id": "27852410",
   "metadata": {},
   "source": [
    "## Modeling"
   ]
  },
  {
   "cell_type": "markdown",
   "id": "c8a9d4ee",
   "metadata": {},
   "source": [
    "1. Create interaction terms\n",
    "2. Split main_df into training/validation/test sets.\n",
    "3. Check assumptions for multivariate logistic regression on the training set.\n",
    "4. Fit a weighted logistic regression.\n",
    "5. *Interpret coefficients & discuss significance\n",
    "6. Backward stepwise selection based on p-value\n",
    "7. Validation & test"
   ]
  },
  {
   "cell_type": "markdown",
   "id": "759eba23",
   "metadata": {},
   "source": [
    "### 1. Create interaction terms"
   ]
  },
  {
   "cell_type": "code",
   "execution_count": 64,
   "id": "b252effb",
   "metadata": {},
   "outputs": [],
   "source": [
    "# gender_cd 1 = Male; 0 = Female\n",
    "main_df['gender_p_attr'] = main_df[\"gender_cd\"] * main_df[\"rate_p_attr\"] # gender_cd*rate_p_attr\n",
    "main_df['gender_p_sinc'] = main_df[\"gender_cd\"] * main_df[\"rate_p_sinc\"] # gender_cd*rate_p_sinc\n",
    "main_df['gender_p_intel'] = main_df[\"gender_cd\"] * main_df[\"rate_p_intel\"] # gender_cd*rate_p_intel\n",
    "main_df['gender_p_fun'] = main_df[\"gender_cd\"] * main_df[\"rate_p_fun\"] # gender_cd*rate_p_fun\n",
    "main_df['gender_p_amb'] = main_df[\"gender_cd\"] * main_df[\"rate_p_amb\"] # gender_cd*rate_p_amb\n",
    "\n",
    "main_X_vars = ['rate_p_attr', 'rate_p_intel', 'rate_p_fun', 'rate_p_amb', 'rate_p_sinc', \n",
    "              'gender_p_attr', 'gender_p_intel', 'gender_p_fun', 'gender_p_amb', 'gender_p_sinc']"
   ]
  },
  {
   "cell_type": "markdown",
   "id": "80ff0d42",
   "metadata": {},
   "source": [
    "### 2. Split main_df into training/validation/test sets\n",
    "\n",
    "Reference: see source 1 under References (at the end of this section)"
   ]
  },
  {
   "cell_type": "code",
   "execution_count": 66,
   "id": "fbf5b982",
   "metadata": {},
   "outputs": [
    {
     "name": "stdout",
     "output_type": "stream",
     "text": [
      "(3909, 29)\n",
      "(838, 29)\n",
      "(838, 29)\n"
     ]
    }
   ],
   "source": [
    "SEED = 7777\n",
    "main_train, main_val_and_test = train_test_split(main_df, test_size=.3, random_state = SEED)\n",
    "main_val, main_test = train_test_split(main_val_and_test, test_size=.5, random_state = SEED)\n",
    "print(main_train.shape)\n",
    "print(main_val.shape)\n",
    "print(main_test.shape)"
   ]
  },
  {
   "cell_type": "markdown",
   "id": "7bac7302",
   "metadata": {},
   "source": [
    "### 3. Check assumptions for multivariate logistic regression on the training set\n",
    "\n",
    "Reference: see source 2 in References"
   ]
  },
  {
   "cell_type": "markdown",
   "id": "769bebca",
   "metadata": {},
   "source": [
    "#### (a) Independent observations\n",
    "\n",
    "\"Logistic regression assumes that the observations in the dataset are independent of each other. That is, the observations should not come from repeated measurements of the same individual or be related to each other in any way.\"\n",
    "\n",
    "One common way to check this assumption is to make a plot of residual vs the order of observations and investigate any non-random patterns. At this step we have not fitted the model, so we cannot make the plot yet.\n",
    "\n",
    "However, we know for sure the observations are NOT independent because of how the data was created. For example, say the first row represents the date between participant 1 and participant 2 and the second row represents the date between participant 1 and participant 3. Then the first two observations are dependent because the ratings, which are our explanatory variables, and the decision (our response variable) are given by the same person. They can take different values, but it is quite intuitive the same participant's ratings and decision towards different dates are dependent because of their unique rating/decision system and other personal bias.\n",
    "\n",
    "Notice that some participants dated more people than others in the experiment. To ensure participants making more decisions are not over-weighted in the model (and therefore address the abovementioned problem), the original paper weighted each observation by the inverse of num_dates (number of people the participant met in the event)."
   ]
  },
  {
   "cell_type": "markdown",
   "id": "8fd0da0f",
   "metadata": {},
   "source": [
    "#### (b) Absence of multicollinearity\n",
    "\n",
    "\"Multicollinearity occurs when two or more explanatory variables are highly correlated to each other, such that they do not provide unique or independent information in the regression model.\"\n",
    "\n",
    "We now check this assumption with correlation coefficients."
   ]
  },
  {
   "cell_type": "code",
   "execution_count": 67,
   "id": "748cb2f9",
   "metadata": {},
   "outputs": [
    {
     "data": {
      "text/html": [
       "<div>\n",
       "<style scoped>\n",
       "    .dataframe tbody tr th:only-of-type {\n",
       "        vertical-align: middle;\n",
       "    }\n",
       "\n",
       "    .dataframe tbody tr th {\n",
       "        vertical-align: top;\n",
       "    }\n",
       "\n",
       "    .dataframe thead th {\n",
       "        text-align: right;\n",
       "    }\n",
       "</style>\n",
       "<table border=\"1\" class=\"dataframe\">\n",
       "  <thead>\n",
       "    <tr style=\"text-align: right;\">\n",
       "      <th></th>\n",
       "      <th>rate_p_attr</th>\n",
       "      <th>rate_p_intel</th>\n",
       "      <th>rate_p_fun</th>\n",
       "      <th>rate_p_amb</th>\n",
       "      <th>rate_p_sinc</th>\n",
       "    </tr>\n",
       "  </thead>\n",
       "  <tbody>\n",
       "    <tr>\n",
       "      <th>rate_p_attr</th>\n",
       "      <td>1.000000</td>\n",
       "      <td>0.378713</td>\n",
       "      <td>0.592064</td>\n",
       "      <td>0.354465</td>\n",
       "      <td>0.401095</td>\n",
       "    </tr>\n",
       "    <tr>\n",
       "      <th>rate_p_intel</th>\n",
       "      <td>0.378713</td>\n",
       "      <td>1.000000</td>\n",
       "      <td>0.496378</td>\n",
       "      <td>0.616104</td>\n",
       "      <td>0.638001</td>\n",
       "    </tr>\n",
       "    <tr>\n",
       "      <th>rate_p_fun</th>\n",
       "      <td>0.592064</td>\n",
       "      <td>0.496378</td>\n",
       "      <td>1.000000</td>\n",
       "      <td>0.496977</td>\n",
       "      <td>0.501193</td>\n",
       "    </tr>\n",
       "    <tr>\n",
       "      <th>rate_p_amb</th>\n",
       "      <td>0.354465</td>\n",
       "      <td>0.616104</td>\n",
       "      <td>0.496977</td>\n",
       "      <td>1.000000</td>\n",
       "      <td>0.437044</td>\n",
       "    </tr>\n",
       "    <tr>\n",
       "      <th>rate_p_sinc</th>\n",
       "      <td>0.401095</td>\n",
       "      <td>0.638001</td>\n",
       "      <td>0.501193</td>\n",
       "      <td>0.437044</td>\n",
       "      <td>1.000000</td>\n",
       "    </tr>\n",
       "  </tbody>\n",
       "</table>\n",
       "</div>"
      ],
      "text/plain": [
       "              rate_p_attr  rate_p_intel  rate_p_fun  rate_p_amb  rate_p_sinc\n",
       "rate_p_attr      1.000000      0.378713    0.592064    0.354465     0.401095\n",
       "rate_p_intel     0.378713      1.000000    0.496378    0.616104     0.638001\n",
       "rate_p_fun       0.592064      0.496378    1.000000    0.496977     0.501193\n",
       "rate_p_amb       0.354465      0.616104    0.496977    1.000000     0.437044\n",
       "rate_p_sinc      0.401095      0.638001    0.501193    0.437044     1.000000"
      ]
     },
     "execution_count": 67,
     "metadata": {},
     "output_type": "execute_result"
    }
   ],
   "source": [
    "temp = main_train[['rate_p_attr', 'rate_p_intel', 'rate_p_fun', 'rate_p_amb', 'rate_p_sinc']]\n",
    "temp.corr()"
   ]
  },
  {
   "cell_type": "markdown",
   "id": "3c6b3426",
   "metadata": {},
   "source": [
    "There is no pair of explanatory variables with high correlation coefficient (e.g., > 0.7), so it seems the assumption is not violated."
   ]
  },
  {
   "cell_type": "markdown",
   "id": "ca5e27b1",
   "metadata": {},
   "source": [
    "#### (c) Lack of strongly influential outliers\n",
    "\n",
    "All the rating variables range from 1 to 10, and from their distribution graphs (in the previous section), we observe no outliers. All the interaction terms are binary, so there are no outliers."
   ]
  },
  {
   "cell_type": "markdown",
   "id": "a040e70d",
   "metadata": {},
   "source": [
    "#### (d) Binary response"
   ]
  },
  {
   "cell_type": "code",
   "execution_count": 68,
   "id": "2f78130a",
   "metadata": {},
   "outputs": [
    {
     "data": {
      "text/plain": [
       "array([0, 1])"
      ]
     },
     "execution_count": 68,
     "metadata": {},
     "output_type": "execute_result"
    }
   ],
   "source": [
    "main_df[\"decision\"].unique()"
   ]
  },
  {
   "cell_type": "markdown",
   "id": "7556c617",
   "metadata": {},
   "source": [
    "Yes, it is binary."
   ]
  },
  {
   "cell_type": "markdown",
   "id": "06faa4e4",
   "metadata": {},
   "source": [
    "### 4. Fit a weighted logistic regression.\n",
    "\n",
    "Reference: source 3"
   ]
  },
  {
   "cell_type": "code",
   "execution_count": 69,
   "id": "e8b1dcd1",
   "metadata": {},
   "outputs": [
    {
     "name": "stdout",
     "output_type": "stream",
     "text": [
      "                 Generalized Linear Model Regression Results                  \n",
      "==============================================================================\n",
      "Dep. Variable:               decision   No. Observations:                 3909\n",
      "Model:                            GLM   Df Residuals:                   245.12\n",
      "Model Family:                Binomial   Df Model:                           10\n",
      "Link Function:                  Logit   Scale:                          1.0000\n",
      "Method:                          IRLS   Log-Likelihood:                -134.94\n",
      "Date:                Thu, 16 Nov 2023   Deviance:                       269.87\n",
      "Time:                        22:55:59   Pearson chi2:                     269.\n",
      "No. Iterations:                     5   Pseudo R-squ. (CS):            0.02066\n",
      "Covariance Type:            nonrobust                                         \n",
      "==================================================================================\n",
      "                     coef    std err          z      P>|z|      [0.025      0.975]\n",
      "----------------------------------------------------------------------------------\n",
      "Intercept         -5.1375      0.998     -5.150      0.000      -7.093      -3.182\n",
      "rate_p_attr        0.4326      0.146      2.968      0.003       0.147       0.718\n",
      "rate_p_intel       0.1658      0.211      0.785      0.433      -0.248       0.580\n",
      "rate_p_fun         0.2886      0.154      1.879      0.060      -0.012       0.590\n",
      "rate_p_amb        -0.1382      0.169     -0.819      0.413      -0.469       0.193\n",
      "rate_p_sinc       -0.0336      0.168     -0.200      0.842      -0.364       0.296\n",
      "gender_p_attr      0.3198      0.217      1.476      0.140      -0.105       0.744\n",
      "gender_p_intel    -0.1833      0.297     -0.617      0.538      -0.766       0.399\n",
      "gender_p_fun       0.0713      0.233      0.306      0.759      -0.385       0.528\n",
      "gender_p_amb       0.0041      0.242      0.017      0.986      -0.470       0.478\n",
      "gender_p_sinc     -0.1189      0.255     -0.467      0.640      -0.618       0.380\n",
      "==================================================================================\n"
     ]
    }
   ],
   "source": [
    "# re-calculate num_dates and create weights\n",
    "main_train[\"weight\"] = 0\n",
    "\n",
    "temp = []\n",
    "for _, row in main_train.iterrows():\n",
    "    row['num_dates'] = sum(main_train['id'] == row['id'])\n",
    "\n",
    "main_train[\"weight\"] = 1/main_train[\"num_dates\"]\n",
    "\n",
    "# make the regression formula\n",
    "formula = \"decision ~ \"\n",
    "for var in main_X_vars:\n",
    "    formula = formula + var + \"+\"\n",
    "formula = formula[:-1]\n",
    "\n",
    "# fit the model\n",
    "glm = smf.glm(formula,\n",
    "              data=main_train, \n",
    "              family=sm.families.Binomial(),\n",
    "              freq_weights=main_train['weight'])\n",
    "model = glm.fit()\n",
    "print(model.summary())"
   ]
  },
  {
   "cell_type": "code",
   "execution_count": 70,
   "id": "36fec061",
   "metadata": {},
   "outputs": [
    {
     "data": {
      "text/plain": [
       "0.262"
      ]
     },
     "execution_count": 70,
     "metadata": {},
     "output_type": "execute_result"
    }
   ],
   "source": [
    "# training error rate\n",
    "round(np.mean((model.predict(main_train[main_X_vars]) > 0.5) != main_train[\"decision\"]), 3)"
   ]
  },
  {
   "cell_type": "markdown",
   "id": "9c1b0220",
   "metadata": {},
   "source": [
    "### 5. Interpret coefficients & discuss significance"
   ]
  },
  {
   "cell_type": "markdown",
   "id": "0c515885",
   "metadata": {},
   "source": [
    "For a significance level of 0.1:\n",
    "\n",
    "- Rate_p_attr (Rating for Attractiveness): The coefficient is 0.4326. Holding other variables constant, a one-unit increase in the rating for attractiveness is associated with a 0.4326 increase in the log-odds of the decision being 1. This coefficient is significant with a p-value of 0.003 which is less than 0.1. Therefore, we can reject the null hypothesis that βrate_p_attr = 0.\n",
    "\n",
    "\n",
    "- Rate_p_intel (Rating for Intelligence): The coefficient is 0.1658. Holding other variables constant, a one-unit increase in the rating for intelligence is associated with a 0.1658 increase in the log-odds of the decision being 1. However, this coefficient is not statistically significant at the 0.1 significance level since its p-value (0.433) is greater than 0.1. Therefore, we fail to reject the null hypothesis that βrate_p_intel = 0.\n",
    "\n",
    "- Rate_p_fun (Rating for Fun): The coefficient is 0.2886. Holding other variables constant, a one-unit increase in the rating for fun is associated with a 0.2886 increase in the log-odds of the decision being 1. This coefficient is significant with a p-value of 0.060. Therefore, we can reject the null hypothesis that βrate_p_fun = 0.\n",
    "\n",
    "- Rate_p_amb (Rating for Ambition): The coefficient is -0.1382. Holding other variables constant, a one-unit increase in the rating for ambition is associated with a -0.1382 decrease in the log-odds of the decision being 1. However, this coefficient is not statistically significant (p-value = 0.413). Therefore, we faill to reject the null hypothesis that βrate_p_amb = 0.\n",
    "\n",
    "- Rate_p_sinc (Rating for Sincerity): The coefficient is -0.0336. Holding other variables constant, a one-unit increase in the rating for sincerity is associated with a -0.0336 decrease in the log-odds of the decision being 1. This coefficient is not statistically significant (p-value = 0.842). Therefore, we can reject the null hypothesis that βrate_p_sinc = 0.\n",
    "\n",
    "- Gender_p_attr (Interaction Term - Gender and Attractiveness): The coefficient is 0.3198. Holding other variables constant, the interaction term suggests that the effect of gender on the log-odds of the decision being 1 depends on the rating for attractiveness. This coefficient is not statistically significant (p-value = 0.140). Therefore, we cannot reject the null hypothesis that βgender_p_attr = 0.\n",
    "\n",
    "- Gender_p_intel (Interaction Term - Gender and Intelligence): The coefficient is -0.1833. Similar to the gender-attractiveness interaction, this term suggests that the effect of gender on the log-odds of the decision being 1 depends on the rating for intelligence. This coefficient is not statistically significant (p-value = 0.538).Therefore, we cannot reject the null hypothesis that βgender_p_intel = 0.\n",
    "\n",
    "- Gender_p_fun, Gender_p_amb, Gender_p_sinc: These coefficients represent the interaction between gender and the respective rating variables. However, none of these interaction terms are statistically significant."
   ]
  },
  {
   "cell_type": "markdown",
   "id": "7fce8c86",
   "metadata": {},
   "source": [
    "### 6. Backward stepwise selection based on p-value\n",
    "\n",
    "Because most of the predictors seem to be not statiscally significant, we perform backward stepwise selection based on p-value. In doing this, we also examine whether the model is overfitted.\n",
    "\n",
    "Reference: see source 4\n",
    "\n",
    "The explanatory variable with the highest p-value in the full model was gender_p_amb (0.986). Let's drop this variable and refit the model."
   ]
  },
  {
   "cell_type": "code",
   "execution_count": 71,
   "id": "60392ca0",
   "metadata": {},
   "outputs": [
    {
     "name": "stdout",
     "output_type": "stream",
     "text": [
      "                 Generalized Linear Model Regression Results                  \n",
      "==============================================================================\n",
      "Dep. Variable:               decision   No. Observations:                 3909\n",
      "Model:                            GLM   Df Residuals:                   246.12\n",
      "Model Family:                Binomial   Df Model:                            9\n",
      "Link Function:                  Logit   Scale:                          1.0000\n",
      "Method:                          IRLS   Log-Likelihood:                -134.94\n",
      "Date:                Thu, 16 Nov 2023   Deviance:                       269.87\n",
      "Time:                        23:12:50   Pearson chi2:                     269.\n",
      "No. Iterations:                     5   Pseudo R-squ. (CS):            0.02066\n",
      "Covariance Type:            nonrobust                                         \n",
      "==================================================================================\n",
      "                     coef    std err          z      P>|z|      [0.025      0.975]\n",
      "----------------------------------------------------------------------------------\n",
      "Intercept         -5.1375      0.998     -5.150      0.000      -7.093      -3.182\n",
      "rate_p_attr        0.4324      0.145      2.979      0.003       0.148       0.717\n",
      "rate_p_intel       0.1646      0.199      0.827      0.408      -0.225       0.555\n",
      "rate_p_fun         0.2882      0.151      1.907      0.057      -0.008       0.584\n",
      "rate_p_amb        -0.1362      0.121     -1.124      0.261      -0.374       0.101\n",
      "rate_p_sinc       -0.0337      0.168     -0.200      0.841      -0.364       0.296\n",
      "gender_p_attr      0.3204      0.214      1.497      0.134      -0.099       0.740\n",
      "gender_p_intel    -0.1811      0.267     -0.678      0.498      -0.704       0.342\n",
      "gender_p_fun       0.0724      0.224      0.323      0.747      -0.367       0.511\n",
      "gender_p_sinc     -0.1189      0.255     -0.467      0.641      -0.618       0.380\n",
      "==================================================================================\n"
     ]
    }
   ],
   "source": [
    "formula = \"decision ~ \"\n",
    "for var in main_X_vars:\n",
    "    if var != \"gender_p_amb\":\n",
    "        formula = formula + var + \"+\"\n",
    "formula = formula[:-1]\n",
    "\n",
    "glm = smf.glm(\n",
    "    formula,\n",
    "    data=main_train,\n",
    "    family=sm.families.Binomial(),\n",
    "    freq_weights=main_train['weight']\n",
    ")\n",
    "model9 = glm.fit()\n",
    "print(model9.summary())"
   ]
  },
  {
   "cell_type": "code",
   "execution_count": 72,
   "id": "4c63abcf",
   "metadata": {},
   "outputs": [
    {
     "data": {
      "text/plain": [
       "0.262"
      ]
     },
     "execution_count": 72,
     "metadata": {},
     "output_type": "execute_result"
    }
   ],
   "source": [
    "round(np.mean((model9.predict(main_train[main_X_vars]) > 0.5) != main_train[\"decision\"]), 3)"
   ]
  },
  {
   "cell_type": "markdown",
   "id": "cc48f67e",
   "metadata": {},
   "source": [
    "Then drop rate_p_sinc."
   ]
  },
  {
   "cell_type": "code",
   "execution_count": 73,
   "id": "92789e20",
   "metadata": {},
   "outputs": [
    {
     "name": "stdout",
     "output_type": "stream",
     "text": [
      "                 Generalized Linear Model Regression Results                  \n",
      "==============================================================================\n",
      "Dep. Variable:               decision   No. Observations:                 3909\n",
      "Model:                            GLM   Df Residuals:                   247.12\n",
      "Model Family:                Binomial   Df Model:                            8\n",
      "Link Function:                  Logit   Scale:                          1.0000\n",
      "Method:                          IRLS   Log-Likelihood:                -134.96\n",
      "Date:                Thu, 16 Nov 2023   Deviance:                       269.91\n",
      "Time:                        23:14:17   Pearson chi2:                     269.\n",
      "No. Iterations:                     5   Pseudo R-squ. (CS):            0.02065\n",
      "Covariance Type:            nonrobust                                         \n",
      "==================================================================================\n",
      "                     coef    std err          z      P>|z|      [0.025      0.975]\n",
      "----------------------------------------------------------------------------------\n",
      "Intercept         -5.1562      0.994     -5.189      0.000      -7.104      -3.209\n",
      "rate_p_attr        0.4290      0.144      2.977      0.003       0.147       0.711\n",
      "rate_p_intel       0.1429      0.167      0.854      0.393      -0.185       0.471\n",
      "rate_p_fun         0.2828      0.149      1.901      0.057      -0.009       0.574\n",
      "rate_p_amb        -0.1366      0.121     -1.127      0.260      -0.374       0.101\n",
      "gender_p_attr      0.3248      0.213      1.526      0.127      -0.092       0.742\n",
      "gender_p_intel    -0.1582      0.242     -0.654      0.513      -0.632       0.316\n",
      "gender_p_fun       0.0782      0.222      0.352      0.725      -0.357       0.514\n",
      "gender_p_sinc     -0.1520      0.193     -0.786      0.432      -0.531       0.227\n",
      "==================================================================================\n"
     ]
    }
   ],
   "source": [
    "formula = \"decision ~ \"\n",
    "for var in main_X_vars:\n",
    "    if var not in [\"rate_p_sinc\", \"gender_p_amb\"]:\n",
    "        formula = formula + var + \"+\"\n",
    "formula = formula[:-1]\n",
    "\n",
    "glm = smf.glm(\n",
    "    formula,\n",
    "    data=main_train,\n",
    "    family=sm.families.Binomial(),\n",
    "    freq_weights=main_train['weight']\n",
    ")\n",
    "model8 = glm.fit()\n",
    "print(model8.summary())"
   ]
  },
  {
   "cell_type": "code",
   "execution_count": 74,
   "id": "e9b26b79",
   "metadata": {},
   "outputs": [
    {
     "data": {
      "text/plain": [
       "0.261"
      ]
     },
     "execution_count": 74,
     "metadata": {},
     "output_type": "execute_result"
    }
   ],
   "source": [
    "round(np.mean((model8.predict(main_train[main_X_vars]) > 0.5) != main_train[\"decision\"]), 3)"
   ]
  },
  {
   "cell_type": "markdown",
   "id": "3f1baf98",
   "metadata": {},
   "source": [
    "Then drop gender_p_fun."
   ]
  },
  {
   "cell_type": "code",
   "execution_count": 75,
   "id": "e49123ba",
   "metadata": {},
   "outputs": [
    {
     "name": "stdout",
     "output_type": "stream",
     "text": [
      "                 Generalized Linear Model Regression Results                  \n",
      "==============================================================================\n",
      "Dep. Variable:               decision   No. Observations:                 3909\n",
      "Model:                            GLM   Df Residuals:                   248.12\n",
      "Model Family:                Binomial   Df Model:                            7\n",
      "Link Function:                  Logit   Scale:                          1.0000\n",
      "Method:                          IRLS   Log-Likelihood:                -135.02\n",
      "Date:                Thu, 16 Nov 2023   Deviance:                       270.04\n",
      "Time:                        23:15:07   Pearson chi2:                     268.\n",
      "No. Iterations:                     5   Pseudo R-squ. (CS):            0.02061\n",
      "Covariance Type:            nonrobust                                         \n",
      "==================================================================================\n",
      "                     coef    std err          z      P>|z|      [0.025      0.975]\n",
      "----------------------------------------------------------------------------------\n",
      "Intercept         -5.1650      0.994     -5.198      0.000      -7.112      -3.218\n",
      "rate_p_attr        0.4148      0.138      3.003      0.003       0.144       0.685\n",
      "rate_p_intel       0.1250      0.160      0.780      0.435      -0.189       0.439\n",
      "rate_p_fun         0.3164      0.115      2.750      0.006       0.091       0.542\n",
      "rate_p_amb        -0.1354      0.121     -1.117      0.264      -0.373       0.102\n",
      "gender_p_attr      0.3512      0.199      1.763      0.078      -0.039       0.742\n",
      "gender_p_intel    -0.1241      0.221     -0.561      0.575      -0.558       0.310\n",
      "gender_p_sinc     -0.1389      0.189     -0.736      0.462      -0.509       0.231\n",
      "==================================================================================\n"
     ]
    }
   ],
   "source": [
    "formula = \"decision ~ \"\n",
    "for var in main_X_vars:\n",
    "    if var not in [\"rate_p_sinc\", \"gender_p_amb\", \"gender_p_fun\"]:\n",
    "        formula = formula + var + \"+\"\n",
    "formula = formula[:-1]\n",
    "\n",
    "glm = smf.glm(\n",
    "    formula,\n",
    "    data=main_train,\n",
    "    family=sm.families.Binomial(),\n",
    "    freq_weights=main_train['weight'],\n",
    ")\n",
    "model7 = glm.fit()\n",
    "print(model7.summary())"
   ]
  },
  {
   "cell_type": "code",
   "execution_count": 76,
   "id": "2988fc00",
   "metadata": {},
   "outputs": [
    {
     "data": {
      "text/plain": [
       "0.262"
      ]
     },
     "execution_count": 76,
     "metadata": {},
     "output_type": "execute_result"
    }
   ],
   "source": [
    "round(np.mean((model7.predict(main_train[main_X_vars]) > 0.5) != main_train[\"decision\"]), 3)"
   ]
  },
  {
   "cell_type": "markdown",
   "id": "2679530b",
   "metadata": {},
   "source": [
    "Then drop gender_p_intel."
   ]
  },
  {
   "cell_type": "code",
   "execution_count": 77,
   "id": "f3ac3119",
   "metadata": {},
   "outputs": [
    {
     "name": "stdout",
     "output_type": "stream",
     "text": [
      "                 Generalized Linear Model Regression Results                  \n",
      "==============================================================================\n",
      "Dep. Variable:               decision   No. Observations:                 3909\n",
      "Model:                            GLM   Df Residuals:                   249.12\n",
      "Model Family:                Binomial   Df Model:                            6\n",
      "Link Function:                  Logit   Scale:                          1.0000\n",
      "Method:                          IRLS   Log-Likelihood:                -135.18\n",
      "Date:                Thu, 16 Nov 2023   Deviance:                       270.36\n",
      "Time:                        23:16:13   Pearson chi2:                     270.\n",
      "No. Iterations:                     5   Pseudo R-squ. (CS):            0.02053\n",
      "Covariance Type:            nonrobust                                         \n",
      "=================================================================================\n",
      "                    coef    std err          z      P>|z|      [0.025      0.975]\n",
      "---------------------------------------------------------------------------------\n",
      "Intercept        -5.0860      0.980     -5.191      0.000      -7.006      -3.166\n",
      "rate_p_attr       0.4423      0.131      3.378      0.001       0.186       0.699\n",
      "rate_p_intel      0.0845      0.144      0.587      0.557      -0.198       0.367\n",
      "rate_p_fun        0.3197      0.115      2.776      0.005       0.094       0.545\n",
      "rate_p_amb       -0.1320      0.121     -1.090      0.276      -0.369       0.105\n",
      "gender_p_attr     0.2891      0.166      1.741      0.082      -0.036       0.615\n",
      "gender_p_sinc    -0.2075      0.145     -1.427      0.154      -0.493       0.078\n",
      "=================================================================================\n"
     ]
    }
   ],
   "source": [
    "formula = \"decision ~ \"\n",
    "for var in main_X_vars:\n",
    "    if var not in [\"rate_p_sinc\", \"gender_p_amb\", \"gender_p_fun\", \"gender_p_intel\"]:\n",
    "        formula = formula + var + \"+\"\n",
    "formula = formula[:-1]\n",
    "\n",
    "glm = smf.glm(\n",
    "    formula,\n",
    "    data=main_train,\n",
    "    family=sm.families.Binomial(),\n",
    "    freq_weights=main_train['weight'],\n",
    ")\n",
    "model6 = glm.fit()\n",
    "print(model6.summary())"
   ]
  },
  {
   "cell_type": "code",
   "execution_count": 78,
   "id": "7e710e89",
   "metadata": {},
   "outputs": [
    {
     "data": {
      "text/plain": [
       "0.262"
      ]
     },
     "execution_count": 78,
     "metadata": {},
     "output_type": "execute_result"
    }
   ],
   "source": [
    "round(np.mean((model6.predict(main_train[main_X_vars]) > 0.5) != main_train[\"decision\"]), 3)"
   ]
  },
  {
   "cell_type": "markdown",
   "id": "c03286c6",
   "metadata": {},
   "source": [
    "Then drop rate_p_intel"
   ]
  },
  {
   "cell_type": "code",
   "execution_count": 79,
   "id": "5a38cc46",
   "metadata": {},
   "outputs": [
    {
     "name": "stdout",
     "output_type": "stream",
     "text": [
      "                 Generalized Linear Model Regression Results                  \n",
      "==============================================================================\n",
      "Dep. Variable:               decision   No. Observations:                 3909\n",
      "Model:                            GLM   Df Residuals:                   250.12\n",
      "Model Family:                Binomial   Df Model:                            5\n",
      "Link Function:                  Logit   Scale:                          1.0000\n",
      "Method:                          IRLS   Log-Likelihood:                -135.35\n",
      "Date:                Thu, 16 Nov 2023   Deviance:                       270.70\n",
      "Time:                        23:17:51   Pearson chi2:                     273.\n",
      "No. Iterations:                     5   Pseudo R-squ. (CS):            0.02045\n",
      "Covariance Type:            nonrobust                                         \n",
      "=================================================================================\n",
      "                    coef    std err          z      P>|z|      [0.025      0.975]\n",
      "---------------------------------------------------------------------------------\n",
      "Intercept        -4.8400      0.877     -5.517      0.000      -6.560      -3.120\n",
      "rate_p_attr       0.4565      0.129      3.528      0.000       0.203       0.710\n",
      "rate_p_fun        0.3316      0.114      2.916      0.004       0.109       0.554\n",
      "rate_p_amb       -0.1005      0.108     -0.927      0.354      -0.313       0.112\n",
      "gender_p_attr     0.2654      0.161      1.653      0.098      -0.049       0.580\n",
      "gender_p_sinc    -0.1869      0.141     -1.329      0.184      -0.463       0.089\n",
      "=================================================================================\n"
     ]
    }
   ],
   "source": [
    "formula = \"decision ~ \"\n",
    "for var in main_X_vars:\n",
    "    if var not in [\"rate_p_sinc\", \"gender_p_amb\", \"gender_p_fun\", \"gender_p_intel\", \"rate_p_intel\"]:\n",
    "        formula = formula + var + \"+\"\n",
    "formula = formula[:-1]\n",
    "\n",
    "glm = smf.glm(\n",
    "    formula,\n",
    "    data=main_train,\n",
    "    family=sm.families.Binomial(),\n",
    "    freq_weights=main_train['weight'],\n",
    ")\n",
    "model5 = glm.fit()\n",
    "print(model5.summary())"
   ]
  },
  {
   "cell_type": "code",
   "execution_count": 80,
   "id": "1697149c",
   "metadata": {},
   "outputs": [
    {
     "data": {
      "text/plain": [
       "0.261"
      ]
     },
     "execution_count": 80,
     "metadata": {},
     "output_type": "execute_result"
    }
   ],
   "source": [
    "round(np.mean((model5.predict(main_train[main_X_vars]) > 0.5) != main_train[\"decision\"]), 3)"
   ]
  },
  {
   "cell_type": "markdown",
   "id": "a174c8ec",
   "metadata": {},
   "source": [
    "Then drop rate_p_amb"
   ]
  },
  {
   "cell_type": "code",
   "execution_count": 81,
   "id": "c240f6c5",
   "metadata": {},
   "outputs": [
    {
     "name": "stdout",
     "output_type": "stream",
     "text": [
      "                 Generalized Linear Model Regression Results                  \n",
      "==============================================================================\n",
      "Dep. Variable:               decision   No. Observations:                 3909\n",
      "Model:                            GLM   Df Residuals:                   251.12\n",
      "Model Family:                Binomial   Df Model:                            4\n",
      "Link Function:                  Logit   Scale:                          1.0000\n",
      "Method:                          IRLS   Log-Likelihood:                -135.78\n",
      "Date:                Thu, 16 Nov 2023   Deviance:                       271.57\n",
      "Time:                        23:22:30   Pearson chi2:                     270.\n",
      "No. Iterations:                     5   Pseudo R-squ. (CS):            0.02023\n",
      "Covariance Type:            nonrobust                                         \n",
      "=================================================================================\n",
      "                    coef    std err          z      P>|z|      [0.025      0.975]\n",
      "---------------------------------------------------------------------------------\n",
      "Intercept        -5.1575      0.817     -6.316      0.000      -6.758      -3.557\n",
      "rate_p_attr       0.4347      0.126      3.446      0.001       0.187       0.682\n",
      "rate_p_fun        0.2928      0.105      2.800      0.005       0.088       0.498\n",
      "gender_p_attr     0.2841      0.159      1.787      0.074      -0.027       0.596\n",
      "gender_p_sinc    -0.1973      0.140     -1.411      0.158      -0.471       0.077\n",
      "=================================================================================\n"
     ]
    }
   ],
   "source": [
    "formula = \"decision ~ \"\n",
    "for var in main_X_vars:\n",
    "    if var not in [\"rate_p_sinc\", \"gender_p_amb\", \"gender_p_fun\", \"gender_p_intel\", \"rate_p_intel\", \"rate_p_amb\"]:\n",
    "        formula = formula + var + \"+\"\n",
    "formula = formula[:-1]\n",
    "\n",
    "glm = smf.glm(\n",
    "    formula,\n",
    "    data=main_train,\n",
    "    family=sm.families.Binomial(),\n",
    "    freq_weights=main_train['weight'],\n",
    ")\n",
    "model4 = glm.fit()\n",
    "print(model4.summary())"
   ]
  },
  {
   "cell_type": "code",
   "execution_count": 82,
   "id": "f6a89ab9",
   "metadata": {},
   "outputs": [
    {
     "data": {
      "text/plain": [
       "0.265"
      ]
     },
     "execution_count": 82,
     "metadata": {},
     "output_type": "execute_result"
    }
   ],
   "source": [
    "round(np.mean((model4.predict(main_train[main_X_vars]) > 0.5) != main_train[\"decision\"]), 3)"
   ]
  },
  {
   "cell_type": "markdown",
   "id": "9c64f116",
   "metadata": {},
   "source": [
    "Then drop gender_p_sinc."
   ]
  },
  {
   "cell_type": "code",
   "execution_count": 83,
   "id": "9e365d1a",
   "metadata": {},
   "outputs": [
    {
     "name": "stdout",
     "output_type": "stream",
     "text": [
      "                 Generalized Linear Model Regression Results                  \n",
      "==============================================================================\n",
      "Dep. Variable:               decision   No. Observations:                 3909\n",
      "Model:                            GLM   Df Residuals:                   252.12\n",
      "Model Family:                Binomial   Df Model:                            3\n",
      "Link Function:                  Logit   Scale:                          1.0000\n",
      "Method:                          IRLS   Log-Likelihood:                -136.83\n",
      "Date:                Thu, 16 Nov 2023   Deviance:                       273.67\n",
      "Time:                        23:23:11   Pearson chi2:                     275.\n",
      "No. Iterations:                     5   Pseudo R-squ. (CS):            0.01970\n",
      "Covariance Type:            nonrobust                                         \n",
      "=================================================================================\n",
      "                    coef    std err          z      P>|z|      [0.025      0.975]\n",
      "---------------------------------------------------------------------------------\n",
      "Intercept        -5.4849      0.795     -6.898      0.000      -7.043      -3.926\n",
      "rate_p_attr       0.5193      0.114      4.550      0.000       0.296       0.743\n",
      "rate_p_fun        0.2572      0.101      2.552      0.011       0.060       0.455\n",
      "gender_p_attr     0.0692      0.044      1.556      0.120      -0.018       0.156\n",
      "=================================================================================\n"
     ]
    }
   ],
   "source": [
    "formula = \"decision ~ \"\n",
    "for var in main_X_vars:\n",
    "    if var not in [\"rate_p_sinc\", \"gender_p_amb\", \"gender_p_fun\", \"gender_p_intel\", \n",
    "                   \"rate_p_intel\", \"rate_p_amb\", \"gender_p_sinc\"]:\n",
    "        formula = formula + var + \"+\"\n",
    "formula = formula[:-1]\n",
    "\n",
    "glm = smf.glm(\n",
    "    formula,\n",
    "    data=main_train,\n",
    "    family=sm.families.Binomial(),\n",
    "    freq_weights=main_train['weight'],\n",
    ")\n",
    "model3 = glm.fit()\n",
    "print(model3.summary())"
   ]
  },
  {
   "cell_type": "code",
   "execution_count": 84,
   "id": "e8c321bf",
   "metadata": {},
   "outputs": [
    {
     "data": {
      "text/plain": [
       "0.266"
      ]
     },
     "execution_count": 84,
     "metadata": {},
     "output_type": "execute_result"
    }
   ],
   "source": [
    "round(np.mean((model3.predict(main_train[main_X_vars]) > 0.5) != main_train[\"decision\"]), 3)"
   ]
  },
  {
   "cell_type": "markdown",
   "id": "9816a1fa",
   "metadata": {},
   "source": [
    "Then drop gender_p_attr."
   ]
  },
  {
   "cell_type": "code",
   "execution_count": 97,
   "id": "ed9bbb51",
   "metadata": {},
   "outputs": [
    {
     "name": "stdout",
     "output_type": "stream",
     "text": [
      "                 Generalized Linear Model Regression Results                  \n",
      "==============================================================================\n",
      "Dep. Variable:               decision   No. Observations:                 3909\n",
      "Model:                            GLM   Df Residuals:                   253.12\n",
      "Model Family:                Binomial   Df Model:                            2\n",
      "Link Function:                  Logit   Scale:                          1.0000\n",
      "Method:                          IRLS   Log-Likelihood:                -138.05\n",
      "Date:                Thu, 16 Nov 2023   Deviance:                       276.10\n",
      "Time:                        23:30:37   Pearson chi2:                     272.\n",
      "No. Iterations:                     5   Pseudo R-squ. (CS):            0.01909\n",
      "Covariance Type:            nonrobust                                         \n",
      "===============================================================================\n",
      "                  coef    std err          z      P>|z|      [0.025      0.975]\n",
      "-------------------------------------------------------------------------------\n",
      "Intercept      -5.4631      0.789     -6.926      0.000      -7.009      -3.917\n",
      "rate_p_attr     0.5658      0.110      5.122      0.000       0.349       0.782\n",
      "rate_p_fun      0.2435      0.100      2.442      0.015       0.048       0.439\n",
      "===============================================================================\n"
     ]
    }
   ],
   "source": [
    "glm = smf.glm(\n",
    "    \"decision ~ rate_p_attr + rate_p_fun\",\n",
    "    data=main_train,\n",
    "    family=sm.families.Binomial(),\n",
    "    freq_weights=main_train['weight'],\n",
    ")\n",
    "model2 = glm.fit()\n",
    "print(model2.summary())"
   ]
  },
  {
   "cell_type": "code",
   "execution_count": 98,
   "id": "f04d02a9",
   "metadata": {},
   "outputs": [
    {
     "data": {
      "text/plain": [
       "0.267"
      ]
     },
     "execution_count": 98,
     "metadata": {},
     "output_type": "execute_result"
    }
   ],
   "source": [
    "round(np.mean((model2.predict(main_train[main_X_vars]) > 0.5) != main_train[\"decision\"]), 3)"
   ]
  },
  {
   "cell_type": "markdown",
   "id": "c92d03b6",
   "metadata": {},
   "source": [
    "Now all the p-values < 0.1. So we stop. Let's interpret this result.\n",
    "\n",
    "### Interpret coefficients & discuss significance\n",
    "\n",
    "rate_p_attr: For a one-unit increase in rate_p_attr, the log-odds of the decision variable increase by 0.5658. This variable is statistically significant (p < 0.1). Therefore, the results of the OLS show that the p-value of the rate_p_attr is 0.000, that we can reject the null hypothesis that βrate_p_attr = 0.\n",
    "\n",
    "rate_p_fun: Similarly, for a one-unit increase in rate_p_fun, the log-odds of the decision variable increase by 0.2435. This variable is also statistically significant (p < 0.1). The results of the OLS show that the p-value of the rate_p_attr is 0.015, that we can reject the null hypothesis βrate_p_fun = 0."
   ]
  },
  {
   "cell_type": "markdown",
   "id": "bd5a2111",
   "metadata": {},
   "source": [
    "The training error rates are really similar among k-predictor models for k in [2,10]. Now we can use the validation set to test how these models perform on new data."
   ]
  },
  {
   "cell_type": "code",
   "execution_count": 99,
   "id": "86eca8b1",
   "metadata": {},
   "outputs": [
    {
     "data": {
      "text/plain": [
       "0.237"
      ]
     },
     "execution_count": 99,
     "metadata": {},
     "output_type": "execute_result"
    }
   ],
   "source": [
    "main_val_X = main_val[main_X_vars]\n",
    "round(np.mean((model2.predict(main_val_X) > 0.5) != main_val[\"decision\"]), 3)"
   ]
  },
  {
   "cell_type": "code",
   "execution_count": 100,
   "id": "227ae42a",
   "metadata": {},
   "outputs": [
    {
     "data": {
      "text/plain": [
       "0.237"
      ]
     },
     "execution_count": 100,
     "metadata": {},
     "output_type": "execute_result"
    }
   ],
   "source": [
    "round(np.mean((model3.predict(main_val_X) > 0.5) != main_val[\"decision\"]), 3)"
   ]
  },
  {
   "cell_type": "code",
   "execution_count": 101,
   "id": "e88ea534",
   "metadata": {},
   "outputs": [
    {
     "data": {
      "text/plain": [
       "0.247"
      ]
     },
     "execution_count": 101,
     "metadata": {},
     "output_type": "execute_result"
    }
   ],
   "source": [
    "round(np.mean((model4.predict(main_val_X) > 0.5) != main_val[\"decision\"]), 3)"
   ]
  },
  {
   "cell_type": "code",
   "execution_count": 102,
   "id": "1c84bb5c",
   "metadata": {},
   "outputs": [
    {
     "data": {
      "text/plain": [
       "0.243"
      ]
     },
     "execution_count": 102,
     "metadata": {},
     "output_type": "execute_result"
    }
   ],
   "source": [
    "round(np.mean((model5.predict(main_val_X) > 0.5) != main_val[\"decision\"]), 3)"
   ]
  },
  {
   "cell_type": "code",
   "execution_count": 103,
   "id": "6eadbcdd",
   "metadata": {},
   "outputs": [
    {
     "data": {
      "text/plain": [
       "0.243"
      ]
     },
     "execution_count": 103,
     "metadata": {},
     "output_type": "execute_result"
    }
   ],
   "source": [
    "round(np.mean((model6.predict(main_val_X) > 0.5) != main_val[\"decision\"]), 3)"
   ]
  },
  {
   "cell_type": "code",
   "execution_count": 104,
   "id": "f44ecf6e",
   "metadata": {},
   "outputs": [
    {
     "data": {
      "text/plain": [
       "0.241"
      ]
     },
     "execution_count": 104,
     "metadata": {},
     "output_type": "execute_result"
    }
   ],
   "source": [
    "round(np.mean((model7.predict(main_val_X) > 0.5) != main_val[\"decision\"]), 3)"
   ]
  },
  {
   "cell_type": "code",
   "execution_count": 105,
   "id": "911556d3",
   "metadata": {},
   "outputs": [
    {
     "data": {
      "text/plain": [
       "0.24"
      ]
     },
     "execution_count": 105,
     "metadata": {},
     "output_type": "execute_result"
    }
   ],
   "source": [
    "round(np.mean((model8.predict(main_val_X) > 0.5) != main_val[\"decision\"]), 3)"
   ]
  },
  {
   "cell_type": "code",
   "execution_count": 106,
   "id": "5aa178c7",
   "metadata": {},
   "outputs": [
    {
     "data": {
      "text/plain": [
       "0.239"
      ]
     },
     "execution_count": 106,
     "metadata": {},
     "output_type": "execute_result"
    }
   ],
   "source": [
    "round(np.mean((model9.predict(main_val_X) > 0.5) != main_val[\"decision\"]), 3)"
   ]
  },
  {
   "cell_type": "code",
   "execution_count": 107,
   "id": "b5f0a14f",
   "metadata": {},
   "outputs": [
    {
     "data": {
      "text/plain": [
       "0.239"
      ]
     },
     "execution_count": 107,
     "metadata": {},
     "output_type": "execute_result"
    }
   ],
   "source": [
    "round(np.mean((model.predict(main_val_X) > 0.5) != main_val[\"decision\"]), 3)"
   ]
  },
  {
   "cell_type": "markdown",
   "id": "795fc1e8",
   "metadata": {},
   "source": [
    "The 2-predictor model did the best in fitting the validation set (smallest validation error). So we would choose it as our final model. Now let's test it one last time with the test set."
   ]
  },
  {
   "cell_type": "code",
   "execution_count": 109,
   "id": "c871f897",
   "metadata": {},
   "outputs": [
    {
     "data": {
      "text/plain": [
       "0.261"
      ]
     },
     "execution_count": 109,
     "metadata": {},
     "output_type": "execute_result"
    }
   ],
   "source": [
    "main_test_X = main_test[main_X_vars]\n",
    "round(np.mean((model2.predict(main_test_X) > 0.5) != main_test[\"decision\"]), 3)"
   ]
  },
  {
   "cell_type": "markdown",
   "id": "13bd2ef7",
   "metadata": {},
   "source": [
    "The 2-predictor model did fine in the test set."
   ]
  },
  {
   "cell_type": "markdown",
   "id": "f9970a37",
   "metadata": {},
   "source": [
    "### References\n",
    "\n",
    "Train/validation/test splits in sklearn: https://datascience.stackexchange.com/questions/15135/train-test-validation-set-splitting-in-sklearn\n",
    "\n",
    "Assumptions for logistic regression: https://pubmed.ncbi.nlm.nih.gov/21996075/ & https://www.statology.org/assumptions-of-logistic-regression/\n",
    "\n",
    "Weighted logistic regression: https://www.statsmodels.org/dev/examples/notebooks/generated/glm_weights.html\n",
    "\n",
    "Backward stepwise selection based on p-value: https://towardsdatascience.com/backward-elimination-for-feature-selection-in-machine-learning-c6a3a8f8cef4"
   ]
  },
  {
   "cell_type": "markdown",
   "id": "58074a55",
   "metadata": {},
   "source": [
    "# Part 5 - Conclusions"
   ]
  },
  {
   "cell_type": "markdown",
   "id": "7a373ae5",
   "metadata": {},
   "source": [
    "In this project, we delved into the intricate world of dating decision-making, particularly focusing on the gender differences observed during speed dating sessions. The analysis was grounded in a comprehensive dataset collected during speed dating experiments conducted from 2002 to 2004, providing a unique glimpse into individual decision dynamics.\n",
    "\n",
    "Base on our analysis, for testing hypothesis 1. Only attributes rate_p_attr and rate_p_fun are statistically significant which indicates daters consider various attributes in the date attractiveness and fun when deciding whether they would like to meet the datee again. This is really interested in learning the importance of humorous that is evaluated compare to other attributes like sincerity, intelligence, ambition. For hypothesis 2, our data did not support that women might care more or less about the above attributes than men and the existence of gender difference. "
   ]
  },
  {
   "cell_type": "markdown",
   "id": "d677617b",
   "metadata": {},
   "source": [
    "# Part 6 - Limitations\n"
   ]
  },
  {
   "cell_type": "markdown",
   "id": "dc7b2876",
   "metadata": {},
   "source": [
    "1. The dataset is relatively old as the speed dating experiment was conducted from 2002 to 2004. However, we really appreciate this data because the experimental design allows us to directly observe individual decisions rather than just final matches. We tried looking for new data, but most of them came from dating apps, where many variants that might affect dating decisions were less observable and hard to measure. Using this speed dating dataset allows us to predict people's dating outcomes with far more variants. But we do acknowledge people's dating behaviors have changed over time, and our model might be less generalizable to the newest generations.\n",
    "\n",
    "2. As previously mentioned, all participants in this study were drawn from the graduate and professional schools of Columbia University. The mean age of participants was 26.2, with an age range from 18 to 42. Consequently, our regression model may have limited generalizability to populations beyond this age range.\n",
    "\n",
    "3. In the experimental setup, researchers assumed that all participants were interested in dating individuals of the opposite sex and paired them accordingly. However, it's important to acknowledge the possibility that some participants may identify with the LGBTQ+ group. This assumption about pairing may not accurately represent the diversity of dating preferences, and it could render some data invalid."
   ]
  },
  {
   "cell_type": "markdown",
   "id": "1940e176",
   "metadata": {},
   "source": [
    "## Questions for reviewers"
   ]
  },
  {
   "cell_type": "markdown",
   "id": "299d36a5",
   "metadata": {},
   "source": [
    "- It is actually really wierd that the 2-predictor model has training error of 0.26 but validation error of 0.23. We will try figuring out why for the final submission. For example, we are thinking of doing k-fold CV rather than just one single split. Other than this, do you have any suggestions on how to examine this? And if we still get a smaller validation error than training error with k-fold CV, is it OK?\n",
    "- Did we do the weighted logistic regression correctly?"
   ]
  },
  {
   "cell_type": "markdown",
   "id": "30543adc",
   "metadata": {},
   "source": [
    "\n",
    "\n",
    "Thanks in advance! :)"
   ]
  }
 ],
 "metadata": {
  "kernelspec": {
   "display_name": "Python 3 (ipykernel)",
   "language": "python",
   "name": "python3"
  },
  "language_info": {
   "codemirror_mode": {
    "name": "ipython",
    "version": 3
   },
   "file_extension": ".py",
   "mimetype": "text/x-python",
   "name": "python",
   "nbconvert_exporter": "python",
   "pygments_lexer": "ipython3",
   "version": "3.11.5"
  },
  "vscode": {
   "interpreter": {
    "hash": "aee8b7b246df8f9039afb4144a1f6fd8d2ca17a180786b69acc140d282b71a49"
   }
  }
 },
 "nbformat": 4,
 "nbformat_minor": 5
}
