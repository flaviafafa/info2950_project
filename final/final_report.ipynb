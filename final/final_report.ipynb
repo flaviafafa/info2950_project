{
 "cells": [
  {
   "cell_type": "markdown",
   "id": "09dc2b3b",
   "metadata": {},
   "source": [
    "# Predictors for People's Speed Dating Decisions\n",
    "Flavia Jiang, Rachel Wang"
   ]
  },
  {
   "cell_type": "markdown",
   "id": "49190848-7718-47fb-8eab-5136d8562d31",
   "metadata": {},
   "source": [
    "### Table of Contents ###\n",
    "\n",
    "**I.Introduction**\n",
    "- Context and Signifance\n",
    "- Research Questions\n",
    "- Summary of Findings\n",
    "\n",
    "**II. Data Description**\n",
    "- Data Cleaning\n",
    "- Data Description\n",
    "\n",
    "**III. Hypotheses**\n",
    "\n",
    "**IV. Data Analysis**\n",
    "- Exploratory Data Analysis\n",
    "- Modeling and Interpretations\n",
    "- References\n",
    "\n",
    "**V. Conclusion**\n",
    "\n",
    "**VI. Limitations**\n",
    "\n",
    "**VII. Acknowledgments**\n"
   ]
  },
  {
   "cell_type": "markdown",
   "id": "04c25863",
   "metadata": {},
   "source": [
    "# I. Introduction\n",
    "\n",
    "In this project, we examined how people made dating decisions based on various attributes of their dates and the differences between women and men in considering various attributes.\n",
    "\n",
    "## Context and Significance:\n",
    "Mate selection is a complex phenomenon influenced by various factors, where dating is the learning period for selecting potential marriage partners. 2023 data from the Pew Research Center finds that three in 10 Americans are single, and about half (51%) are open to either a committed relationship or casual dates. 56% of men are looking for either a committed relationship or casual dates, and 44% of women say the same thing. \n",
    "\n",
    "Given the important status of dating in current American life and the potential differences among genders, this research will focus on analyzing data from a Speed Dating Experiment. The experiment involved participants engaging in speed dating sessions, where individuals (called daters) had brief interactions with other participants (called datees) and decided whether they wanted to date the datee again. During the events, daters were also asked to rate the datees in terms of various attributes, such as intelligence and attractiveness.\n",
    "\n",
    "## Research Questions:\n",
    "Given the experiment settings, our research questions are: **(1)** How accurately can we predict people's decisions about whether they would like to meet their datees again based on their ratings on various attributes of the datees (how attractive, sincere, fun, ambitious, intelligent they think the datees are and how probable they think the datees would say yes to them)? **(2)** Are some predictors less or more important for the female or male participants? \n",
    "\n",
    "## Summary of Findings:\n",
    "We found that we could predict people's dating decisions with high accuracies (constantly around 75%). We also found that both female and male participants prefer more physically attractive and funnier datees. Male participants care even more about their datee's attractiveness than female participants. Moreover, when participants believe their datee is very likely to say yes to them, they would be more likely to say yes than say no to the datee."
   ]
  },
  {
   "cell_type": "code",
   "execution_count": 17,
   "id": "df8f4913",
   "metadata": {},
   "outputs": [],
   "source": [
    "import numpy as np\n",
    "import pandas as pd\n",
    "import matplotlib.pyplot as plt\n",
    "import seaborn as sns\n",
    "import datetime\n",
    "from sklearn.linear_model import LinearRegression, LogisticRegression\n",
    "from sklearn.model_selection import train_test_split, RepeatedKFold, cross_val_score\n",
    "from sklearn.metrics import accuracy_score\n",
    "import duckdb\n",
    "from statsmodels.api import Logit\n",
    "import statsmodels.api as sm\n",
    "import statsmodels.formula.api as smf"
   ]
  },
  {
   "cell_type": "markdown",
   "id": "27115ff0",
   "metadata": {},
   "source": [
    "# II. Data Description"
   ]
  },
  {
   "cell_type": "markdown",
   "id": "e8636c1c",
   "metadata": {},
   "source": [
    "## Data Cleaning"
   ]
  },
  {
   "cell_type": "markdown",
   "id": "abaa6b13",
   "metadata": {},
   "source": [
    "For details, see the Data Cleaning session in appendix.ipynb: https://github.com/flaviafafa/info2950_project/blob/main/final/appendix.ipynb.\n",
    "\n",
    "The cleaned data frame was saved to a CSV file: https://github.com/flaviafafa/info2950_project/blob/main/final/dating_main.csv.\n",
    "\n",
    "We had 5,500 observations and 16 columns."
   ]
  },
  {
   "cell_type": "code",
   "execution_count": 18,
   "id": "798ec0ba",
   "metadata": {},
   "outputs": [
    {
     "name": "stdout",
     "output_type": "stream",
     "text": [
      "(5500, 16)\n",
      "Index(['id', 'gender_cd', 'wave', 'num_dates', 'partner_id', 'age', 'field_cd',\n",
      "       'race_cd', 'career_cd', 'prob', 'decision', 'rate_p_attr',\n",
      "       'rate_p_sinc', 'rate_p_intel', 'rate_p_fun', 'rate_p_amb'],\n",
      "      dtype='object')\n"
     ]
    }
   ],
   "source": [
    "dating_df = pd.read_csv(\"dating_main.csv\")\n",
    "print(dating_df.shape)\n",
    "print(dating_df.columns)"
   ]
  },
  {
   "cell_type": "markdown",
   "id": "e514c1d6-4e16-4481-bcb1-bd7411c64bb2",
   "metadata": {},
   "source": [
    "## Data Description"
   ]
  },
  {
   "cell_type": "markdown",
   "id": "d3ecd165",
   "metadata": {},
   "source": [
    "### 1. What are the observations (rows) and the attributes (columns)?\n",
    "\n",
    "Rows of dating_df:\n",
    "\n",
    "- Each row represents a dating meet between two participants (one as dater, one as datee) during experimental speed dating events.\n",
    "- For example, Participant 1 and Participant 3 dated each other in the speed dating event. Two rows that represent this pair would be in the data set. One row has Participant 1 as the dater and Participant 3 as the datee. The other row has Participant 3 as the dater and Participant 1 as the datee. \n",
    "- Notes: a participant would date multiple participants during the event.\n",
    "\n",
    "Columns of dating_df (**potential predictors are in bold**):\n",
    "\n",
    "- id: (numerical) identifies the dater\n",
    "- gender_cd: (binary), gender of the dater (Male - 1, Female - 0)\n",
    "- wave: (numerical) identifies the speed dating event session the dater was in \n",
    "- num_dates: (numerical) the number of datees a dater met in the speed dating event\n",
    "- partner_id: (numerical) the datee’s id number\n",
    "- age: (numerical) age of dater\n",
    "- decision: (binary, response variable) whether the dater would like to meet the datee again (1=yes, 0=no)\n",
    "- field_cd: (categorical) the field that the dater studied\n",
    "    - 1 Law  \n",
    "    - 2 Math\n",
    "    - 3 Social Science, Psychologist \n",
    "    - 4 Medical Science, Pharmaceuticals, and BioTech \n",
    "    - 5 Engineering  \n",
    "    - 6 English/Creative Writing/ Journalism \n",
    "    - 7 History/Religion/Philosophy \n",
    "    - 8 Business/Econ/Finance \n",
    "    - 9 Education, Academia \n",
    "    - 10 Biological Sciences/Chemistry/Physics\n",
    "    - 11 Social Work \n",
    "    - 12 Undergrad/undecided \n",
    "    - 13 Political Science/International Affairs \n",
    "    - 14 Film\n",
    "    - 15 Fine Arts/Arts Administration\n",
    "    - 16 Languages\n",
    "    - 17 Architecture\n",
    "    - 18 Other\n",
    "- race_cd: (categorical) race of dater\n",
    "    - 1 Black/African American\n",
    "    - 2 European/Caucasian-American\n",
    "    - 3 Latino/Hispanic American\n",
    "    - 4 Asian/Pacific Islander/Asian-American\n",
    "    - 5 Native American\n",
    "    - 6 Other\n",
    "- career_cd: (categorical) career of dater\n",
    "    - 1 Lawyer \n",
    "    - 2 Academic/Research \n",
    "    - 3 Psychologist \n",
    "    - 4 Doctor/Medicine \n",
    "    - 5 Engineer \n",
    "    - 6 Creative Arts/Entertainment \n",
    "    - 7 Banking/Consulting/Finance/Marketing/Business/CEO/Entrepreneur/Admin \n",
    "    - 8 Real Estate \n",
    "    - 9 International/Humanitarian Affairs \n",
    "    - 10 Undecided \n",
    "    - 11 Social Work\n",
    "    - 12 Speech Pathology\n",
    "    - 13 Politics\n",
    "    - 14 Pro sports/Athletics\n",
    "    - 15 Other\n",
    "    - 16 Journalism\n",
    "    - 17 Architecture\n",
    "- **prob**: (numerical) the dater's rating on how likely they felt the datee would say yes to them (on a scale of 1-10)\n",
    "- **rate_p_attr**: (numerical) the dater's rating on how physically attractive the datee was (on a scale of 1-10)\n",
    "- **rate_p_sinc**: (numerical) the dater's rating on how sincere the datee was (on a scale of 1-10)\n",
    "- **rate_p_intel**: (numerical) the dater's rating on how intelligent the datee was (on a scale of 1-10)\n",
    "- **rate_p_fun**: (numerical) the dater's rating on how funny the datee was (on a scale of 1-10)\n",
    "- **rate_p_amb**: (numerical) the dater's rating on how ambitious the datee was (on a scale of 1-10)\n",
    "    \n",
    "### 2. Why was this dataset created?\n",
    "\n",
    "This dataset was created to investigate and analyze various aspects of human dating behaviors in the context of speed dating. Researchers were interested in understanding how individuals make dating decisions, what attributes they consider important, and how different factors predict their decisions about whether to continue the relationship. The researchers were particularly interested in the gender differences in dating behaviors and decision-making strategies.\n",
    "\n",
    "### 3. Who funded the creation of the dataset?\n",
    "\n",
    "The dataset was collected as part of academic research. \n",
    "\n",
    "### 4. What processes might have influenced what data was observed and recorded and what was not?\n",
    "\n",
    "- Participant Demographics: The age, gender, and demographic characteristics of the participants could influence whether they would be included in the sample. In this study, all subjects were from the graduate and professional schools of Columbia University, which might cause bias in what the researcher observed.\n",
    "\n",
    "- Self-Selection of Participants: Participants in the speed dating experiment were volunteers, which means they self-selected to take part. This self-selection process may have introduced biases, as those who chose to participate might have different preferences or characteristics compared to the general population. This could impact the generalizability of the findings.\n",
    "\n",
    "- Experiment Design: The design of the speed dating experiment determined what data could be collected. The researchers structured the experiment, including the number of participants, the number of potential partners, and the available information about each partner. The experimental conditions may not fully represent real-world dating situations.\n",
    "\n",
    "- Survey Responses: The data collected was based on surveys filled out by participants. Data collection relied on participants' willingness to respond honestly and accurately, which could be influenced by social desirability bias or other factors. \n",
    "\n",
    "### 5. What preprocessing was done, and how did the data come to be in the form that you are using?\n",
    "\n",
    "There were 100+ variables in the original dataset, so we first carefully read through the 15-page variable codebook created by the researchers to filter out potential predictors and other necessary variables for our study based on domain expertise. We then renamed some of the columns to more meaningful names and changed the datatypes of some columns to the most appropriate types. We also removed biased observations, detected and removed inaccurate observations, and dealt with missing values.\n",
    "\n",
    "### 6. If people are involved, were they aware of the data collection, and if so, what purpose did they expect the data to be used for?\n",
    "\n",
    "Participants in the speed dating events were aware of the data collection process, as informed consent was practiced by the researchers. They were also informed about the purpose of the data collection. Participants would have expected the data to be used to study dating behavior and potentially contribute to the understanding of human interactions and preferences.\n",
    "\n",
    "### 7. Where can your raw source data be found, if applicable? Provide a link to the raw data\n",
    "\n",
    "Raw data can be found in our repo: https://github.com/flaviafafa/info2950_project/blob/main/data/speed_dating_data.csv\n",
    "\n",
    "Variable codebook can also be found in our repo: \n",
    "https://github.com/flaviafafa/info2950_project/blob/main/data/variable_codebook.doc\n",
    "\n",
    "Link to the source data and codebook: http://www.stat.columbia.edu/~gelman/arm/examples/speed.dating/\n",
    "\n",
    "Link to the paper written by the researchers based on the data: \n",
    "http://www.stat.columbia.edu/~gelman/stuff_for_blog/sheena.pdf"
   ]
  },
  {
   "cell_type": "markdown",
   "id": "ec83cfd8",
   "metadata": {},
   "source": [
    "# III. Hypotheses"
   ]
  },
  {
   "cell_type": "markdown",
   "id": "4a713d40",
   "metadata": {},
   "source": [
    "**Hypothesis 1**\n",
    "- **Hypothesis:** Generally, daters seriously consider various attributes in the datee (attractiveness, sincerity, fun, intelligence, ambition) when deciding whether they would like to meet the datee again. Also, how probable they feel the datee would say yes to them is a significant determinant in dating decisions.\n",
    "- **Reasoning:** Fun fact: Flavia is the Head of Analytics at Cornell Perfect Match. According to the Perfect Match survey results, people care about whether their dates are attractive, sincere, funny, intelligent, and ambitious (these are the top adjectives used to describe their ideal partner). Also, based on our intuition and experience, mutual liking is very important when people make dating decisions. Whether they think their dates like them can influence their decisions, so the variable prob might be a strong predictor.\n",
    "\n",
    "**Hypothesis 2**\n",
    "- **Hypothesis:** Men might care more or less about the above attributes/factors than women. That is, gender differences exist in how people make dating decisions based on various attributes of the datees.\n",
    "- **Reasoning:** According to the Perfect Match survey results and our experience, women and men are quite different when evaluating their dates. So gender differences might be statistically significant.\n",
    "\n",
    "Because for the above two hypotheses, the response variable is the same, which is the dating decision. So we will test them together in a multivariate logistic regression model.\n",
    "\n",
    "In notations:\n",
    "\n",
    "Define $β_{gender\\_p\\_attr}$ as the coefficient for the interaction term between rate_p_attr and gender_cd (1 = Male, 0 = Female). Similarly, define $β_{gender\\_p\\_sinc}$, $β_{gender\\_p\\_intel}$, $β_{gender\\_p\\_fun}$, $β_{gender\\_p\\_amb}$, $β_{gender\\_prob}$ as the coefficients for other interaction terms (we would create the interaction terms later when modeling).\n",
    "\n",
    "For each of the variables in $β_{rate\\_p\\_attr}$, $β_{rate\\_p\\_sinc}$, $β_{rate\\_p\\_intel}$, $β_{rate\\_p\\_fun}$, $β_{rate\\_p\\_amb}$, $β_{prob}$, $β_{gender\\_p\\_attr}$, $β_{gender\\_p\\_sinc}$, $β_{gender\\_p\\_intel}$, $β_{gender\\_p\\_fun}$, $β_{gender\\_p\\_amb}$, $β_{gender\\_prob}$, call it $β_{i}$:\n",
    "\n",
    "***\n",
    "$H_{0}$: $β_{i}$ = 0 given other variables in the model\n",
    "\n",
    "$H_{a}$: $β_{i}$ != 0 given other variables in the model\n",
    "***\n",
    "\n",
    "Rejecting the null hypothesis for $β_{rate\\_p\\_attr}$, $β_{rate\\_p\\_sinc}$, $β_{rate\\_p\\_intel}$, $β_{rate\\_p\\_fun}$, $β_{rate\\_p\\_amb}$, or $β_{prob}$ means the corresponding variable is a significant predictor in dating decisions for both female and male participants given other predictors in the model.\n",
    "\n",
    "Rejecting the null hypothesis for $β_{gender\\_p\\_attr}$, $β_{gender\\_p\\_sinc}$, $β_{gender\\_p\\_intel}$, $β_{gender\\_p\\_fun}$, $β_{gender\\_p\\_amb}$, or $β_{gender\\_prob}$ means how male participants evaluate the corresponding attribute in their dating decisions is significantly different from how female participants evaluate the corresponding attribute in their dating decisions.\n",
    "\n"
   ]
  },
  {
   "cell_type": "markdown",
   "id": "49819de6",
   "metadata": {},
   "source": [
    "# IV. Data Analysis"
   ]
  },
  {
   "cell_type": "markdown",
   "id": "bc4c5606",
   "metadata": {},
   "source": [
    "## Exploratory Analysis\n",
    "### About the participants\n",
    "\n",
    "We cared about how the sample was made up of regarding the demographics of participants because we wanted to be aware of sampling bias, which might hinder us from generalizing our model to certain different populations.\n",
    "\n",
    "We analyzed the distribution of participants' gender, age, race, field, and career (see \"About the Participants\" in appendix.ipynb). It turned out that the gender distribution of participants was quite balanced, which was good news. Participants who were between 20 and 35, who were in business-related fields or careers, and who were European/Caucasian-American were well represented in the sample. However, participants aged below 20 or above 35, Black/African American, Latino/Hispanic American, and international students, and majors like Fine Arts/Math/Architecture were underrepresented in the sample. One should be really careful about generalizing the resulting fitted model to these populations."
   ]
  },
  {
   "cell_type": "markdown",
   "id": "c053c23b",
   "metadata": {},
   "source": [
    "### About the variables"
   ]
  },
  {
   "cell_type": "markdown",
   "id": "8817d5eb",
   "metadata": {},
   "source": [
    "Now let's explore how female and male participants made dating decisions similarly or differently."
   ]
  },
  {
   "cell_type": "code",
   "execution_count": 19,
   "id": "2c0d0762",
   "metadata": {},
   "outputs": [
    {
     "name": "stdout",
     "output_type": "stream",
     "text": [
      "Overall mean of decision: 0.44\n",
      "Mean of decision by gender:\n",
      "gender_cd\n",
      "0    0.369\n",
      "1    0.511\n",
      "Name: decision, dtype: float64\n"
     ]
    }
   ],
   "source": [
    "print(\"Overall mean of decision:\", round(dating_df[\"decision\"].mean(),3))\n",
    "print(\"Mean of decision by gender:\")\n",
    "print(round(dating_df.groupby(\"gender_cd\")[\"decision\"].mean(),3))\n",
    "# Female = 0; Male = 1"
   ]
  },
  {
   "attachments": {},
   "cell_type": "markdown",
   "id": "7a4da708",
   "metadata": {},
   "source": [
    "The overall mean of decision is 0.44 – on average, participants said they would like to meet their datee again with a probability of 0.44. This implies that the response classes are balanced.\n",
    "\n",
    "On average, female participants were more selective than male participants. 36.9% of the time female participants expressed they would like to meet the male datee again while male participants said yes to the female datee 51.1% of the time. This confirms that women and men make dating decisions differently.\n",
    "\n",
    "***\n",
    "\n",
    "Now, let's see the distributions of the predictors by gender.\n",
    "\n",
    "Note: In the graphs below, for each bin, the grey area represents the gender with a lower frequency for the rating of interest. The rest of the bin would be colored orange if men give out the rating that the bin represents to their datees more frequently than women give out the rating to their datees, and it would be colored blue if the reverse is true."
   ]
  },
  {
   "cell_type": "code",
   "execution_count": 20,
   "id": "7e5a21b1",
   "metadata": {},
   "outputs": [
    {
     "data": {
      "image/png": "[encoded data removed]",
      "text/plain": [
       "<Figure size 1400x1100 with 6 Axes>"
      ]
     },
     "metadata": {},
     "output_type": "display_data"
    }
   ],
   "source": [
    "fig, axs = plt.subplots(ncols=3, nrows=2, figsize=(14,11))\n",
    "temp = dating_df\n",
    "temp['gender'] = temp[\"gender_cd\"].map({0:\"Female\", 1:\"Male\"})\n",
    "def draw_hist(numerical_var, bin_width, ax, title, x_title):\n",
    "    sns.histplot(data = temp, x = numerical_var, binwidth = bin_width, hue = \"gender\", ax = ax)\n",
    "    ax.set_title(title)\n",
    "    ax.set_xlabel(x_title)\n",
    "\n",
    "draw_hist(\"rate_p_attr\", 1, axs[0,0], \"Rate how attractive the datee is\", \"Rating\")\n",
    "draw_hist(\"rate_p_sinc\", 1, axs[0,1], \"Rate how sincere the datee is\", \"Rating\")\n",
    "draw_hist(\"rate_p_fun\", 1, axs[0,2], \"Rate how funny the datee is\", \"Rating\")\n",
    "draw_hist(\"rate_p_intel\", 1, axs[1,0], \"Rate how intelligent the datee is\", \"Rating\")\n",
    "draw_hist(\"rate_p_amb\", 1, axs[1,1], \"Rate how ambitious the datee is\", \"Rating\")\n",
    "draw_hist(\"prob\", 1, axs[1,2], \"Rate how probable the datee says yes\", \"Rating\")"
   ]
  },
  {
   "attachments": {},
   "cell_type": "markdown",
   "id": "1fa44c68",
   "metadata": {},
   "source": [
    "Overall, participants seldom gave low scores such as 1s or 2s when asked to rate their datees' several attributes. Interestingly, on average, male participants rated their female datees' attractiveness much higher than female participants rated male datees. Female participants rated their male datees' intelligence and ambition much higher than male participants rated female datees. \n",
    "\n",
    "Participants were also asked to rate how likely they felt their datee would be to say yes to them (1=not probable, 10=extremely probable). As shown in the sixth figure, the distribution is quite normal, meaning that most participants made a safe choice to avoid being overconfident or underconfident. However, it is hard to summarize the gender differences.\n",
    "\n",
    "Findings from these graphs encouraged us to include the interaction terms in our model so that we could examine the gender differences. And, as participants did give varying ratings for the attributes, they might be considering the attributes seriously when making dating decisions.\n",
    "\n",
    "***\n",
    "\n",
    "Now, let's explore how daters' ratings for datees are associated with the daters' decisions and detect potential differences between female and male participants."
   ]
  },
  {
   "cell_type": "code",
   "execution_count": 21,
   "id": "e81a0dd0",
   "metadata": {},
   "outputs": [
    {
     "name": "stdout",
     "output_type": "stream",
     "text": [
      "['rate_p_attr', 0.5, 0.45, 0.53]\n",
      "['rate_p_sinc', 0.22, 0.23, 0.2]\n",
      "['rate_p_fun', 0.41, 0.4, 0.42]\n",
      "['rate_p_intel', 0.21, 0.24, 0.22]\n",
      "['rate_p_amb', 0.18, 0.19, 0.22]\n",
      "['prob', 0.31, 0.29, 0.33]\n"
     ]
    }
   ],
   "source": [
    "female = dating_df[dating_df[\"gender_cd\"] == 0]\n",
    "male = dating_df[dating_df[\"gender_cd\"] == 1]\n",
    "for var in [\"rate_p_attr\", \"rate_p_sinc\", \"rate_p_fun\", \n",
    "            \"rate_p_intel\", \"rate_p_amb\", \"prob\"]:\n",
    "    print([var, round(np.corrcoef(dating_df[var], dating_df[\"decision\"])[0,1],2),\n",
    "           round(np.corrcoef(female[var], female[\"decision\"])[0,1],2), \n",
    "           round(np.corrcoef(male[var], male[\"decision\"])[0,1],2)])\n",
    "# Output format:\n",
    "# [var, correlation between var and decision for the whole sample, \n",
    "# correlation between var and decision for women, correlation between var and decision for men]"
   ]
  },
  {
   "cell_type": "markdown",
   "id": "28071eb0",
   "metadata": {},
   "source": [
    "It seems that \"rate_p_attr\" and \"rate_p_fun\" are more correlated with participants' decisions than the other attributes. Gender differences were obvious for rate_p_attr and prob and were present for the other variables. So we would include interaction terms between gender and each of the rating variables in our model."
   ]
  },
  {
   "cell_type": "markdown",
   "id": "2f59822c",
   "metadata": {},
   "source": [
    "## Modeling"
   ]
  },
  {
   "cell_type": "markdown",
   "id": "28b1e34f",
   "metadata": {},
   "source": [
    "Here are the major steps for our modeling phase:\n",
    "\n",
    "1. Create interaction terms.\n",
    "2. Split dating_df into training/test sets.\n",
    "3. Check assumptions for multivariate logistic regression on the training set.\n",
    "4. Fit a weighted logistic regression.\n",
    "5. **Interpret coefficients & discuss statistical significance for the full model.**\n",
    "6. Examine model performance on the test set.\n",
    "7. Perform backward stepwise selection based on p-value.\n",
    "8. **Interpret coefficients & discuss statistical significance for the reduced model.**\n",
    "9. Compare the reduced model to the full model through cross validation."
   ]
  },
  {
   "cell_type": "markdown",
   "id": "92f82154",
   "metadata": {},
   "source": [
    "### 1. Create interaction terms.\n",
    "\n",
    "The exploratory analysis gave us confidence in analyzing the gender differences in dating behaviors. So we would now create the interaction terms."
   ]
  },
  {
   "cell_type": "code",
   "execution_count": 22,
   "id": "72f34dd0",
   "metadata": {},
   "outputs": [],
   "source": [
    "# gender_cd 1 = Male; 0 = Female\n",
    "dating_df['gender_p_attr'] = dating_df[\"gender_cd\"]*dating_df[\"rate_p_attr\"] # gender_cd*rate_p_attr\n",
    "dating_df['gender_p_sinc'] = dating_df[\"gender_cd\"]*dating_df[\"rate_p_sinc\"] # gender_cd*rate_p_sinc\n",
    "dating_df['gender_p_intel'] = dating_df[\"gender_cd\"]*dating_df[\"rate_p_intel\"] # gender_cd*rate_p_intel\n",
    "dating_df['gender_p_fun'] = dating_df[\"gender_cd\"]*dating_df[\"rate_p_fun\"] # gender_cd*rate_p_fun\n",
    "dating_df['gender_p_amb'] = dating_df[\"gender_cd\"]*dating_df[\"rate_p_amb\"] # gender_cd*rate_p_amb\n",
    "dating_df['gender_prob'] = dating_df[\"gender_cd\"]*dating_df[\"prob\"] # gender_cd*prob\n",
    "\n",
    "X_vars = ['rate_p_attr', 'rate_p_intel', 'rate_p_fun', 'rate_p_amb', 'rate_p_sinc', 'prob',\n",
    "          'gender_p_attr', 'gender_p_intel', 'gender_p_fun', 'gender_p_amb', 'gender_p_sinc', 'gender_prob']"
   ]
  },
  {
   "cell_type": "markdown",
   "id": "336bcc5b",
   "metadata": {},
   "source": [
    "### 2. Split dating_df into training/test sets.\n",
    "\n",
    "Because we have 12 predictors, it is highly possible the resulting fitted model overfits the data. To know the resulting model's generalizability to new data, we implemented a training/test split.\n",
    "\n",
    "We used a 75%-25% split for the training and test sets here."
   ]
  },
  {
   "cell_type": "code",
   "execution_count": 23,
   "id": "adc6ee08",
   "metadata": {},
   "outputs": [
    {
     "name": "stdout",
     "output_type": "stream",
     "text": [
      "Shape of training set: (4125, 23)\n",
      "Shape of test set: (1375, 23)\n"
     ]
    }
   ],
   "source": [
    "SEED = 7777\n",
    "training_set, test_set = train_test_split(dating_df, test_size=.25, random_state = SEED)\n",
    "print(\"Shape of training set:\", training_set.shape)\n",
    "print(\"Shape of test set:\", test_set.shape)"
   ]
  },
  {
   "cell_type": "markdown",
   "id": "57ae0592",
   "metadata": {},
   "source": [
    "### 3. Check assumptions for multivariate logistic regression on the training set.\n",
    "\n",
    "Reference: see source 1 in References\n",
    "\n",
    "As we have multiple predictors and a binary response variable, we would use a multivariate logistic regression as our model. Now it's time to check the assumptions to understand whether the logistic regression would be a good choice. "
   ]
  },
  {
   "cell_type": "markdown",
   "id": "6a7f3ebe",
   "metadata": {},
   "source": [
    "#### (a) Independent observations\n",
    "\n",
    "\"Logistic regression assumes that the observations in the dataset are independent of each other. That is, the observations should not come from repeated measurements of the same individual or be related to each other in any way.\"\n",
    "\n",
    "However, we know for sure the observations are NOT independent because of how the data was created. For example, say the first row represents the date between Participant 1 and Participant 2, and the second row represents the date between Participant 1 and Participant 3. Then, the first two observations are dependent because the ratings (our explanatory variables) and the decision (our response variable) are given by the same person. They can take different values, but it is quite intuitive that the same participant's ratings and decisions towards different datees are dependent because of their unique rating/decision systems and other personal bias.\n",
    "\n",
    "Notice that some participants dated more people than others in the experiment. To ensure participants making more decisions are not over-weighted in the model (and therefore address the abovementioned problem), the researchers weighted each observation by the inverse of num_dates (number of datees the participant met in the event) in their paper. We will do the same here."
   ]
  },
  {
   "cell_type": "markdown",
   "id": "8e8343bd",
   "metadata": {},
   "source": [
    "#### (b) Absence of multicollinearity\n",
    "\n",
    "\"Multicollinearity occurs when two or more explanatory variables are highly correlated to each other, such that they do not provide unique or independent information in the regression model.\"\n",
    "\n",
    "We now check for this assumption with correlation coefficients."
   ]
  },
  {
   "cell_type": "code",
   "execution_count": 24,
   "id": "724eff1c",
   "metadata": {},
   "outputs": [
    {
     "data": {
      "text/html": [
       "<div>\n",
       "<style scoped>\n",
       "    .dataframe tbody tr th:only-of-type {\n",
       "        vertical-align: middle;\n",
       "    }\n",
       "\n",
       "    .dataframe tbody tr th {\n",
       "        vertical-align: top;\n",
       "    }\n",
       "\n",
       "    .dataframe thead th {\n",
       "        text-align: right;\n",
       "    }\n",
       "</style>\n",
       "<table border=\"1\" class=\"dataframe\">\n",
       "  <thead>\n",
       "    <tr style=\"text-align: right;\">\n",
       "      <th></th>\n",
       "      <th>rate_p_attr</th>\n",
       "      <th>rate_p_intel</th>\n",
       "      <th>rate_p_fun</th>\n",
       "      <th>rate_p_amb</th>\n",
       "      <th>rate_p_sinc</th>\n",
       "      <th>prob</th>\n",
       "    </tr>\n",
       "  </thead>\n",
       "  <tbody>\n",
       "    <tr>\n",
       "      <th>rate_p_attr</th>\n",
       "      <td>1.000000</td>\n",
       "      <td>0.371985</td>\n",
       "      <td>0.583317</td>\n",
       "      <td>0.350049</td>\n",
       "      <td>0.395924</td>\n",
       "      <td>0.268158</td>\n",
       "    </tr>\n",
       "    <tr>\n",
       "      <th>rate_p_intel</th>\n",
       "      <td>0.371985</td>\n",
       "      <td>1.000000</td>\n",
       "      <td>0.487512</td>\n",
       "      <td>0.626345</td>\n",
       "      <td>0.644546</td>\n",
       "      <td>0.276606</td>\n",
       "    </tr>\n",
       "    <tr>\n",
       "      <th>rate_p_fun</th>\n",
       "      <td>0.583317</td>\n",
       "      <td>0.487512</td>\n",
       "      <td>1.000000</td>\n",
       "      <td>0.501384</td>\n",
       "      <td>0.485123</td>\n",
       "      <td>0.384871</td>\n",
       "    </tr>\n",
       "    <tr>\n",
       "      <th>rate_p_amb</th>\n",
       "      <td>0.350049</td>\n",
       "      <td>0.626345</td>\n",
       "      <td>0.501384</td>\n",
       "      <td>1.000000</td>\n",
       "      <td>0.443016</td>\n",
       "      <td>0.279082</td>\n",
       "    </tr>\n",
       "    <tr>\n",
       "      <th>rate_p_sinc</th>\n",
       "      <td>0.395924</td>\n",
       "      <td>0.644546</td>\n",
       "      <td>0.485123</td>\n",
       "      <td>0.443016</td>\n",
       "      <td>1.000000</td>\n",
       "      <td>0.336371</td>\n",
       "    </tr>\n",
       "    <tr>\n",
       "      <th>prob</th>\n",
       "      <td>0.268158</td>\n",
       "      <td>0.276606</td>\n",
       "      <td>0.384871</td>\n",
       "      <td>0.279082</td>\n",
       "      <td>0.336371</td>\n",
       "      <td>1.000000</td>\n",
       "    </tr>\n",
       "  </tbody>\n",
       "</table>\n",
       "</div>"
      ],
      "text/plain": [
       "              rate_p_attr  rate_p_intel  rate_p_fun  rate_p_amb  rate_p_sinc  \\\n",
       "rate_p_attr      1.000000      0.371985    0.583317    0.350049     0.395924   \n",
       "rate_p_intel     0.371985      1.000000    0.487512    0.626345     0.644546   \n",
       "rate_p_fun       0.583317      0.487512    1.000000    0.501384     0.485123   \n",
       "rate_p_amb       0.350049      0.626345    0.501384    1.000000     0.443016   \n",
       "rate_p_sinc      0.395924      0.644546    0.485123    0.443016     1.000000   \n",
       "prob             0.268158      0.276606    0.384871    0.279082     0.336371   \n",
       "\n",
       "                  prob  \n",
       "rate_p_attr   0.268158  \n",
       "rate_p_intel  0.276606  \n",
       "rate_p_fun    0.384871  \n",
       "rate_p_amb    0.279082  \n",
       "rate_p_sinc   0.336371  \n",
       "prob          1.000000  "
      ]
     },
     "execution_count": 24,
     "metadata": {},
     "output_type": "execute_result"
    }
   ],
   "source": [
    "temp = training_set[['rate_p_attr', 'rate_p_intel', 'rate_p_fun', 'rate_p_amb', 'rate_p_sinc', 'prob']]\n",
    "temp.corr()"
   ]
  },
  {
   "cell_type": "markdown",
   "id": "ac5cbd85",
   "metadata": {},
   "source": [
    "There is no pair of explanatory variables with high correlation coefficient (e.g., > 0.7), so it seems the assumption is not violated."
   ]
  },
  {
   "cell_type": "markdown",
   "id": "75f926e9",
   "metadata": {},
   "source": [
    "#### (c) Lack of strongly influential outliers\n",
    "\n",
    "All the rating variables range from 1 to 10, and from their distribution graphs in the previous section, we observed no outliers. There are also no outliers for the interaction terms."
   ]
  },
  {
   "cell_type": "markdown",
   "id": "58399dd6",
   "metadata": {},
   "source": [
    "#### (d) Binary response"
   ]
  },
  {
   "cell_type": "code",
   "execution_count": 25,
   "id": "d8a02fb4",
   "metadata": {},
   "outputs": [
    {
     "data": {
      "text/plain": [
       "array([0, 1])"
      ]
     },
     "execution_count": 25,
     "metadata": {},
     "output_type": "execute_result"
    }
   ],
   "source": [
    "dating_df[\"decision\"].unique()"
   ]
  },
  {
   "cell_type": "markdown",
   "id": "9c0e96f6",
   "metadata": {},
   "source": [
    "Yes, it is binary."
   ]
  },
  {
   "cell_type": "markdown",
   "id": "06faa4e4",
   "metadata": {},
   "source": [
    "### 4. Fit a weighted logistic regression.\n",
    "\n",
    "Reference: source 2\n",
    "\n",
    "The data frame has a column called num_dates, recording how many dates the participant met in the speed dating event. However, as we removed rows with missing values in the cleaning phase and divided them into training and test sets, num_dates could become invalid. For example, say Participant 1's num_dates was originally 10, meaning there were ten rows with Participant 1 as the dater. After removing NaNs and doing the training/test split, say seven rows were remaining for Participant 1 in the training set. It is necessary to update num_dates accordingly so that we can calculate weights.\n",
    "\n",
    "1/num_dates gave the weights -- as the num_dates of the participant increases, each observation for the participant would be given a lower weight so that participants making more decisions are not over-weighted in the model."
   ]
  },
  {
   "cell_type": "code",
   "execution_count": 26,
   "id": "d9670187",
   "metadata": {},
   "outputs": [
    {
     "name": "stdout",
     "output_type": "stream",
     "text": [
      "                 Generalized Linear Model Regression Results                  \n",
      "==============================================================================\n",
      "Dep. Variable:               decision   No. Observations:                 4125\n",
      "Model:                            GLM   Df Residuals:                   257.74\n",
      "Model Family:                Binomial   Df Model:                           12\n",
      "Link Function:                  Logit   Scale:                          1.0000\n",
      "Method:                          IRLS   Log-Likelihood:                -135.29\n",
      "Date:                Sun, 14 Jan 2024   Deviance:                       270.58\n",
      "Time:                        22:35:39   Pearson chi2:                     275.\n",
      "No. Iterations:                     5   Pseudo R-squ. (CS):            0.02437\n",
      "Covariance Type:            nonrobust                                         \n",
      "==================================================================================\n",
      "                     coef    std err          z      P>|z|      [0.025      0.975]\n",
      "----------------------------------------------------------------------------------\n",
      "Intercept         -5.9374      1.049     -5.663      0.000      -7.992      -3.882\n",
      "rate_p_attr        0.4384      0.143      3.061      0.002       0.158       0.719\n",
      "rate_p_intel       0.1566      0.222      0.706      0.480      -0.278       0.591\n",
      "rate_p_fun         0.2457      0.155      1.584      0.113      -0.058       0.550\n",
      "rate_p_amb        -0.1301      0.173     -0.752      0.452      -0.469       0.209\n",
      "rate_p_sinc       -0.0500      0.176     -0.284      0.777      -0.395       0.295\n",
      "prob               0.2163      0.110      1.971      0.049       0.001       0.431\n",
      "gender_p_attr      0.3704      0.217      1.709      0.087      -0.054       0.795\n",
      "gender_p_intel    -0.1750      0.308     -0.569      0.569      -0.778       0.428\n",
      "gender_p_fun       0.0657      0.234      0.281      0.779      -0.392       0.524\n",
      "gender_p_amb      -0.0339      0.247     -0.137      0.891      -0.518       0.450\n",
      "gender_p_sinc     -0.2032      0.266     -0.763      0.446      -0.725       0.319\n",
      "gender_prob        0.1098      0.162      0.679      0.497      -0.207       0.427\n",
      "==================================================================================\n"
     ]
    }
   ],
   "source": [
    "# Re-calculate num_dates and create weights\n",
    "training_set[\"weight\"] = 0\n",
    "\n",
    "for _, row in training_set.iterrows():\n",
    "    row['num_dates'] = sum(training_set['id'] == row['id'])\n",
    "\n",
    "training_set[\"weight\"] = 1/training_set[\"num_dates\"]\n",
    "\n",
    "# Make the regression formula\n",
    "formula = \"decision ~ \"\n",
    "for var in X_vars:\n",
    "    formula = formula + var + \"+\"\n",
    "formula = formula[:-1]\n",
    "\n",
    "# Fit the model\n",
    "glm = smf.glm(formula,\n",
    "              data=training_set, \n",
    "              family=sm.families.Binomial(),\n",
    "              freq_weights=training_set['weight'])\n",
    "model = glm.fit()\n",
    "print(model.summary())"
   ]
  },
  {
   "cell_type": "markdown",
   "id": "bc665bba",
   "metadata": {},
   "source": [
    "### 5. Interpret coefficients & discuss statistical significance."
   ]
  },
  {
   "cell_type": "markdown",
   "id": "307effd5",
   "metadata": {},
   "source": [
    "Regression equation:\n",
    "\n",
    "$log(\\frac{P(X)}{1-P(X)})$ = $β_{0}$ + $β_{rate\\_p\\_attr}X_{rate\\_p\\_attr}$ + $β_{rate\\_p\\_intel}X_{rate\\_p\\_intel}$ + $β_{rate\\_p\\_fun}X_{rate\\_p\\_fun}$ + $β_{rate\\_p\\_amb}X_{rate\\_p\\_amb}$ + $β_{rate\\_p\\_sinc}X_{rate\\_p\\_sinc}$ + $β_{prob}X_{prob}$ + $β_{gender\\_p\\_attr}X_{gender\\_p\\_attr}$ + $β_{gender\\_p\\_intel}X_{gender\\_p\\_intel}$ + $β_{gender\\_p\\_fun}X_{gender\\_p\\_fun}$ + $β_{gender\\_p\\_amb}X_{gender\\_p\\_amb}$ + $β_{gender\\_p\\_sinc}X_{gender\\_p\\_sinc}$ + $β_{gender\\_prob}X_{gender\\_prob}$ + $\\epsilon$\n",
    "\n",
    "To help interpret the coefficients, let's write the regression equations for male and female participants separately.\n",
    "\n",
    "**For female participants:** $log(\\frac{P(X)}{1-P(X)})$ = $β_{0}$ + $β_{rate\\_p\\_attr}X_{rate\\_p\\_attr}$ + $β_{rate\\_p\\_intel}X_{rate\\_p\\_intel}$ + $β_{rate\\_p\\_fun}X_{rate\\_p\\_fun}$ + $β_{rate\\_p\\_amb}X_{rate\\_p\\_amb}$ + $β_{rate\\_p\\_sinc}X_{rate\\_p\\_sinc}$ + $β_{prob}X_{prob}$ + $\\epsilon$ \n",
    "- Because interaction terms all take zeros.\n",
    "\n",
    "**For male participants:** $log(\\frac{P(X)}{1-P(X)})$ = $β_{0}$ + $(β_{rate\\_p\\_attr}+β_{gender\\_p\\_attr})X_{rate\\_p\\_attr}$ + $(β_{rate\\_p\\_intel}+β_{gender\\_p\\_intel})X_{rate\\_p\\_intel}$ + $(β_{rate\\_p\\_fun}+β_{gender\\_p\\_fun})X_{rate\\_p\\_fun}$ + $(β_{rate\\_p\\_amb}+β_{gender\\_p\\_amb})X_{rate\\_p\\_amb}$ + $(β_{rate\\_p\\_sinc}+β_{gender\\_p\\_sinc})X_{rate\\_p\\_sinc}$ + $(β_{rate\\_prob}+β_{gender\\_prob})X_{rate\\_prob}$ + $\\epsilon$ \n",
    "- Because for men, $X_{rate\\_p\\_attr} = X_{gender\\_p\\_attr}$ and similarly for other variables.\n",
    " \n",
    "We will use a significance level of 0.1 ($\\alpha$ = 0.1)."
   ]
  },
  {
   "cell_type": "markdown",
   "id": "be6f26a3-6056-479c-bb53-2faa1d4d8258",
   "metadata": {},
   "source": [
    "#### Interpret the intercept:\n",
    "\n",
    "The estimated intercept, $b_{0}$, is -5.9374. It is statistically significant (p-value = 0.000 < 0.1). However, it is meaningless to interpret this intercept because rate_p_attr, rate_p_sinc, rate_p_amb, rate_p_intel, rate_p_fun, and prob would never take zero (they are ratings from 1 to 10). We should respect the experiment settings.\n",
    "\n",
    "#### Interpret rate_p_attr and gender_p_attr:\n",
    "- The estimated regression coefficient for rate_p_attr (rating for how attractive the datee is), $b_{rate\\_p\\_attr}$, is 0.4384.\n",
    "- The estimated regression coefficient for gender_p_attr (interaction term between gender and rate_p_attr), $b_{gender\\_p\\_attr}$, is 0.3704.\n",
    "- **For female participants:** Holding other variables, for a one-point increase in the dater's rating for the datee's attractiveness, we expect the odds of the dater's decision being yes to be multiplied by e^0.4384 = 1.55.\n",
    "- **For male participants:** Holding other variables, for a one-point increase in the dater's rating for the datee's attractiveness, we expect the odds of the dater's decision being yes to be multiplied by e^(0.4384+0.3704) = 2.25.\n",
    "- To summarize, when the dater gives a higher rating for the datee's attractiveness, their odds of saying yes to the datee increase on average. The increase is expected to be more obvious for a male dater than a female dater. **In plain words, both female and male participants prefer dates that are more attractive. Male participants consider the attractiveness of their date more highly than female participants do when making dating decisions.**\n",
    "- Both $b_{rate\\_p\\_attr}$ and $b_{gender\\_p\\_attr}$ are **statistically significant** (p-values 0.002, 0.087 < $\\alpha$). We reject the null hypotheses $β_{rate\\_p\\_attr}$ = 0 & $β_{gender\\_p\\_attr}$ = 0 given other variables in the model. We have convincing evidence for the alternative hypotheses $β_{rate\\_p\\_attr}$ != 0 & $β_{gender\\_p\\_attr}$ != 0 given other variables in the model. That is, we have convincing evidence for the abovementioned findings - attractiveness is a significant predictor for dating decisions & the gender difference is significant."
   ]
  },
  {
   "cell_type": "markdown",
   "id": "75a7c493-80f4-485d-af43-50890e645a7e",
   "metadata": {},
   "source": [
    "#### Interpret rate_p_intel and gender_p_intel:\n",
    "- The estimated regression coefficient for rate_p_intel (rating for how intelligent the datee is), $b_{rate\\_p\\_intel}$, is 0.1566.\n",
    "- The estimated regression coefficient for gender_p_intel (interaction term between gender and rate_p_intel), $b_{gender\\_p\\_intel}$, is -0.1750.\n",
    "- **For female participants:** Holding other variables, for a one-point increase in the dater's rating for the datee's intelligence, we expect the odds of the dater's decision being yes to be multiplied by e^0.1566 = 1.17.\n",
    "- **For male participants:** Holding other variables, for a one-point increase in the dater's rating for the datee's intelligence, we expect the odds of the dater's decision being yes to be multiplied by e^(0.1566-0.1750) = 0.98.\n",
    "- **In plain words, female participants prefer partners who are more intelligent than not on average. Male participants prefer partners who are less intelligent on average.**\n",
    "- Both $b_{rate\\_p\\_intel}$ and $b_{gender\\_p\\_intel}$ are **NOT statistically significant** (p-values 0.480, 0.569 > $\\alpha$). We FAIL TO REJECT the null hypotheses $β_{rate\\_p\\_intel}$ = 0 & $β_{gender\\_p\\_intel}$ = 0 given other variables in the model. We don't have convincing evidence for the abovementioned findings."
   ]
  },
  {
   "cell_type": "markdown",
   "id": "07c36e44-0967-4a94-bb32-999e0e3cf244",
   "metadata": {},
   "source": [
    "#### Interpret rate_p_fun and gender_p_fun:\n",
    "- $b_{rate\\_p\\_fun}$ = 0.2457 & $b_{gender\\_p\\_fun}$ = 0.0657. We can interpret these estimated coefficients just as the above two sessions.\n",
    "- **In plain words, both female and male participants prefer partners who are funnier. Male participants consider how funny their date is more highly than female participants do when making dating decisions.**\n",
    "- However, both $b_{rate\\_p\\_fun}$ and $b_{gender\\_p\\_fun}$ are **NOT statistically significant** (p-values > $\\alpha$). We FAIL TO REJECT the null hypotheses $β_{rate\\_p\\_fun}$ = 0 & $β_{gender\\_p\\_fun}$ = 0 given other variables in the model. We don't have convincing evidence for the abovementioned findings."
   ]
  },
  {
   "cell_type": "markdown",
   "id": "6911d55e-d4c9-4636-a556-90f2c4c9aaa8",
   "metadata": {},
   "source": [
    "#### Interpret rate_p_amb and gender_p_amb:\n",
    "- $b_{rate\\_p\\_amb}$ = -0.1301 & $b_{gender\\_p\\_amb}$ = -0.0339. We can interpret these estimated coefficients similarly to the above sessions.\n",
    "- **In plain words, both female and male participants prefer partners who are less ambitious. Male participants prefer even less ambitious dates than female participants do.**\n",
    "- Both $b_{rate\\_p\\_amb}$ and $b_{gender\\_p\\_amb}$ are **NOT statistically significant**. We FAIL TO REJECT the null hypotheses $β_{rate\\_p\\_amb}$ = 0 & $β_{gender\\_p\\_amb}$ = 0 given other variables in the model. We don't have convincing evidence for the abovementioned findings.\n",
    "- Notice that both estimated coefficients are negative, which might be a little counter-intuitive. There are two possible explanations: (1) Negative relationships are really the cases here; (2) Due to **multicollinearity**, the estimated coefficients might be inaccurate. Though we checked the pairwise correlation between predictors, multicollinearity might still be an issue. As both coefficients are not statistically significant, we would not try to determine which explanation is more reasonable."
   ]
  },
  {
   "cell_type": "markdown",
   "id": "a8649cf5-d32c-491f-9a4b-473bae155315",
   "metadata": {},
   "source": [
    "#### Interpret rate_p_sinc and gender_p_sinc:\n",
    "- $b_{rate\\_p\\_sinc}$ = -0.05 & $b_{gender\\_p\\_fun}$ = -0.2032. We can interpret these estimated coefficients just as the above two sessions.\n",
    "- **In plain words, both female and male participants prefer partners who are less sincere. Male participants prefer even less sincere dates than female participants do.**\n",
    "- However, both $b_{rate\\_p\\_sinc}$ and $b_{gender\\_p\\_sinc}$ are **NOT statistically significant** (p-values > $\\alpha$). We FAIL TO REJECT the null hypotheses $β_{rate\\_p\\_sinc}$ = 0 & $β_{gender\\_p\\_sinc}$ = 0 given other variables in the model. We don't have convincing evidence for the abovementioned findings.\n",
    "- Again the negative coefficients might be counter-intuitive, but we would not be worried too much because of their insignificance."
   ]
  },
  {
   "cell_type": "markdown",
   "id": "166b75fd-3d1b-4600-8a1b-a52e8a94a9ca",
   "metadata": {},
   "source": [
    "#### Interpret prob and gender_prob:\n",
    "- The estimated regression coefficient for prob (rating for how probable the datee says yes), $b_{prob}$, is 0.2163.\n",
    "- The estimated regression coefficient for gender_prob (interaction term between gender and prob), $b_{gender\\_prob}$, is 0.1098.\n",
    "- **For female participants:** Holding other variables, for a one-point increase in the dater's rating for how likely the datee says yes, we expect the odds of the dater's decision being yes to be multiplied by e^0.2163 = 1.24.\n",
    "- **For male participants:** Holding other variables, for a one-point increase in the dater's rating for how likely the datee says yes, we expect the odds of the dater's decision being yes to be multiplied by e^(0.2163+0.1098) = 1.39.\n",
    "- **To summarize, when the dater thinks their datee is more likely to say yes to them, their odds of saying yes to the datee increase on average. The increase is expected to be more obvious for a male dater than a female dater.**\n",
    "- **$b_{prob}$ is statistically significant** (p-value = 0.049 < $\\alpha$). We reject the null hypothesis $β_{prob}$ = 0 and have convincing evidence that the datee's decision would affect the dater's decision given other predictors in the model.\n",
    "- **$b_{gender\\_prob}$ is NOT statistically significant**. We FAIL TO REJECT the null hypothesis $β_{gender\\_prob}$ = 0 and don't have convincing evidence for the gender difference between how the datee's decision would affect the dater's decision."
   ]
  },
  {
   "cell_type": "markdown",
   "id": "87fea0ce-7128-44c7-94c2-d71defa2aed4",
   "metadata": {},
   "source": [
    "### Summary of findings\n",
    "\n",
    "1. Both female and male participants prefer more physically attractive datees. Male participants care even more about their datee's attractiveness than female participants.\n",
    "2. When participants think their datee is more likely to say yes to them, they would be more likely to say yes than say no to the datee.\n",
    "\n",
    "***"
   ]
  },
  {
   "cell_type": "markdown",
   "id": "bb45f2b4-52c0-412d-84cf-96a5cc88eb98",
   "metadata": {},
   "source": [
    "Now let's see the model's training accuracy."
   ]
  },
  {
   "cell_type": "code",
   "execution_count": 27,
   "id": "3e8fddbd",
   "metadata": {},
   "outputs": [
    {
     "name": "stdout",
     "output_type": "stream",
     "text": [
      "Training accuracy: 75.1\n"
     ]
    }
   ],
   "source": [
    "def eval(y_pred, y_actual, df):\n",
    "    accuracy = accuracy_score(y_pred, y_actual, sample_weight = df['weight'])\n",
    "    return(round(accuracy,3)*100)\n",
    "\n",
    "print(\"Training accuracy:\", eval(model.predict(training_set) > 0.5, training_set['decision'], training_set))"
   ]
  },
  {
   "cell_type": "markdown",
   "id": "9176efab-2283-48ff-9779-255d8876ffe0",
   "metadata": {},
   "source": [
    "75.1% of the samples were classified correctly for the training set. The model did fairly well on the training set.\n",
    "\n",
    "### 6. Examine model performance on the test set.\n",
    "\n",
    "Then, we evaluated the model's performance on the **test set** regarding accuracy. We only considered accuracy and not precision/recall/F1 scores because our data set is quite balanced (with an overall mean of decision being 0.44), and we were not particularly curious about false negatives or false positives."
   ]
  },
  {
   "cell_type": "code",
   "execution_count": 28,
   "id": "95089e50-6274-47c0-920b-dcd067e64322",
   "metadata": {},
   "outputs": [
    {
     "name": "stdout",
     "output_type": "stream",
     "text": [
      "Test accuracy: 75.5\n"
     ]
    }
   ],
   "source": [
    "# Re-calculate num_dates and create weights for test_set\n",
    "test_set[\"weight\"] = 0\n",
    "\n",
    "for _, row in test_set.iterrows():\n",
    "    row['num_dates'] = sum(test_set['id'] == row['id'])\n",
    "\n",
    "test_set[\"weight\"] = 1/test_set[\"num_dates\"]\n",
    "\n",
    "# Evaluate test accuracy\n",
    "print(\"Test accuracy:\", eval(model.predict(test_set) > 0.5, test_set['decision'], test_set))"
   ]
  },
  {
   "cell_type": "markdown",
   "id": "e7b191ea-3c59-4592-a473-ae2c129402d0",
   "metadata": {},
   "source": [
    "Interpretations: 75.5% of the instances in the test data were classified correctly. Interestingly, the test accuracy is higher than the training accuracy by 0.4%. We are not very worried about this because there are only two response classes, so there should be a place for randomness and chance.\n",
    "\n",
    "Later, we also performed repeated K-fold cross-validation to better understand the model's test accuracy."
   ]
  },
  {
   "cell_type": "markdown",
   "id": "5a637337",
   "metadata": {},
   "source": [
    "### 7. Perform backward stepwise selection based on the p-value.\n",
    "\n",
    "We have 12 predictors for the full model. However, most of the predictors do not seem statistically significant. Afraid of overfitting, we performed backward stepwise selection based on the p-value. In doing this, we aimed to find a smaller model with little or no test accuracy loss compared to the full model. A smaller model is easier to interpret and more generalizable to real-world scenarios. \n",
    "\n",
    "Reference: see source 3\n",
    "\n",
    "The explanatory variable with the highest p-value in the full model was gender_p_amb (0.891). Let's drop this variable and refit the model."
   ]
  },
  {
   "cell_type": "code",
   "execution_count": 29,
   "id": "99cf125f",
   "metadata": {},
   "outputs": [
    {
     "name": "stdout",
     "output_type": "stream",
     "text": [
      "                 Generalized Linear Model Regression Results                  \n",
      "==============================================================================\n",
      "Dep. Variable:               decision   No. Observations:                 4125\n",
      "Model:                            GLM   Df Residuals:                   258.74\n",
      "Model Family:                Binomial   Df Model:                           11\n",
      "Link Function:                  Logit   Scale:                          1.0000\n",
      "Method:                          IRLS   Log-Likelihood:                -135.30\n",
      "Date:                Sun, 14 Jan 2024   Deviance:                       270.60\n",
      "Time:                        22:35:39   Pearson chi2:                     275.\n",
      "No. Iterations:                     5   Pseudo R-squ. (CS):            0.02437\n",
      "Covariance Type:            nonrobust                                         \n",
      "==================================================================================\n",
      "                     coef    std err          z      P>|z|      [0.025      0.975]\n",
      "----------------------------------------------------------------------------------\n",
      "Intercept         -5.9376      1.049     -5.662      0.000      -7.993      -3.882\n",
      "rate_p_attr        0.4394      0.143      3.068      0.002       0.159       0.720\n",
      "rate_p_intel       0.1669      0.209      0.800      0.424      -0.242       0.576\n",
      "rate_p_fun         0.2497      0.153      1.636      0.102      -0.049       0.549\n",
      "rate_p_amb        -0.1468      0.124     -1.188      0.235      -0.389       0.095\n",
      "rate_p_sinc       -0.0498      0.176     -0.282      0.778      -0.396       0.296\n",
      "prob               0.2174      0.110      1.984      0.047       0.003       0.432\n",
      "gender_p_attr      0.3664      0.214      1.708      0.088      -0.054       0.787\n",
      "gender_p_intel    -0.1937      0.275     -0.703      0.482      -0.733       0.346\n",
      "gender_p_fun       0.0575      0.226      0.255      0.799      -0.385       0.500\n",
      "gender_p_sinc     -0.2027      0.266     -0.761      0.446      -0.725       0.319\n",
      "gender_prob        0.1069      0.160      0.667      0.505      -0.207       0.421\n",
      "==================================================================================\n"
     ]
    }
   ],
   "source": [
    "formula = \"decision ~ \"\n",
    "for var in X_vars:\n",
    "    if var != \"gender_p_amb\":\n",
    "        formula = formula + var + \"+\"\n",
    "formula = formula[:-1]\n",
    "\n",
    "glm = smf.glm(formula,\n",
    "              data=training_set, \n",
    "              family=sm.families.Binomial(),\n",
    "              freq_weights=training_set['weight'])\n",
    "model11 = glm.fit()\n",
    "print(model11.summary())"
   ]
  },
  {
   "cell_type": "code",
   "execution_count": 30,
   "id": "58f1d7ae",
   "metadata": {},
   "outputs": [
    {
     "name": "stdout",
     "output_type": "stream",
     "text": [
      "Test accuracy: 75.4\n"
     ]
    }
   ],
   "source": [
    "print(\"Test accuracy:\",eval(model11.predict(test_set) > 0.5, test_set['decision'], test_set))"
   ]
  },
  {
   "cell_type": "markdown",
   "id": "e1127c51",
   "metadata": {},
   "source": [
    "Then, we performed similar steps until all predictors in the model were statistically significant (p-value < $\\alpha$). Detailed implementation can be found in the Backward Stepwise Selection session in appendix.ipynb. Here, we provided a summary table for the results of the backward selection.\n",
    "\n",
    "The summary table has three columns. \"no_of_predictors\" is the number of predictors in the model for that specific step. \"predictors\" lists the predictors for each step. \"test_accuracy\" is the model's accuracy in predicting the test_set."
   ]
  },
  {
   "cell_type": "code",
   "execution_count": 31,
   "id": "fe3184c0-d50a-4fee-9db3-6c021cc52709",
   "metadata": {},
   "outputs": [],
   "source": [
    "training_set.to_csv(\"training.csv\", index=False)\n",
    "test_set.to_csv(\"test.csv\", index=False)"
   ]
  },
  {
   "cell_type": "code",
   "execution_count": 32,
   "id": "3b938d62-af3c-4456-b811-a66f3b4b8a13",
   "metadata": {},
   "outputs": [
    {
     "name": "stdout",
     "output_type": "stream",
     "text": [
      "   no_of_predictors  \\\n",
      "0                12   \n",
      "1                11   \n",
      "2                10   \n",
      "3                 9   \n",
      "4                 8   \n",
      "5                 7   \n",
      "6                 6   \n",
      "7                 5   \n",
      "\n",
      "                                                                                                                                         predictors  \\\n",
      "0  rate_p_attr+rate_p_intel+rate_p_fun+rate_p_amb+rate_p_sinc+prob+gender_p_attr+gender_p_intel+gender_p_fun+gender_p_amb+gender_p_sinc+gender_prob   \n",
      "1               rate_p_attr+rate_p_intel+rate_p_fun+rate_p_amb+rate_p_sinc+prob+gender_p_attr+gender_p_intel+gender_p_fun+gender_p_sinc+gender_prob   \n",
      "2                            rate_p_attr+rate_p_intel+rate_p_fun+rate_p_amb+rate_p_sinc+prob+gender_p_attr+gender_p_intel+gender_p_sinc+gender_prob   \n",
      "3                                        rate_p_attr+rate_p_intel+rate_p_fun+rate_p_amb+prob+gender_p_attr+gender_p_intel+gender_p_sinc+gender_prob   \n",
      "4                                                       rate_p_attr+rate_p_intel+rate_p_fun+rate_p_amb+prob+gender_p_attr+gender_p_sinc+gender_prob   \n",
      "5                                                                    rate_p_attr+rate_p_fun+rate_p_amb+prob+gender_p_attr+gender_p_sinc+gender_prob   \n",
      "6                                                                                rate_p_attr+rate_p_fun+rate_p_amb+prob+gender_p_attr+gender_p_sinc   \n",
      "7                                                                                           rate_p_attr+rate_p_fun+prob+gender_p_attr+gender_p_sinc   \n",
      "\n",
      "   test_accuracy  \n",
      "0           75.5  \n",
      "1           75.4  \n",
      "2           75.5  \n",
      "3           75.4  \n",
      "4           75.4  \n",
      "5           75.4  \n",
      "6           75.8  \n",
      "7           75.8  \n"
     ]
    }
   ],
   "source": [
    "pd.set_option('display.max_colwidth', 150)\n",
    "summary_df = pd.read_csv(\"summary.csv\")\n",
    "print(summary_df)"
   ]
  },
  {
   "cell_type": "markdown",
   "id": "5c47661e-9602-4d2f-9938-23f6f7a03024",
   "metadata": {},
   "source": [
    "After the backward stepwise selection, we got a 5-predictor model in which all predictors were statistically significant. The test accuracies ranged from 75.4% to 75.8% but were similar throughout the selection process. From the full model (test accuracy: 75.5%) to the reduced model (test accuracy: 75.8%), we did find a smaller model that was easier to interpret and also gained slightly higher test accuracy because it was less likely to overfit the data.\n",
    "\n",
    "Now, let's see the 5-predictor model in details."
   ]
  },
  {
   "cell_type": "code",
   "execution_count": 33,
   "id": "de83d4cb-3076-42cf-b2b2-2da047d95215",
   "metadata": {},
   "outputs": [
    {
     "name": "stdout",
     "output_type": "stream",
     "text": [
      "                 Generalized Linear Model Regression Results                  \n",
      "==============================================================================\n",
      "Dep. Variable:               decision   No. Observations:                 4125\n",
      "Model:                            GLM   Df Residuals:                   264.74\n",
      "Model Family:                Binomial   Df Model:                            5\n",
      "Link Function:                  Logit   Scale:                          1.0000\n",
      "Method:                          IRLS   Log-Likelihood:                -136.44\n",
      "Date:                Sun, 14 Jan 2024   Deviance:                       272.87\n",
      "Time:                        22:35:39   Pearson chi2:                     277.\n",
      "No. Iterations:                     5   Pseudo R-squ. (CS):            0.02383\n",
      "Covariance Type:            nonrobust                                         \n",
      "=================================================================================\n",
      "                    coef    std err          z      P>|z|      [0.025      0.975]\n",
      "---------------------------------------------------------------------------------\n",
      "Intercept        -6.0930      0.891     -6.836      0.000      -7.840      -4.346\n",
      "rate_p_attr       0.4277      0.124      3.450      0.001       0.185       0.671\n",
      "rate_p_fun        0.2344      0.106      2.204      0.028       0.026       0.443\n",
      "prob              0.2522      0.081      3.115      0.002       0.093       0.411\n",
      "gender_p_attr     0.3575      0.159      2.245      0.025       0.045       0.670\n",
      "gender_p_sinc    -0.2548      0.140     -1.815      0.069      -0.530       0.020\n",
      "=================================================================================\n"
     ]
    }
   ],
   "source": [
    "formula = \"decision~rate_p_attr+rate_p_fun+prob+gender_p_attr+gender_p_sinc\"\n",
    "glm = smf.glm(formula,\n",
    "              data=training_set, \n",
    "              family=sm.families.Binomial(),\n",
    "              freq_weights=training_set['weight'])\n",
    "model5 = glm.fit()\n",
    "print(model5.summary())"
   ]
  },
  {
   "cell_type": "markdown",
   "id": "74435071",
   "metadata": {},
   "source": [
    "### 8. Interpret coefficients & discuss statistical significance for the reduced model.\n",
    "\n",
    "- $b_{rate\\_p\\_attr}$, $b_{gender\\_p\\_attr}$, $b_{prob}$ given by the 5-predictor model are very similar to those given by the full model, indicating our previous findings are robust. They can be interpreted just as abovementioned, so we would not repeat the interpretations here.\n",
    "- We have two new statistically significant predictors - rate_p_fun and gender_p_sinc. This is not surprising because potential multicollinearity could confuse the model. Predictors that are not significant in the full model might become significant if some other predictors are removed from the model.\n",
    "\n",
    "#### Interpret $b_{rate\\_p\\_fun}$\n",
    "- **For both female and male participants:** holding other variables, for a one-point increase in the dater's rating for how funny the datee is, we expect the odds of the dater's decision being yes to be multiplied by e^(0.2344) = 1.26. **In plain words, participants prefer dates that are funnier than not.**\n",
    "- The coefficient is statistically significant (p-value = 0.028 < 0.1). We reject the null hypothesis $β_{rate\\_p\\_fun}$ = 0 given other variables in the model.\n",
    "\n",
    "#### Interpret $b_{gender\\_p\\_sinc}$\n",
    "- **For male participants:** holding other variables, for a one-point increase in the dater's rating for the datee's sincerity, we expect the odds of the dater's decision being yes to be multiplied by e^(-0.2548) = 0.78. **In plain words, male participants prefer dates that are less sincere.**\n",
    "- **For female participants:** Sincerity does not seem to be a significant determinant of their decisions.\n",
    "- The coefficient is statistically significant (p-value = 0.069 < 0.1). We reject the null hypothesis $β_{gender\\_p\\_sinc}$ = 0 given other variables in the model.\n",
    "- The negative coefficient might be **counter-intuitive**, and it has a p-value that would not lead to rejecting the null if we use a significance level of 0.05 instead. So, we should be very careful with this predictor, though the data and our modeling do support the negative relationship."
   ]
  },
  {
   "cell_type": "markdown",
   "id": "3c832585-d3e2-4ec9-8105-8018c6622e41",
   "metadata": {},
   "source": [
    "### 9. Compare the reduced model to the full model with cross validation."
   ]
  },
  {
   "cell_type": "markdown",
   "id": "610b52d7-b9d9-4d31-837e-7dd7a85f38e4",
   "metadata": {},
   "source": [
    "To better understand the performances of the full model and the reduced model, we used a repeated 5-fold cross-validation, which repeated 5-fold cross-validation 10 times with different randomization in each repetition.\n",
    "\n",
    "Reference: see source 4"
   ]
  },
  {
   "cell_type": "code",
   "execution_count": 34,
   "id": "dc6475e8-581f-458c-b7d1-1efe8579d6a2",
   "metadata": {},
   "outputs": [],
   "source": [
    "def repeated_cv(X_vars):\n",
    "\n",
    "    model = LogisticRegression(max_iter=1000)\n",
    "    cv = RepeatedKFold(n_splits=5, n_repeats=10, random_state=1000)\n",
    "\n",
    "    test_accuracies = []\n",
    "\n",
    "    for train_index, test_index in cv.split(dating_df):\n",
    "        train, test = dating_df.iloc[train_index].copy(), dating_df.iloc[test_index].copy()\n",
    "\n",
    "        # Calculate weights for training and test sets\n",
    "        train[\"weight\"] = 0\n",
    "        for _, row in train.iterrows():\n",
    "            row['num_dates'] = sum(train['id'] == row['id'])\n",
    "        train[\"weight\"] = 1/train[\"num_dates\"]\n",
    "\n",
    "        test[\"weight\"] = 0\n",
    "        for _, row in test.iterrows():\n",
    "            row['num_dates'] = sum(test['id'] == row['id'])\n",
    "        test[\"weight\"] = 1/test[\"num_dates\"]\n",
    "    \n",
    "        X_train, X_test = train[X_vars], test[X_vars]\n",
    "        y_train, y_test = train['decision'], test['decision']\n",
    "\n",
    "        # Fit the model\n",
    "        model.fit(X_train, y_train, sample_weight=train[\"weight\"])\n",
    "\n",
    "        # Make predictions on the test set\n",
    "        y_pred = model.predict(X_test)\n",
    "\n",
    "        # Calculate test accuracy\n",
    "        test_accuracy = accuracy_score(y_test, y_pred, sample_weight=test['weight'])\n",
    "        test_accuracies.append(test_accuracy)\n",
    "\n",
    "    return(round(np.mean(test_accuracies), 3)*100)"
   ]
  },
  {
   "cell_type": "code",
   "execution_count": 35,
   "id": "73897bce-d447-4dc1-a304-f3fe97c9968b",
   "metadata": {},
   "outputs": [
    {
     "name": "stdout",
     "output_type": "stream",
     "text": [
      "Repeated CV accuracy for the full model: 74.9%\n"
     ]
    }
   ],
   "source": [
    "# For the full model\n",
    "print(f\"Repeated CV accuracy for the full model: {repeated_cv(X_vars)}%\")"
   ]
  },
  {
   "cell_type": "code",
   "execution_count": 36,
   "id": "a32b7eca-e8f6-4d12-9c0b-447106704301",
   "metadata": {},
   "outputs": [
    {
     "name": "stdout",
     "output_type": "stream",
     "text": [
      "Repeated CV accuracy for the 5-predictor model: 74.8%\n"
     ]
    }
   ],
   "source": [
    "# For the reduced 5-predictor model\n",
    "X_vars_red = ['rate_p_attr', 'rate_p_fun', 'prob', 'gender_p_attr', 'gender_p_sinc']\n",
    "print(f\"Repeated CV accuracy for the 5-predictor model: {repeated_cv(X_vars_red)}%\")"
   ]
  },
  {
   "cell_type": "markdown",
   "id": "afec7aef-411f-4743-ad75-ff0ce0ee6d18",
   "metadata": {},
   "source": [
    "The repeated 5-fold CV accuracies (74.9%, 74.8%) were slightly lower than the test accuracies above (75.5%, 75.8%). Here the CV accuracy of the 12-predictor full model is 0.1% higher than the accuracy of the 5-predictor model. However, as they are very similar, we would still prefer a smaller model, which is easier to interpret and has all predictors being statistically significant."
   ]
  },
  {
   "cell_type": "markdown",
   "id": "8579c541",
   "metadata": {},
   "source": [
    "### References\n",
    "\n",
    "1. Assumptions for logistic regression: https://pubmed.ncbi.nlm.nih.gov/21996075/ & https://www.statology.org/assumptions-of-logistic-regression/\n",
    "\n",
    "2. Weighted logistic regression: https://www.statsmodels.org/dev/examples/notebooks/generated/glm_weights.html\n",
    "\n",
    "3. Backward stepwise selection based on p-value: https://towardsdatascience.com/backward-elimination-for-feature-selection-in-machine-learning-c6a3a8f8cef4\n",
    "\n",
    "4. Repeated k-fold cross-validation with Python: https://scikit-learn.org/stable/modules/generated/sklearn.model_selection.RepeatedKFold.html"
   ]
  },
  {
   "cell_type": "markdown",
   "id": "58074a55",
   "metadata": {},
   "source": [
    "# V. Conclusion"
   ]
  },
  {
   "cell_type": "markdown",
   "id": "30ac7d53",
   "metadata": {},
   "source": [
    "In this project, we delved into the intricate world of dating decision-making, particularly focusing on the gender differences observed during speed dating sessions. The analysis was grounded in a comprehensive dataset collected during speed dating experiments conducted from 2002 to 2004, providing a unique glimpse into individual decision dynamics.\n",
    "\n",
    "Our analysis found that both female and male participants prefer more physically attractive and funnier dates. Male participants care even more about the attractiveness of their dates than female participants. Male participants prefer less sincere dates. Moreover, when participants think their date is more likely to say yes to them, they would be more likely to say yes than say no to the date.\n",
    "\n",
    "The best model for predicting people's dating decisions has five predictors, mainly including people's ratings for how attractive and funny the date is. The model yielded a cross-validation test accuracy of 74.8% and performed well.\n",
    "\n",
    "Our study aims to illuminate the intricacies of people's dating behaviors, with a specific focus on uncovering potential gender differences. Through comprehensive analysis and exploration, we seek to contribute valuable insights into the dynamics of romantic interactions, fostering a deeper understanding of how individuals navigate the dating landscape and the factors that may influence their behaviors based on gender. This research has the potential to enhance our knowledge of social dynamics, contributing to broader discussions on relationships and paving the way for more informed perspectives on gender-related aspects of dating."
   ]
  },
  {
   "cell_type": "markdown",
   "id": "d677617b",
   "metadata": {},
   "source": [
    "# VI. Limitations\n"
   ]
  },
  {
   "cell_type": "markdown",
   "id": "dc7b2876",
   "metadata": {},
   "source": [
    "1. The dataset is relatively old as the speed dating experiment was conducted from 2002 to 2004. However, we value this data because the experimental design allows us to observe individual decisions directly rather than just final matches. We tried looking for new data, but most of them came from dating apps, where many variants that might affect dating decisions were less observable and hard to measure. Using this speed-dating dataset allows us to predict people's dating outcomes with more meaningful variants. But we do acknowledge people's dating behaviors have changed over time, and our model might be less generalizable to the newest generations.\n",
    "\n",
    "2. As previously mentioned, all participants in this study were drawn from the graduate and professional schools of Columbia University. The mean age of participants was 26.2, with an age range from 18 to 42. Consequently, our regression model may have limited generalizability to populations beyond this age range.\n",
    "\n",
    "3. In the experimental setup, researchers assumed that all participants were interested in dating individuals of the opposite sex and paired them accordingly. However, it's important to acknowledge the possibility that some participants may identify with the LGBTQ+ group. This assumption about pairing may not accurately represent the diversity of dating preferences, and it could render some data invalid."
   ]
  },
  {
   "cell_type": "markdown",
   "id": "68815f2a-e065-4d59-a327-39214c5444d6",
   "metadata": {},
   "source": [
    "# VII. Acknowledgments\n",
    "\n",
    "We would like to express our heartfelt appreciation to\n",
    "1. Charlie, our TA, for answering our questions and providing insightful suggestions throughout the project.\n",
    "2. Professor Koenecke, for providing feedback on our Phase 2. The detailed feedback provided during Phase 2 was instrumental in refining and improving the final project."
   ]
  }
 ],
 "metadata": {
  "kernelspec": {
   "display_name": "Python 3 (ipykernel)",
   "language": "python",
   "name": "python3"
  },
  "language_info": {
   "codemirror_mode": {
    "name": "ipython",
    "version": 3
   },
   "file_extension": ".py",
   "mimetype": "text/x-python",
   "name": "python",
   "nbconvert_exporter": "python",
   "pygments_lexer": "ipython3",
   "version": "3.11.5"
  },
  "vscode": {
   "interpreter": {
    "hash": "aee8b7b246df8f9039afb4144a1f6fd8d2ca17a180786b69acc140d282b71a49"
   }
  }
 },
 "nbformat": 4,
 "nbformat_minor": 5
}
