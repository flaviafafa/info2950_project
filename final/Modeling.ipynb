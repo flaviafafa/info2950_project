{
 "cells": [
  {
   "cell_type": "markdown",
   "id": "2d8c04f2",
   "metadata": {},
   "source": [
    "References:\n",
    "1. Train/validation/test splits in sklearn: https://datascience.stackexchange.com/questions/15135/train-test-validation-set-splitting-in-sklearn\n",
    "\n",
    "2. Assumptions for logistic regression:\n",
    "https://pubmed.ncbi.nlm.nih.gov/21996075/ & \n",
    "https://www.statology.org/assumptions-of-logistic-regression/\n",
    "\n",
    "3. Weighted logistic regression: https://www.statsmodels.org/dev/examples/notebooks/generated/glm_weights.html\n",
    "\n",
    "4. Backward stepwise selection based on p-value: https://towardsdatascience.com/backward-elimination-for-feature-selection-in-machine-learning-c6a3a8f8cef4"
   ]
  },
  {
   "cell_type": "code",
   "execution_count": 575,
   "id": "ab29ac64",
   "metadata": {},
   "outputs": [],
   "source": [
    "import numpy as np\n",
    "import pandas as pd\n",
    "import matplotlib.pyplot as plt\n",
    "import seaborn as sns\n",
    "import datetime\n",
    "from sklearn.linear_model import LinearRegression, LogisticRegression\n",
    "from sklearn.model_selection import train_test_split, KFold, cross_val_score\n",
    "import duckdb\n",
    "from statsmodels.api import Logit\n",
    "import statsmodels.api as sm\n",
    "import statsmodels.formula.api as smf"
   ]
  },
  {
   "cell_type": "code",
   "execution_count": 576,
   "id": "d4e79364",
   "metadata": {},
   "outputs": [],
   "source": [
    "main_df = pd.read_csv(\"dating_main.csv\")"
   ]
  },
  {
   "cell_type": "code",
   "execution_count": 577,
   "id": "0d5eb36b",
   "metadata": {},
   "outputs": [
    {
     "name": "stdout",
     "output_type": "stream",
     "text": [
      "(5585, 25)\n"
     ]
    },
    {
     "data": {
      "text/html": [
       "<div>\n",
       "<style scoped>\n",
       "    .dataframe tbody tr th:only-of-type {\n",
       "        vertical-align: middle;\n",
       "    }\n",
       "\n",
       "    .dataframe tbody tr th {\n",
       "        vertical-align: top;\n",
       "    }\n",
       "\n",
       "    .dataframe thead th {\n",
       "        text-align: right;\n",
       "    }\n",
       "</style>\n",
       "<table border=\"1\" class=\"dataframe\">\n",
       "  <thead>\n",
       "    <tr style=\"text-align: right;\">\n",
       "      <th></th>\n",
       "      <th>Unnamed: 0</th>\n",
       "      <th>id</th>\n",
       "      <th>gender</th>\n",
       "      <th>wave</th>\n",
       "      <th>num_dates</th>\n",
       "      <th>partner_id</th>\n",
       "      <th>age</th>\n",
       "      <th>field_cd</th>\n",
       "      <th>race</th>\n",
       "      <th>career_c</th>\n",
       "      <th>...</th>\n",
       "      <th>decision</th>\n",
       "      <th>rate_p_attr</th>\n",
       "      <th>rate_p_sinc</th>\n",
       "      <th>rate_p_intel</th>\n",
       "      <th>rate_p_fun</th>\n",
       "      <th>rate_p_amb</th>\n",
       "      <th>field</th>\n",
       "      <th>race_cd</th>\n",
       "      <th>career</th>\n",
       "      <th>gender_cd</th>\n",
       "    </tr>\n",
       "  </thead>\n",
       "  <tbody>\n",
       "    <tr>\n",
       "      <th>0</th>\n",
       "      <td>30</td>\n",
       "      <td>4</td>\n",
       "      <td>Female</td>\n",
       "      <td>1</td>\n",
       "      <td>10</td>\n",
       "      <td>11</td>\n",
       "      <td>23</td>\n",
       "      <td>1</td>\n",
       "      <td>European/Caucasian-American</td>\n",
       "      <td>1</td>\n",
       "      <td>...</td>\n",
       "      <td>0</td>\n",
       "      <td>4</td>\n",
       "      <td>10</td>\n",
       "      <td>8</td>\n",
       "      <td>5</td>\n",
       "      <td>8</td>\n",
       "      <td>Law</td>\n",
       "      <td>2</td>\n",
       "      <td>Lawyer</td>\n",
       "      <td>0</td>\n",
       "    </tr>\n",
       "    <tr>\n",
       "      <th>1</th>\n",
       "      <td>31</td>\n",
       "      <td>4</td>\n",
       "      <td>Female</td>\n",
       "      <td>1</td>\n",
       "      <td>10</td>\n",
       "      <td>12</td>\n",
       "      <td>23</td>\n",
       "      <td>1</td>\n",
       "      <td>European/Caucasian-American</td>\n",
       "      <td>1</td>\n",
       "      <td>...</td>\n",
       "      <td>0</td>\n",
       "      <td>8</td>\n",
       "      <td>7</td>\n",
       "      <td>8</td>\n",
       "      <td>10</td>\n",
       "      <td>7</td>\n",
       "      <td>Law</td>\n",
       "      <td>2</td>\n",
       "      <td>Lawyer</td>\n",
       "      <td>0</td>\n",
       "    </tr>\n",
       "    <tr>\n",
       "      <th>2</th>\n",
       "      <td>32</td>\n",
       "      <td>4</td>\n",
       "      <td>Female</td>\n",
       "      <td>1</td>\n",
       "      <td>10</td>\n",
       "      <td>13</td>\n",
       "      <td>23</td>\n",
       "      <td>1</td>\n",
       "      <td>European/Caucasian-American</td>\n",
       "      <td>1</td>\n",
       "      <td>...</td>\n",
       "      <td>0</td>\n",
       "      <td>4</td>\n",
       "      <td>7</td>\n",
       "      <td>8</td>\n",
       "      <td>8</td>\n",
       "      <td>6</td>\n",
       "      <td>Law</td>\n",
       "      <td>2</td>\n",
       "      <td>Lawyer</td>\n",
       "      <td>0</td>\n",
       "    </tr>\n",
       "    <tr>\n",
       "      <th>3</th>\n",
       "      <td>33</td>\n",
       "      <td>4</td>\n",
       "      <td>Female</td>\n",
       "      <td>1</td>\n",
       "      <td>10</td>\n",
       "      <td>14</td>\n",
       "      <td>23</td>\n",
       "      <td>1</td>\n",
       "      <td>European/Caucasian-American</td>\n",
       "      <td>1</td>\n",
       "      <td>...</td>\n",
       "      <td>1</td>\n",
       "      <td>8</td>\n",
       "      <td>10</td>\n",
       "      <td>7</td>\n",
       "      <td>10</td>\n",
       "      <td>7</td>\n",
       "      <td>Law</td>\n",
       "      <td>2</td>\n",
       "      <td>Lawyer</td>\n",
       "      <td>0</td>\n",
       "    </tr>\n",
       "    <tr>\n",
       "      <th>4</th>\n",
       "      <td>34</td>\n",
       "      <td>4</td>\n",
       "      <td>Female</td>\n",
       "      <td>1</td>\n",
       "      <td>10</td>\n",
       "      <td>15</td>\n",
       "      <td>23</td>\n",
       "      <td>1</td>\n",
       "      <td>European/Caucasian-American</td>\n",
       "      <td>1</td>\n",
       "      <td>...</td>\n",
       "      <td>0</td>\n",
       "      <td>6</td>\n",
       "      <td>9</td>\n",
       "      <td>8</td>\n",
       "      <td>9</td>\n",
       "      <td>8</td>\n",
       "      <td>Law</td>\n",
       "      <td>2</td>\n",
       "      <td>Lawyer</td>\n",
       "      <td>0</td>\n",
       "    </tr>\n",
       "  </tbody>\n",
       "</table>\n",
       "<p>5 rows × 25 columns</p>\n",
       "</div>"
      ],
      "text/plain": [
       "   Unnamed: 0  id  gender  wave  num_dates  partner_id  age  field_cd  \\\n",
       "0          30   4  Female     1         10          11   23         1   \n",
       "1          31   4  Female     1         10          12   23         1   \n",
       "2          32   4  Female     1         10          13   23         1   \n",
       "3          33   4  Female     1         10          14   23         1   \n",
       "4          34   4  Female     1         10          15   23         1   \n",
       "\n",
       "                          race  career_c  ...  decision  rate_p_attr  \\\n",
       "0  European/Caucasian-American         1  ...         0            4   \n",
       "1  European/Caucasian-American         1  ...         0            8   \n",
       "2  European/Caucasian-American         1  ...         0            4   \n",
       "3  European/Caucasian-American         1  ...         1            8   \n",
       "4  European/Caucasian-American         1  ...         0            6   \n",
       "\n",
       "   rate_p_sinc  rate_p_intel  rate_p_fun  rate_p_amb  field  race_cd   career  \\\n",
       "0           10             8           5           8    Law        2  Lawyer    \n",
       "1            7             8          10           7    Law        2  Lawyer    \n",
       "2            7             8           8           6    Law        2  Lawyer    \n",
       "3           10             7          10           7    Law        2  Lawyer    \n",
       "4            9             8           9           8    Law        2  Lawyer    \n",
       "\n",
       "   gender_cd  \n",
       "0          0  \n",
       "1          0  \n",
       "2          0  \n",
       "3          0  \n",
       "4          0  \n",
       "\n",
       "[5 rows x 25 columns]"
      ]
     },
     "execution_count": 577,
     "metadata": {},
     "output_type": "execute_result"
    }
   ],
   "source": [
    "print(main_df.shape)\n",
    "main_df.head()"
   ]
  },
  {
   "cell_type": "markdown",
   "id": "158c534f",
   "metadata": {},
   "source": [
    "## Main_df\n",
    "\n",
    "1. Split dating_df into training and test sets\n",
    "2. Check for assumptions for logit on the training set.\n",
    "3. Fit a logistic regression for dating_df using statsmodel (with 1/num_dates as weights!!!).\n",
    "4. Interpret coefficients & discuss statistical significance. Comment on gender difference\n",
    "5. Perform model selection: pick M0, …, Mp based on training error rate\n",
    "6. Then do cross-validation (because maybe it performs well on the training set but not the test set)\n"
   ]
  },
  {
   "cell_type": "markdown",
   "id": "83c62390",
   "metadata": {},
   "source": [
    "### 1. Create interaction terms"
   ]
  },
  {
   "cell_type": "code",
   "execution_count": 578,
   "id": "31092ff2",
   "metadata": {},
   "outputs": [],
   "source": [
    "# gender_cd 1 = Male; 0 = Female\n",
    "main_df['gender_p_attr'] = main_df[\"gender_cd\"] * main_df[\"rate_p_attr\"] # gender_cd*rate_p_attr\n",
    "main_df['gender_p_sinc'] = main_df[\"gender_cd\"] * main_df[\"rate_p_sinc\"] # gender_cd*rate_p_sinc\n",
    "main_df['gender_p_intel'] = main_df[\"gender_cd\"] * main_df[\"rate_p_intel\"] # gender_cd*rate_p_intel\n",
    "main_df['gender_p_fun'] = main_df[\"gender_cd\"] * main_df[\"rate_p_fun\"] # gender_cd*rate_p_fun\n",
    "main_df['gender_p_amb'] = main_df[\"gender_cd\"] * main_df[\"rate_p_amb\"] # gender_cd*rate_p_amb\n",
    "\n",
    "main_X_vars = ['rate_p_attr', 'rate_p_intel', 'rate_p_fun', 'rate_p_amb', 'rate_p_sinc', \n",
    "              'gender_p_attr', 'gender_p_intel', 'gender_p_fun', 'gender_p_amb', 'gender_p_sinc']"
   ]
  },
  {
   "cell_type": "markdown",
   "id": "4d7421d7",
   "metadata": {},
   "source": [
    "### 2. Split main_df into training/validation/test sets"
   ]
  },
  {
   "cell_type": "code",
   "execution_count": 579,
   "id": "a6c42003",
   "metadata": {},
   "outputs": [],
   "source": [
    "# 70% to training set; 15% to validation; 15% to test\n",
    "SEED = 7777\n",
    "main_train, main_val_and_test = train_test_split(main_df, test_size=.3, random_state = SEED)\n",
    "main_val, main_test = train_test_split(main_val_and_test, test_size=.5, random_state = SEED)\n",
    "# main_test = main_test.drop_duplicates(subset=['id'])\n",
    "# main_val = main_val.drop_duplicates(subset=['id'])\n",
    "\n",
    "# train: recalculate weight\n",
    "# test & val: drop duplicates\n",
    "\n",
    "# Reference: see source 1 in References"
   ]
  },
  {
   "cell_type": "code",
   "execution_count": 580,
   "id": "333f141d",
   "metadata": {},
   "outputs": [
    {
     "name": "stdout",
     "output_type": "stream",
     "text": [
      "(3909, 30)\n",
      "(838, 30)\n",
      "(838, 30)\n"
     ]
    }
   ],
   "source": [
    "print(main_train.shape)\n",
    "print(main_val.shape)\n",
    "print(main_test.shape)"
   ]
  },
  {
   "cell_type": "markdown",
   "id": "7745f957",
   "metadata": {},
   "source": [
    "From now on, focus on the training set."
   ]
  },
  {
   "cell_type": "markdown",
   "id": "b04c40c4",
   "metadata": {},
   "source": [
    "### 3. Check assumptions for multivariate logistic regression on the training set\n",
    "\n",
    "Reference: see source 2 in References"
   ]
  },
  {
   "cell_type": "markdown",
   "id": "f9c7faa3",
   "metadata": {},
   "source": [
    "#### (a) Independent observations\n",
    "\n",
    "\"Logistic regression assumes that the observations in the dataset are independent of each other. That is, the observations should not come from repeated measurements of the same individual or be related to each other in any way.\"\n",
    "\n",
    "One common way to check this assumption is to make a plot of residual vs the order of observations and investigate any non-random patterns. At this step we have not fitted the model, so we cannot make the plot yet.\n",
    "\n",
    "However, we know for sure the observations are NOT independent because of how the data was created. For example, say the first row represents the date between participant 1 and participant 2 and the second row represents the date between participant 1 and participant 3. Then the first two observations are dependent because the ratings, which are our explanatory variables, and the decision (our response variable) are given by the same person. They can take different values, but it is quite intuitive the same participant's ratings and decision towards different dates are dependent because of their unique rating/decision system and other personal bias.\n",
    "\n",
    "Notice that some participants dated more people than others in the experiment. To ensure participants making more decisions are not over-weighted in the model (and therefore address the abovementioned problem), the original paper weighted each observation by the inverse of num_dates (number of people the participant met in the event)."
   ]
  },
  {
   "cell_type": "markdown",
   "id": "e8f95ad9",
   "metadata": {},
   "source": [
    "#### (b) Absence of multicollinearity\n",
    "\n",
    "\"Multicollinearity occurs when two or more explanatory variables are highly correlated to each other, such that they do not provide unique or independent information in the regression model.\"\n",
    "\n",
    "We now check this assumption with correlation coefficients."
   ]
  },
  {
   "cell_type": "code",
   "execution_count": 581,
   "id": "fabad570",
   "metadata": {},
   "outputs": [
    {
     "data": {
      "text/html": [
       "<div>\n",
       "<style scoped>\n",
       "    .dataframe tbody tr th:only-of-type {\n",
       "        vertical-align: middle;\n",
       "    }\n",
       "\n",
       "    .dataframe tbody tr th {\n",
       "        vertical-align: top;\n",
       "    }\n",
       "\n",
       "    .dataframe thead th {\n",
       "        text-align: right;\n",
       "    }\n",
       "</style>\n",
       "<table border=\"1\" class=\"dataframe\">\n",
       "  <thead>\n",
       "    <tr style=\"text-align: right;\">\n",
       "      <th></th>\n",
       "      <th>rate_p_attr</th>\n",
       "      <th>rate_p_intel</th>\n",
       "      <th>rate_p_fun</th>\n",
       "      <th>rate_p_amb</th>\n",
       "      <th>rate_p_sinc</th>\n",
       "    </tr>\n",
       "  </thead>\n",
       "  <tbody>\n",
       "    <tr>\n",
       "      <th>rate_p_attr</th>\n",
       "      <td>1.000000</td>\n",
       "      <td>0.378713</td>\n",
       "      <td>0.592064</td>\n",
       "      <td>0.354465</td>\n",
       "      <td>0.401095</td>\n",
       "    </tr>\n",
       "    <tr>\n",
       "      <th>rate_p_intel</th>\n",
       "      <td>0.378713</td>\n",
       "      <td>1.000000</td>\n",
       "      <td>0.496378</td>\n",
       "      <td>0.616104</td>\n",
       "      <td>0.638001</td>\n",
       "    </tr>\n",
       "    <tr>\n",
       "      <th>rate_p_fun</th>\n",
       "      <td>0.592064</td>\n",
       "      <td>0.496378</td>\n",
       "      <td>1.000000</td>\n",
       "      <td>0.496977</td>\n",
       "      <td>0.501193</td>\n",
       "    </tr>\n",
       "    <tr>\n",
       "      <th>rate_p_amb</th>\n",
       "      <td>0.354465</td>\n",
       "      <td>0.616104</td>\n",
       "      <td>0.496977</td>\n",
       "      <td>1.000000</td>\n",
       "      <td>0.437044</td>\n",
       "    </tr>\n",
       "    <tr>\n",
       "      <th>rate_p_sinc</th>\n",
       "      <td>0.401095</td>\n",
       "      <td>0.638001</td>\n",
       "      <td>0.501193</td>\n",
       "      <td>0.437044</td>\n",
       "      <td>1.000000</td>\n",
       "    </tr>\n",
       "  </tbody>\n",
       "</table>\n",
       "</div>"
      ],
      "text/plain": [
       "              rate_p_attr  rate_p_intel  rate_p_fun  rate_p_amb  rate_p_sinc\n",
       "rate_p_attr      1.000000      0.378713    0.592064    0.354465     0.401095\n",
       "rate_p_intel     0.378713      1.000000    0.496378    0.616104     0.638001\n",
       "rate_p_fun       0.592064      0.496378    1.000000    0.496977     0.501193\n",
       "rate_p_amb       0.354465      0.616104    0.496977    1.000000     0.437044\n",
       "rate_p_sinc      0.401095      0.638001    0.501193    0.437044     1.000000"
      ]
     },
     "execution_count": 581,
     "metadata": {},
     "output_type": "execute_result"
    }
   ],
   "source": [
    "main_train_X = main_train[['rate_p_attr', 'rate_p_intel', 'rate_p_fun', 'rate_p_amb', 'rate_p_sinc']]\n",
    "main_train_X.corr()"
   ]
  },
  {
   "cell_type": "markdown",
   "id": "e88f1c4c",
   "metadata": {},
   "source": [
    "There is no pair of explanatory variables with high correlation coefficient (e.g., > 0.7), so it seems the assumption is not violated."
   ]
  },
  {
   "cell_type": "markdown",
   "id": "26a34813",
   "metadata": {},
   "source": [
    "#### (c) Lack of strongly influential outliers\n",
    "\n",
    "All the rating variables range from 1 to 10, and from their distribution graphs in EDA, we observe no outliers. All the interaction terms are binary, so there are no outliers."
   ]
  },
  {
   "cell_type": "markdown",
   "id": "9fe2c8d7",
   "metadata": {},
   "source": [
    "#### (d) Binary response"
   ]
  },
  {
   "cell_type": "code",
   "execution_count": 582,
   "id": "8b48bc2d",
   "metadata": {},
   "outputs": [
    {
     "data": {
      "text/plain": [
       "array([0, 1])"
      ]
     },
     "execution_count": 582,
     "metadata": {},
     "output_type": "execute_result"
    }
   ],
   "source": [
    "main_df[\"decision\"].unique()"
   ]
  },
  {
   "cell_type": "markdown",
   "id": "7f556f6d",
   "metadata": {},
   "source": [
    "Yes, it is binary."
   ]
  },
  {
   "cell_type": "markdown",
   "id": "06faa4e4",
   "metadata": {},
   "source": [
    "### 3. Fit a weighted logistic regression.\n",
    "\n",
    "Reference: source 3"
   ]
  },
  {
   "cell_type": "code",
   "execution_count": 583,
   "id": "72415d60",
   "metadata": {},
   "outputs": [
    {
     "name": "stdout",
     "output_type": "stream",
     "text": [
      "                 Generalized Linear Model Regression Results                  \n",
      "==============================================================================\n",
      "Dep. Variable:               decision   No. Observations:                 3909\n",
      "Model:                            GLM   Df Residuals:                   245.12\n",
      "Model Family:                Binomial   Df Model:                           10\n",
      "Link Function:                  Logit   Scale:                          1.0000\n",
      "Method:                          IRLS   Log-Likelihood:                -134.94\n",
      "Date:                Thu, 16 Nov 2023   Deviance:                       269.87\n",
      "Time:                        21:47:43   Pearson chi2:                     269.\n",
      "No. Iterations:                     5   Pseudo R-squ. (CS):            0.02066\n",
      "Covariance Type:            nonrobust                                         \n",
      "==================================================================================\n",
      "                     coef    std err          z      P>|z|      [0.025      0.975]\n",
      "----------------------------------------------------------------------------------\n",
      "Intercept         -5.1375      0.998     -5.150      0.000      -7.093      -3.182\n",
      "rate_p_attr        0.4326      0.146      2.968      0.003       0.147       0.718\n",
      "rate_p_intel       0.1658      0.211      0.785      0.433      -0.248       0.580\n",
      "rate_p_fun         0.2886      0.154      1.879      0.060      -0.012       0.590\n",
      "rate_p_amb        -0.1382      0.169     -0.819      0.413      -0.469       0.193\n",
      "rate_p_sinc       -0.0336      0.168     -0.200      0.842      -0.364       0.296\n",
      "gender_p_attr      0.3198      0.217      1.476      0.140      -0.105       0.744\n",
      "gender_p_intel    -0.1833      0.297     -0.617      0.538      -0.766       0.399\n",
      "gender_p_fun       0.0713      0.233      0.306      0.759      -0.385       0.528\n",
      "gender_p_amb       0.0041      0.242      0.017      0.986      -0.470       0.478\n",
      "gender_p_sinc     -0.1189      0.255     -0.467      0.640      -0.618       0.380\n",
      "==================================================================================\n"
     ]
    }
   ],
   "source": [
    "# re-calculate num_dates and create weights\n",
    "main_train[\"weight\"] = 0\n",
    "\n",
    "temp = []\n",
    "for _, row in main_train.iterrows():\n",
    "    row['num_dates'] = sum(main_train['id'] == row['id'])\n",
    "\n",
    "main_train[\"weight\"] = 1/main_train[\"num_dates\"]\n",
    "\n",
    "# make the regression formula\n",
    "formula = \"decision ~ \"\n",
    "for var in main_X_vars:\n",
    "    formula = formula + var + \"+\"\n",
    "formula = formula[:-1]\n",
    "\n",
    "# fit the model\n",
    "glm = smf.glm(formula,\n",
    "              data=main_train, \n",
    "              family=sm.families.Binomial(),\n",
    "              freq_weights=main_train['weight'])\n",
    "model = glm.fit()\n",
    "print(model.summary())"
   ]
  },
  {
   "cell_type": "code",
   "execution_count": 584,
   "id": "00e3aaca",
   "metadata": {},
   "outputs": [
    {
     "data": {
      "text/plain": [
       "0.262"
      ]
     },
     "execution_count": 584,
     "metadata": {},
     "output_type": "execute_result"
    }
   ],
   "source": [
    "# training error rate\n",
    "round(np.mean((model.predict(main_train[main_X_vars]) > 0.5) != main_train[\"decision\"]), 3)"
   ]
  },
  {
   "cell_type": "markdown",
   "id": "ef46730a",
   "metadata": {},
   "source": [
    "### 4. Interpret coefficients & discuss significance"
   ]
  },
  {
   "cell_type": "markdown",
   "id": "b24cf7f4",
   "metadata": {},
   "source": [
    "### 5. Backward stepwise selection based on p-value\n",
    "\n",
    "Reference: see source 4\n",
    "\n",
    "The explanatory variable with the highest p-value in the previous model was rate_p_sinc (0.913). Let's drop this variable and refit the model."
   ]
  },
  {
   "cell_type": "code",
   "execution_count": 585,
   "id": "86dbca30",
   "metadata": {},
   "outputs": [
    {
     "name": "stdout",
     "output_type": "stream",
     "text": [
      "                 Generalized Linear Model Regression Results                  \n",
      "==============================================================================\n",
      "Dep. Variable:               decision   No. Observations:                 3909\n",
      "Model:                            GLM   Df Residuals:                   246.12\n",
      "Model Family:                Binomial   Df Model:                            9\n",
      "Link Function:                  Logit   Scale:                          1.0000\n",
      "Method:                          IRLS   Log-Likelihood:                -134.96\n",
      "Date:                Thu, 16 Nov 2023   Deviance:                       269.91\n",
      "Time:                        21:47:43   Pearson chi2:                     269.\n",
      "No. Iterations:                     5   Pseudo R-squ. (CS):            0.02065\n",
      "Covariance Type:            nonrobust                                         \n",
      "==================================================================================\n",
      "                     coef    std err          z      P>|z|      [0.025      0.975]\n",
      "----------------------------------------------------------------------------------\n",
      "Intercept         -5.1562      0.994     -5.189      0.000      -7.104      -3.208\n",
      "rate_p_attr        0.4293      0.145      2.966      0.003       0.146       0.713\n",
      "rate_p_intel       0.1445      0.183      0.790      0.429      -0.214       0.503\n",
      "rate_p_fun         0.2834      0.151      1.872      0.061      -0.013       0.580\n",
      "rate_p_amb        -0.1392      0.169     -0.824      0.410      -0.470       0.192\n",
      "gender_p_attr      0.3241      0.216      1.503      0.133      -0.098       0.747\n",
      "gender_p_intel    -0.1612      0.276     -0.583      0.560      -0.703       0.381\n",
      "gender_p_fun       0.0768      0.231      0.332      0.740      -0.376       0.530\n",
      "gender_p_amb       0.0053      0.242      0.022      0.982      -0.469       0.479\n",
      "gender_p_sinc     -0.1520      0.193     -0.787      0.431      -0.531       0.227\n",
      "==================================================================================\n"
     ]
    }
   ],
   "source": [
    "formula = \"decision ~ \"\n",
    "for var in main_X_vars:\n",
    "    if var != \"rate_p_sinc\":\n",
    "        formula = formula + var + \"+\"\n",
    "formula = formula[:-1]\n",
    "\n",
    "glm = smf.glm(\n",
    "    formula,\n",
    "    data=main_train,\n",
    "    family=sm.families.Binomial(),\n",
    "    freq_weights=main_train['weight']\n",
    ")\n",
    "model9 = glm.fit()\n",
    "print(model9.summary())"
   ]
  },
  {
   "cell_type": "code",
   "execution_count": 586,
   "id": "08a31511",
   "metadata": {},
   "outputs": [
    {
     "data": {
      "text/plain": [
       "0.261"
      ]
     },
     "execution_count": 586,
     "metadata": {},
     "output_type": "execute_result"
    }
   ],
   "source": [
    "round(np.mean((model9.predict(main_train[main_X_vars]) > 0.5) != main_train[\"decision\"]), 3)"
   ]
  },
  {
   "cell_type": "markdown",
   "id": "8df7e5c4",
   "metadata": {},
   "source": [
    "Then drop gender_p_amb (p-value = 0.827)."
   ]
  },
  {
   "cell_type": "code",
   "execution_count": 587,
   "id": "3db1db0f",
   "metadata": {},
   "outputs": [
    {
     "name": "stdout",
     "output_type": "stream",
     "text": [
      "                 Generalized Linear Model Regression Results                  \n",
      "==============================================================================\n",
      "Dep. Variable:               decision   No. Observations:                 3909\n",
      "Model:                            GLM   Df Residuals:                   247.12\n",
      "Model Family:                Binomial   Df Model:                            8\n",
      "Link Function:                  Logit   Scale:                          1.0000\n",
      "Method:                          IRLS   Log-Likelihood:                -134.96\n",
      "Date:                Thu, 16 Nov 2023   Deviance:                       269.91\n",
      "Time:                        21:47:44   Pearson chi2:                     269.\n",
      "No. Iterations:                     5   Pseudo R-squ. (CS):            0.02065\n",
      "Covariance Type:            nonrobust                                         \n",
      "==================================================================================\n",
      "                     coef    std err          z      P>|z|      [0.025      0.975]\n",
      "----------------------------------------------------------------------------------\n",
      "Intercept         -5.1562      0.994     -5.189      0.000      -7.104      -3.209\n",
      "rate_p_attr        0.4290      0.144      2.977      0.003       0.147       0.711\n",
      "rate_p_intel       0.1429      0.167      0.854      0.393      -0.185       0.471\n",
      "rate_p_fun         0.2828      0.149      1.901      0.057      -0.009       0.574\n",
      "rate_p_amb        -0.1366      0.121     -1.127      0.260      -0.374       0.101\n",
      "gender_p_attr      0.3248      0.213      1.526      0.127      -0.092       0.742\n",
      "gender_p_intel    -0.1582      0.242     -0.654      0.513      -0.632       0.316\n",
      "gender_p_fun       0.0782      0.222      0.352      0.725      -0.357       0.514\n",
      "gender_p_sinc     -0.1520      0.193     -0.786      0.432      -0.531       0.227\n",
      "==================================================================================\n"
     ]
    }
   ],
   "source": [
    "formula = \"decision ~ \"\n",
    "for var in main_X_vars:\n",
    "    if var not in [\"rate_p_sinc\", \"gender_p_amb\"]:\n",
    "        formula = formula + var + \"+\"\n",
    "formula = formula[:-1]\n",
    "\n",
    "glm = smf.glm(\n",
    "    formula,\n",
    "    data=main_train,\n",
    "    family=sm.families.Binomial(),\n",
    "    freq_weights=main_train['weight']\n",
    ")\n",
    "model8 = glm.fit()\n",
    "print(model8.summary())"
   ]
  },
  {
   "cell_type": "code",
   "execution_count": 588,
   "id": "9e475ce0",
   "metadata": {},
   "outputs": [
    {
     "data": {
      "text/plain": [
       "0.261"
      ]
     },
     "execution_count": 588,
     "metadata": {},
     "output_type": "execute_result"
    }
   ],
   "source": [
    "round(np.mean((model8.predict(main_train[main_X_vars]) > 0.5) != main_train[\"decision\"]), 3)"
   ]
  },
  {
   "cell_type": "markdown",
   "id": "59362fe0",
   "metadata": {},
   "source": [
    "Then drop gender_p_fun."
   ]
  },
  {
   "cell_type": "code",
   "execution_count": 589,
   "id": "d8297151",
   "metadata": {},
   "outputs": [
    {
     "name": "stdout",
     "output_type": "stream",
     "text": [
      "                 Generalized Linear Model Regression Results                  \n",
      "==============================================================================\n",
      "Dep. Variable:               decision   No. Observations:                 3909\n",
      "Model:                            GLM   Df Residuals:                   248.12\n",
      "Model Family:                Binomial   Df Model:                            7\n",
      "Link Function:                  Logit   Scale:                          1.0000\n",
      "Method:                          IRLS   Log-Likelihood:                -135.02\n",
      "Date:                Thu, 16 Nov 2023   Deviance:                       270.04\n",
      "Time:                        21:47:44   Pearson chi2:                     268.\n",
      "No. Iterations:                     5   Pseudo R-squ. (CS):            0.02061\n",
      "Covariance Type:            nonrobust                                         \n",
      "==================================================================================\n",
      "                     coef    std err          z      P>|z|      [0.025      0.975]\n",
      "----------------------------------------------------------------------------------\n",
      "Intercept         -5.1650      0.994     -5.198      0.000      -7.112      -3.218\n",
      "rate_p_attr        0.4148      0.138      3.003      0.003       0.144       0.685\n",
      "rate_p_intel       0.1250      0.160      0.780      0.435      -0.189       0.439\n",
      "rate_p_fun         0.3164      0.115      2.750      0.006       0.091       0.542\n",
      "rate_p_amb        -0.1354      0.121     -1.117      0.264      -0.373       0.102\n",
      "gender_p_attr      0.3512      0.199      1.763      0.078      -0.039       0.742\n",
      "gender_p_intel    -0.1241      0.221     -0.561      0.575      -0.558       0.310\n",
      "gender_p_sinc     -0.1389      0.189     -0.736      0.462      -0.509       0.231\n",
      "==================================================================================\n"
     ]
    }
   ],
   "source": [
    "formula = \"decision ~ \"\n",
    "for var in main_X_vars:\n",
    "    if var not in [\"rate_p_sinc\", \"gender_p_amb\", \"gender_p_fun\"]:\n",
    "        formula = formula + var + \"+\"\n",
    "formula = formula[:-1]\n",
    "\n",
    "glm = smf.glm(\n",
    "    formula,\n",
    "    data=main_train,\n",
    "    family=sm.families.Binomial(),\n",
    "    freq_weights=main_train['weight'],\n",
    ")\n",
    "model7 = glm.fit()\n",
    "print(model7.summary())"
   ]
  },
  {
   "cell_type": "code",
   "execution_count": 590,
   "id": "9ed58a5e",
   "metadata": {},
   "outputs": [
    {
     "data": {
      "text/plain": [
       "0.262"
      ]
     },
     "execution_count": 590,
     "metadata": {},
     "output_type": "execute_result"
    }
   ],
   "source": [
    "round(np.mean((model7.predict(main_train[main_X_vars]) > 0.5) != main_train[\"decision\"]), 3)"
   ]
  },
  {
   "cell_type": "markdown",
   "id": "042aef08",
   "metadata": {},
   "source": [
    "Then drop gender_p_intel."
   ]
  },
  {
   "cell_type": "code",
   "execution_count": 591,
   "id": "69360847",
   "metadata": {},
   "outputs": [
    {
     "name": "stdout",
     "output_type": "stream",
     "text": [
      "                 Generalized Linear Model Regression Results                  \n",
      "==============================================================================\n",
      "Dep. Variable:               decision   No. Observations:                 3909\n",
      "Model:                            GLM   Df Residuals:                   249.12\n",
      "Model Family:                Binomial   Df Model:                            6\n",
      "Link Function:                  Logit   Scale:                          1.0000\n",
      "Method:                          IRLS   Log-Likelihood:                -135.18\n",
      "Date:                Thu, 16 Nov 2023   Deviance:                       270.36\n",
      "Time:                        21:47:44   Pearson chi2:                     270.\n",
      "No. Iterations:                     5   Pseudo R-squ. (CS):            0.02053\n",
      "Covariance Type:            nonrobust                                         \n",
      "=================================================================================\n",
      "                    coef    std err          z      P>|z|      [0.025      0.975]\n",
      "---------------------------------------------------------------------------------\n",
      "Intercept        -5.0860      0.980     -5.191      0.000      -7.006      -3.166\n",
      "rate_p_attr       0.4423      0.131      3.378      0.001       0.186       0.699\n",
      "rate_p_intel      0.0845      0.144      0.587      0.557      -0.198       0.367\n",
      "rate_p_fun        0.3197      0.115      2.776      0.005       0.094       0.545\n",
      "rate_p_amb       -0.1320      0.121     -1.090      0.276      -0.369       0.105\n",
      "gender_p_attr     0.2891      0.166      1.741      0.082      -0.036       0.615\n",
      "gender_p_sinc    -0.2075      0.145     -1.427      0.154      -0.493       0.078\n",
      "=================================================================================\n"
     ]
    }
   ],
   "source": [
    "formula = \"decision ~ \"\n",
    "for var in main_X_vars:\n",
    "    if var not in [\"rate_p_sinc\", \"gender_p_amb\", \"gender_p_fun\", \"gender_p_intel\"]:\n",
    "        formula = formula + var + \"+\"\n",
    "formula = formula[:-1]\n",
    "\n",
    "glm = smf.glm(\n",
    "    formula,\n",
    "    data=main_train,\n",
    "    family=sm.families.Binomial(),\n",
    "    freq_weights=main_train['weight'],\n",
    ")\n",
    "model6 = glm.fit()\n",
    "print(model6.summary())"
   ]
  },
  {
   "cell_type": "code",
   "execution_count": 592,
   "id": "14810431",
   "metadata": {},
   "outputs": [
    {
     "data": {
      "text/plain": [
       "0.262"
      ]
     },
     "execution_count": 592,
     "metadata": {},
     "output_type": "execute_result"
    }
   ],
   "source": [
    "round(np.mean((model6.predict(main_train[main_X_vars]) > 0.5) != main_train[\"decision\"]), 3)"
   ]
  },
  {
   "cell_type": "markdown",
   "id": "83d26f99",
   "metadata": {},
   "source": [
    "Then drop rate_p_intel."
   ]
  },
  {
   "cell_type": "code",
   "execution_count": 593,
   "id": "389736c9",
   "metadata": {
    "scrolled": true
   },
   "outputs": [
    {
     "name": "stdout",
     "output_type": "stream",
     "text": [
      "                 Generalized Linear Model Regression Results                  \n",
      "==============================================================================\n",
      "Dep. Variable:               decision   No. Observations:                 3909\n",
      "Model:                            GLM   Df Residuals:                   250.12\n",
      "Model Family:                Binomial   Df Model:                            5\n",
      "Link Function:                  Logit   Scale:                          1.0000\n",
      "Method:                          IRLS   Log-Likelihood:                -135.35\n",
      "Date:                Thu, 16 Nov 2023   Deviance:                       270.70\n",
      "Time:                        21:47:44   Pearson chi2:                     273.\n",
      "No. Iterations:                     5   Pseudo R-squ. (CS):            0.02045\n",
      "Covariance Type:            nonrobust                                         \n",
      "=================================================================================\n",
      "                    coef    std err          z      P>|z|      [0.025      0.975]\n",
      "---------------------------------------------------------------------------------\n",
      "Intercept        -4.8400      0.877     -5.517      0.000      -6.560      -3.120\n",
      "rate_p_attr       0.4565      0.129      3.528      0.000       0.203       0.710\n",
      "rate_p_fun        0.3316      0.114      2.916      0.004       0.109       0.554\n",
      "rate_p_amb       -0.1005      0.108     -0.927      0.354      -0.313       0.112\n",
      "gender_p_attr     0.2654      0.161      1.653      0.098      -0.049       0.580\n",
      "gender_p_sinc    -0.1869      0.141     -1.329      0.184      -0.463       0.089\n",
      "=================================================================================\n"
     ]
    }
   ],
   "source": [
    "formula = \"decision ~ \"\n",
    "for var in main_X_vars:\n",
    "    if var not in [\"rate_p_sinc\", \"gender_p_amb\", \"gender_p_fun\", \"gender_p_intel\", \"rate_p_intel\"]:\n",
    "        formula = formula + var + \"+\"\n",
    "formula = formula[:-1]\n",
    "\n",
    "glm = smf.glm(\n",
    "    formula,\n",
    "    data=main_train,\n",
    "    family=sm.families.Binomial(),\n",
    "    freq_weights=main_train['weight'],\n",
    ")\n",
    "model5 = glm.fit()\n",
    "print(model5.summary())"
   ]
  },
  {
   "cell_type": "code",
   "execution_count": 594,
   "id": "e6c04562",
   "metadata": {},
   "outputs": [
    {
     "data": {
      "text/plain": [
       "0.261"
      ]
     },
     "execution_count": 594,
     "metadata": {},
     "output_type": "execute_result"
    }
   ],
   "source": [
    "round(np.mean((model5.predict(main_train[main_X_vars]) > 0.5) != main_train[\"decision\"]), 3)"
   ]
  },
  {
   "cell_type": "code",
   "execution_count": 595,
   "id": "df3bf696",
   "metadata": {},
   "outputs": [
    {
     "name": "stdout",
     "output_type": "stream",
     "text": [
      "                 Generalized Linear Model Regression Results                  \n",
      "==============================================================================\n",
      "Dep. Variable:               decision   No. Observations:                 3909\n",
      "Model:                            GLM   Df Residuals:                   251.12\n",
      "Model Family:                Binomial   Df Model:                            4\n",
      "Link Function:                  Logit   Scale:                          1.0000\n",
      "Method:                          IRLS   Log-Likelihood:                -135.78\n",
      "Date:                Thu, 16 Nov 2023   Deviance:                       271.57\n",
      "Time:                        21:47:44   Pearson chi2:                     270.\n",
      "No. Iterations:                     5   Pseudo R-squ. (CS):            0.02023\n",
      "Covariance Type:            nonrobust                                         \n",
      "=================================================================================\n",
      "                    coef    std err          z      P>|z|      [0.025      0.975]\n",
      "---------------------------------------------------------------------------------\n",
      "Intercept        -5.1575      0.817     -6.316      0.000      -6.758      -3.557\n",
      "rate_p_attr       0.4347      0.126      3.446      0.001       0.187       0.682\n",
      "rate_p_fun        0.2928      0.105      2.800      0.005       0.088       0.498\n",
      "gender_p_attr     0.2841      0.159      1.787      0.074      -0.027       0.596\n",
      "gender_p_sinc    -0.1973      0.140     -1.411      0.158      -0.471       0.077\n",
      "=================================================================================\n"
     ]
    }
   ],
   "source": [
    "formula = \"decision ~ \"\n",
    "for var in main_X_vars:\n",
    "    if var not in [\"rate_p_sinc\", \"gender_p_amb\", \"gender_p_fun\", \"gender_p_intel\", \"rate_p_intel\", \"rate_p_amb\"]:\n",
    "        formula = formula + var + \"+\"\n",
    "formula = formula[:-1]\n",
    "\n",
    "glm = smf.glm(\n",
    "    formula,\n",
    "    data=main_train,\n",
    "    family=sm.families.Binomial(),\n",
    "    freq_weights=main_train['weight'],\n",
    ")\n",
    "model4 = glm.fit()\n",
    "print(model4.summary())"
   ]
  },
  {
   "cell_type": "code",
   "execution_count": 596,
   "id": "55295aa9",
   "metadata": {},
   "outputs": [
    {
     "data": {
      "text/plain": [
       "0.265"
      ]
     },
     "execution_count": 596,
     "metadata": {},
     "output_type": "execute_result"
    }
   ],
   "source": [
    "round(np.mean((model4.predict(main_train[main_X_vars]) > 0.5) != main_train[\"decision\"]), 3)"
   ]
  },
  {
   "cell_type": "code",
   "execution_count": 597,
   "id": "90103256",
   "metadata": {},
   "outputs": [
    {
     "name": "stdout",
     "output_type": "stream",
     "text": [
      "                 Generalized Linear Model Regression Results                  \n",
      "==============================================================================\n",
      "Dep. Variable:               decision   No. Observations:                 3909\n",
      "Model:                            GLM   Df Residuals:                   252.12\n",
      "Model Family:                Binomial   Df Model:                            3\n",
      "Link Function:                  Logit   Scale:                          1.0000\n",
      "Method:                          IRLS   Log-Likelihood:                -136.83\n",
      "Date:                Thu, 16 Nov 2023   Deviance:                       273.67\n",
      "Time:                        21:47:44   Pearson chi2:                     275.\n",
      "No. Iterations:                     5   Pseudo R-squ. (CS):            0.01970\n",
      "Covariance Type:            nonrobust                                         \n",
      "=================================================================================\n",
      "                    coef    std err          z      P>|z|      [0.025      0.975]\n",
      "---------------------------------------------------------------------------------\n",
      "Intercept        -5.4849      0.795     -6.898      0.000      -7.043      -3.926\n",
      "rate_p_attr       0.5193      0.114      4.550      0.000       0.296       0.743\n",
      "rate_p_fun        0.2572      0.101      2.552      0.011       0.060       0.455\n",
      "gender_p_attr     0.0692      0.044      1.556      0.120      -0.018       0.156\n",
      "=================================================================================\n"
     ]
    }
   ],
   "source": [
    "formula = \"decision ~ \"\n",
    "for var in main_X_vars:\n",
    "    if var not in [\"rate_p_sinc\", \"gender_p_amb\", \"gender_p_fun\", \"gender_p_intel\", \n",
    "                   \"rate_p_intel\", \"rate_p_amb\", \"gender_p_sinc\"]:\n",
    "        formula = formula + var + \"+\"\n",
    "formula = formula[:-1]\n",
    "\n",
    "glm = smf.glm(\n",
    "    formula,\n",
    "    data=main_train,\n",
    "    family=sm.families.Binomial(),\n",
    "    freq_weights=main_train['weight'],\n",
    ")\n",
    "model3 = glm.fit()\n",
    "print(model3.summary())"
   ]
  },
  {
   "cell_type": "markdown",
   "id": "ad23f65d",
   "metadata": {},
   "source": [
    "Now all the p-values < 0.1. So we stop. We are surprised the training error rates. Typically as the number of predictors decreases, the training error rate increases. But when we reduced the 10-predictor model all the way to this 3-predictor model, the training error rates fluctuated between about 0.255 to 0.26. Because the training error rates are really similar, there is no model that is noticeably better than the others in term of prediction power. Now we can use the validation set to test how these models perform on new data."
   ]
  },
  {
   "cell_type": "markdown",
   "id": "650241a3",
   "metadata": {},
   "source": [
    "6. Validation set"
   ]
  },
  {
   "cell_type": "code",
   "execution_count": 598,
   "id": "2ebae4ab",
   "metadata": {},
   "outputs": [],
   "source": [
    "main_val_X = main_val[main_X_vars]"
   ]
  },
  {
   "cell_type": "code",
   "execution_count": 599,
   "id": "e0d0d728",
   "metadata": {},
   "outputs": [
    {
     "data": {
      "text/plain": [
       "0.243"
      ]
     },
     "execution_count": 599,
     "metadata": {},
     "output_type": "execute_result"
    }
   ],
   "source": [
    "round(np.mean((model3.predict(main_val_X) > 0.5) != main_val[\"decision\"]), 3)"
   ]
  },
  {
   "cell_type": "code",
   "execution_count": 600,
   "id": "e34f3f34",
   "metadata": {},
   "outputs": [
    {
     "data": {
      "text/plain": [
       "0.247"
      ]
     },
     "execution_count": 600,
     "metadata": {},
     "output_type": "execute_result"
    }
   ],
   "source": [
    "round(np.mean((model4.predict(main_val_X) > 0.5) != main_val[\"decision\"]), 3)"
   ]
  },
  {
   "cell_type": "code",
   "execution_count": 601,
   "id": "6c48b590",
   "metadata": {},
   "outputs": [
    {
     "data": {
      "text/plain": [
       "0.243"
      ]
     },
     "execution_count": 601,
     "metadata": {},
     "output_type": "execute_result"
    }
   ],
   "source": [
    "round(np.mean((model5.predict(main_val_X) > 0.5) != main_val[\"decision\"]), 3)"
   ]
  },
  {
   "cell_type": "code",
   "execution_count": 602,
   "id": "5567a1a1",
   "metadata": {},
   "outputs": [
    {
     "data": {
      "text/plain": [
       "0.243"
      ]
     },
     "execution_count": 602,
     "metadata": {},
     "output_type": "execute_result"
    }
   ],
   "source": [
    "round(np.mean((model6.predict(main_val_X) > 0.5) != main_val[\"decision\"]), 3)"
   ]
  },
  {
   "cell_type": "code",
   "execution_count": 603,
   "id": "16e91721",
   "metadata": {},
   "outputs": [
    {
     "data": {
      "text/plain": [
       "0.241"
      ]
     },
     "execution_count": 603,
     "metadata": {},
     "output_type": "execute_result"
    }
   ],
   "source": [
    "round(np.mean((model7.predict(main_val_X) > 0.5) != main_val[\"decision\"]), 3)"
   ]
  },
  {
   "cell_type": "code",
   "execution_count": 604,
   "id": "0f612a3c",
   "metadata": {},
   "outputs": [
    {
     "data": {
      "text/plain": [
       "0.24"
      ]
     },
     "execution_count": 604,
     "metadata": {},
     "output_type": "execute_result"
    }
   ],
   "source": [
    "round(np.mean((model8.predict(main_val_X) > 0.5) != main_val[\"decision\"]), 3)"
   ]
  },
  {
   "cell_type": "code",
   "execution_count": 605,
   "id": "3ad07354",
   "metadata": {},
   "outputs": [
    {
     "data": {
      "text/plain": [
       "0.24"
      ]
     },
     "execution_count": 605,
     "metadata": {},
     "output_type": "execute_result"
    }
   ],
   "source": [
    "round(np.mean((model9.predict(main_val_X) > 0.5) != main_val[\"decision\"]), 3)"
   ]
  },
  {
   "cell_type": "code",
   "execution_count": 606,
   "id": "99524b75",
   "metadata": {},
   "outputs": [
    {
     "data": {
      "text/plain": [
       "0.239"
      ]
     },
     "execution_count": 606,
     "metadata": {},
     "output_type": "execute_result"
    }
   ],
   "source": [
    "round(np.mean((model.predict(main_val_X) > 0.5) != main_val[\"decision\"]), 3)"
   ]
  },
  {
   "cell_type": "markdown",
   "id": "a927fb63",
   "metadata": {},
   "source": [
    "The 3-predictor model did the best in fitting the validation set (smallest validation error). So we would choose it as our final model. Now let's test it one last time with the test set."
   ]
  },
  {
   "cell_type": "code",
   "execution_count": 607,
   "id": "bc0e6348",
   "metadata": {},
   "outputs": [
    {
     "data": {
      "text/plain": [
       "0.239"
      ]
     },
     "execution_count": 607,
     "metadata": {},
     "output_type": "execute_result"
    }
   ],
   "source": [
    "main_test_X = main_test[main_X_vars]\n",
    "round(np.mean((model3.predict(main_test_X) > 0.5) != main_test[\"decision\"]), 3)"
   ]
  },
  {
   "cell_type": "markdown",
   "id": "424da560",
   "metadata": {},
   "source": [
    "The 3-predictor model did even better on the test set than the training and validation sets."
   ]
  }
 ],
 "metadata": {
  "kernelspec": {
   "display_name": "Python 3 (ipykernel)",
   "language": "python",
   "name": "python3"
  },
  "language_info": {
   "codemirror_mode": {
    "name": "ipython",
    "version": 3
   },
   "file_extension": ".py",
   "mimetype": "text/x-python",
   "name": "python",
   "nbconvert_exporter": "python",
   "pygments_lexer": "ipython3",
   "version": "3.11.5"
  }
 },
 "nbformat": 4,
 "nbformat_minor": 5
}
